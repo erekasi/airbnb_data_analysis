{
 "cells": [
  {
   "cell_type": "markdown",
   "metadata": {},
   "source": [
    "# Project 1: Write a Data Science Blog Post\n",
    "#### Revised\n",
    "DSND Term 2 <br> <br>\n",
    "09/19/2020\n",
    "***\n",
    "***\n",
    "***"
   ]
  },
  {
   "cell_type": "markdown",
   "metadata": {},
   "source": [
    "## 1) &nbsp; &nbsp; Business understanding\n",
    "\n",
    "__Brief description:__<br>\n",
    "The project goal is to write a 'data science blog post' about Airbnb listings in Boston and Seattle that answers three questions. To meet the goal questions needs to be phrased and data analysis shall be conducted to answer the questions.\n",
    "\n",
    "__Questions:__\n",
    "1. To which extent is data available on listings of Boston and Seattle Aribnbs? Is there a significant difference in the availability of data for the two cities?\n",
    "2. Does more information provision correlate with more favorable outcomes for a host? E.g. better prices, more reviews or better review score values\n",
    "3. Are there significant differences between the two cities’ apartment offers?"
   ]
  },
  {
   "cell_type": "markdown",
   "metadata": {},
   "source": [
    "## 2) &nbsp; &nbsp; Data Understanding\n"
   ]
  },
  {
   "cell_type": "markdown",
   "metadata": {},
   "source": [
    "### 2.1) &nbsp; &nbsp; Access the data"
   ]
  },
  {
   "cell_type": "markdown",
   "metadata": {},
   "source": [
    "#### Import libraries"
   ]
  },
  {
   "cell_type": "code",
   "execution_count": 1,
   "metadata": {},
   "outputs": [],
   "source": [
    "# Import libraries\n",
    "import pandas as pd\n",
    "import numpy as np\n",
    "import matplotlib.pyplot as plt\n",
    "import matplotlib.patches as mpatches\n",
    "import seaborn as sns\n",
    "\n",
    "import time\n",
    "import os"
   ]
  },
  {
   "cell_type": "markdown",
   "metadata": {},
   "source": [
    "#### Setup working environment"
   ]
  },
  {
   "cell_type": "code",
   "execution_count": 2,
   "metadata": {},
   "outputs": [],
   "source": [
    "pd.set_option('display.max_columns', None)\n",
    "\n",
    "# To produce visualizations in notebook:\n",
    "%matplotlib inline\n",
    "\n",
    "os.chdir('/Users/erekasi/Documents/DA/002_DSND_Term-2/Project 1')\n",
    "start_full = time.time()"
   ]
  },
  {
   "cell_type": "markdown",
   "metadata": {},
   "source": [
    "#### Load the data"
   ]
  },
  {
   "cell_type": "code",
   "execution_count": 3,
   "metadata": {},
   "outputs": [],
   "source": [
    "# Seattle datasets\n",
    "dfs_cal=pd.read_csv('calendar_seattle.csv')\n",
    "dfs_lis=pd.read_csv('listings_seattle.csv')\n",
    "dfs_rev=pd.read_csv('reviews_seattle.csv')"
   ]
  },
  {
   "cell_type": "code",
   "execution_count": 4,
   "metadata": {},
   "outputs": [],
   "source": [
    "# Boston datasets\n",
    "dfb_cal=pd.read_csv('calendar_boston.csv')\n",
    "dfb_lis=pd.read_csv('listings_boston.csv')\n",
    "dfb_rev=pd.read_csv('reviews_boston.csv')"
   ]
  },
  {
   "cell_type": "markdown",
   "metadata": {},
   "source": [
    "### 2.2) &nbsp; &nbsp; Explore the data"
   ]
  },
  {
   "cell_type": "markdown",
   "metadata": {},
   "source": [
    "#### Size of the datasets"
   ]
  },
  {
   "cell_type": "code",
   "execution_count": 5,
   "metadata": {
    "scrolled": true
   },
   "outputs": [
    {
     "name": "stdout",
     "output_type": "stream",
     "text": [
      "Shape of calendar data on Seattle and Boston(rows, columns):  (1393570, 4)  &  (1308890, 4)\n",
      "Shape of listings data on Seattle and Boston(rows, columns):  (3818, 92)  &  (3585, 95)\n",
      "Shape of reviews data on Seattle and Boston(rows, columns):  (84849, 6)  &  (68275, 6)\n"
     ]
    }
   ],
   "source": [
    "#Size of the datasets\n",
    "print('Shape of calendar data on Seattle and Boston(rows, columns): ', dfs_cal.shape, ' & ', dfb_cal.shape)\n",
    "print('Shape of listings data on Seattle and Boston(rows, columns): ', dfs_lis.shape, ' & ', dfb_lis.shape)\n",
    "print('Shape of reviews data on Seattle and Boston(rows, columns): ', dfs_rev.shape, ' & ', dfb_rev.shape)"
   ]
  },
  {
   "cell_type": "markdown",
   "metadata": {},
   "source": [
    "> __Finding__:<br>\n",
    "Boston listings contains 3 more columns than Seattle's\n"
   ]
  },
  {
   "cell_type": "code",
   "execution_count": 6,
   "metadata": {},
   "outputs": [
    {
     "name": "stdout",
     "output_type": "stream",
     "text": [
      "Features only covered in the Boston dataset:  {'interaction', 'access', 'house_rules'}\n"
     ]
    }
   ],
   "source": [
    "#Check the difference in columns between the Boston and the Seattle listings datasets\n",
    "\n",
    "dfs_lis_cols = set(dfs_lis.columns)\n",
    "#print(dfs_lis_cols)\n",
    "\n",
    "dfb_lis_cols = set(dfb_lis.columns)\n",
    "df_lis_dif = dfb_lis_cols - dfs_lis_cols\n",
    "print('Features only covered in the Boston dataset: ', df_lis_dif)"
   ]
  },
  {
   "cell_type": "markdown",
   "metadata": {},
   "source": [
    "#### General information on the datasets"
   ]
  },
  {
   "cell_type": "markdown",
   "metadata": {},
   "source": [
    "-------- __On the reviews datasets__"
   ]
  },
  {
   "cell_type": "code",
   "execution_count": 7,
   "metadata": {},
   "outputs": [
    {
     "name": "stdout",
     "output_type": "stream",
     "text": [
      "<class 'pandas.core.frame.DataFrame'>\n",
      "RangeIndex: 68275 entries, 0 to 68274\n",
      "Data columns (total 6 columns):\n",
      "listing_id       68275 non-null int64\n",
      "id               68275 non-null int64\n",
      "date             68275 non-null object\n",
      "reviewer_id      68275 non-null int64\n",
      "reviewer_name    68275 non-null object\n",
      "comments         68222 non-null object\n",
      "dtypes: int64(3), object(3)\n",
      "memory usage: 3.1+ MB\n"
     ]
    }
   ],
   "source": [
    "# General information on Boston reviews\n",
    "dfb_rev.info()"
   ]
  },
  {
   "cell_type": "code",
   "execution_count": 8,
   "metadata": {},
   "outputs": [
    {
     "name": "stdout",
     "output_type": "stream",
     "text": [
      "<class 'pandas.core.frame.DataFrame'>\n",
      "RangeIndex: 84849 entries, 0 to 84848\n",
      "Data columns (total 6 columns):\n",
      "listing_id       84849 non-null int64\n",
      "id               84849 non-null int64\n",
      "date             84849 non-null object\n",
      "reviewer_id      84849 non-null int64\n",
      "reviewer_name    84849 non-null object\n",
      "comments         84831 non-null object\n",
      "dtypes: int64(3), object(3)\n",
      "memory usage: 3.9+ MB\n"
     ]
    }
   ],
   "source": [
    "# General information on Seattle reviews\n",
    "dfs_rev.info()"
   ]
  },
  {
   "cell_type": "markdown",
   "metadata": {},
   "source": [
    ">__Observations:__\n",
    ">- `Comments` column is not complete with data in either cases.\n",
    ">- IDs consist of numbers and are stored as integers. Reviews datasets can be connected to other datasets by `listing_id` and `reviewer_id`."
   ]
  },
  {
   "cell_type": "code",
   "execution_count": 9,
   "metadata": {
    "scrolled": true
   },
   "outputs": [
    {
     "name": "stdout",
     "output_type": "stream",
     "text": [
      "The earliest date in Boston reviews is  2009-03-21 \n",
      " The latest date in Boston reviews is  2016-09-06\n"
     ]
    }
   ],
   "source": [
    "print('The earliest date in Boston reviews is ', dfb_rev.date.min(), '\\n The latest date in Boston reviews is ', dfb_rev.date.max())"
   ]
  },
  {
   "cell_type": "code",
   "execution_count": 10,
   "metadata": {},
   "outputs": [
    {
     "name": "stdout",
     "output_type": "stream",
     "text": [
      "The earliest date in Seattle reviews is  2009-06-07 \n",
      " The latest date in Seattle reviews is  2016-01-03\n"
     ]
    }
   ],
   "source": [
    "print('The earliest date in Seattle reviews is ', dfs_rev.date.min(), '\\n The latest date in Seattle reviews is ', dfs_rev.date.max())"
   ]
  },
  {
   "cell_type": "markdown",
   "metadata": {},
   "source": [
    ">__Observation:__ Reviews for Boston and Seattle stem from a similar period of time, between 2009 and 2016."
   ]
  },
  {
   "cell_type": "code",
   "execution_count": 11,
   "metadata": {},
   "outputs": [
    {
     "data": {
      "text/html": [
       "<div>\n",
       "<style scoped>\n",
       "    .dataframe tbody tr th:only-of-type {\n",
       "        vertical-align: middle;\n",
       "    }\n",
       "\n",
       "    .dataframe tbody tr th {\n",
       "        vertical-align: top;\n",
       "    }\n",
       "\n",
       "    .dataframe thead th {\n",
       "        text-align: right;\n",
       "    }\n",
       "</style>\n",
       "<table border=\"1\" class=\"dataframe\">\n",
       "  <thead>\n",
       "    <tr style=\"text-align: right;\">\n",
       "      <th></th>\n",
       "      <th>listing_id</th>\n",
       "      <th>id</th>\n",
       "      <th>date</th>\n",
       "      <th>reviewer_id</th>\n",
       "      <th>reviewer_name</th>\n",
       "      <th>comments</th>\n",
       "    </tr>\n",
       "  </thead>\n",
       "  <tbody>\n",
       "    <tr>\n",
       "      <th>0</th>\n",
       "      <td>7202016</td>\n",
       "      <td>38917982</td>\n",
       "      <td>2015-07-19</td>\n",
       "      <td>28943674</td>\n",
       "      <td>Bianca</td>\n",
       "      <td>Cute and cozy place. Perfect location to every...</td>\n",
       "    </tr>\n",
       "    <tr>\n",
       "      <th>1</th>\n",
       "      <td>7202016</td>\n",
       "      <td>39087409</td>\n",
       "      <td>2015-07-20</td>\n",
       "      <td>32440555</td>\n",
       "      <td>Frank</td>\n",
       "      <td>Kelly has a great room in a very central locat...</td>\n",
       "    </tr>\n",
       "    <tr>\n",
       "      <th>2</th>\n",
       "      <td>7202016</td>\n",
       "      <td>39820030</td>\n",
       "      <td>2015-07-26</td>\n",
       "      <td>37722850</td>\n",
       "      <td>Ian</td>\n",
       "      <td>Very spacious apartment, and in a great neighb...</td>\n",
       "    </tr>\n",
       "  </tbody>\n",
       "</table>\n",
       "</div>"
      ],
      "text/plain": [
       "   listing_id        id        date  reviewer_id reviewer_name  \\\n",
       "0     7202016  38917982  2015-07-19     28943674        Bianca   \n",
       "1     7202016  39087409  2015-07-20     32440555         Frank   \n",
       "2     7202016  39820030  2015-07-26     37722850           Ian   \n",
       "\n",
       "                                            comments  \n",
       "0  Cute and cozy place. Perfect location to every...  \n",
       "1  Kelly has a great room in a very central locat...  \n",
       "2  Very spacious apartment, and in a great neighb...  "
      ]
     },
     "execution_count": 11,
     "metadata": {},
     "output_type": "execute_result"
    }
   ],
   "source": [
    "dfs_rev.head(3)"
   ]
  },
  {
   "cell_type": "code",
   "execution_count": 12,
   "metadata": {},
   "outputs": [
    {
     "data": {
      "text/html": [
       "<div>\n",
       "<style scoped>\n",
       "    .dataframe tbody tr th:only-of-type {\n",
       "        vertical-align: middle;\n",
       "    }\n",
       "\n",
       "    .dataframe tbody tr th {\n",
       "        vertical-align: top;\n",
       "    }\n",
       "\n",
       "    .dataframe thead th {\n",
       "        text-align: right;\n",
       "    }\n",
       "</style>\n",
       "<table border=\"1\" class=\"dataframe\">\n",
       "  <thead>\n",
       "    <tr style=\"text-align: right;\">\n",
       "      <th></th>\n",
       "      <th>listing_id</th>\n",
       "      <th>id</th>\n",
       "      <th>date</th>\n",
       "      <th>reviewer_id</th>\n",
       "      <th>reviewer_name</th>\n",
       "      <th>comments</th>\n",
       "    </tr>\n",
       "  </thead>\n",
       "  <tbody>\n",
       "    <tr>\n",
       "      <th>0</th>\n",
       "      <td>1178162</td>\n",
       "      <td>4724140</td>\n",
       "      <td>2013-05-21</td>\n",
       "      <td>4298113</td>\n",
       "      <td>Olivier</td>\n",
       "      <td>My stay at islam's place was really cool! Good...</td>\n",
       "    </tr>\n",
       "    <tr>\n",
       "      <th>1</th>\n",
       "      <td>1178162</td>\n",
       "      <td>4869189</td>\n",
       "      <td>2013-05-29</td>\n",
       "      <td>6452964</td>\n",
       "      <td>Charlotte</td>\n",
       "      <td>Great location for both airport and city - gre...</td>\n",
       "    </tr>\n",
       "    <tr>\n",
       "      <th>2</th>\n",
       "      <td>1178162</td>\n",
       "      <td>5003196</td>\n",
       "      <td>2013-06-06</td>\n",
       "      <td>6449554</td>\n",
       "      <td>Sebastian</td>\n",
       "      <td>We really enjoyed our stay at Islams house. Fr...</td>\n",
       "    </tr>\n",
       "  </tbody>\n",
       "</table>\n",
       "</div>"
      ],
      "text/plain": [
       "   listing_id       id        date  reviewer_id reviewer_name  \\\n",
       "0     1178162  4724140  2013-05-21      4298113       Olivier   \n",
       "1     1178162  4869189  2013-05-29      6452964     Charlotte   \n",
       "2     1178162  5003196  2013-06-06      6449554     Sebastian   \n",
       "\n",
       "                                            comments  \n",
       "0  My stay at islam's place was really cool! Good...  \n",
       "1  Great location for both airport and city - gre...  \n",
       "2  We really enjoyed our stay at Islams house. Fr...  "
      ]
     },
     "execution_count": 12,
     "metadata": {},
     "output_type": "execute_result"
    }
   ],
   "source": [
    "dfb_rev.head(3)"
   ]
  },
  {
   "cell_type": "markdown",
   "metadata": {},
   "source": [
    ">__Observation:__ `Comments` are of free text entries."
   ]
  },
  {
   "cell_type": "markdown",
   "metadata": {},
   "source": [
    "-------- __On the listings datasets__"
   ]
  },
  {
   "cell_type": "code",
   "execution_count": 13,
   "metadata": {},
   "outputs": [
    {
     "name": "stdout",
     "output_type": "stream",
     "text": [
      "<class 'pandas.core.frame.DataFrame'>\n",
      "RangeIndex: 3585 entries, 0 to 3584\n",
      "Data columns (total 95 columns):\n",
      "id                                  3585 non-null int64\n",
      "listing_url                         3585 non-null object\n",
      "scrape_id                           3585 non-null int64\n",
      "last_scraped                        3585 non-null object\n",
      "name                                3585 non-null object\n",
      "summary                             3442 non-null object\n",
      "space                               2528 non-null object\n",
      "description                         3585 non-null object\n",
      "experiences_offered                 3585 non-null object\n",
      "neighborhood_overview               2170 non-null object\n",
      "notes                               1610 non-null object\n",
      "transit                             2295 non-null object\n",
      "access                              2096 non-null object\n",
      "interaction                         2031 non-null object\n",
      "house_rules                         2393 non-null object\n",
      "thumbnail_url                       2986 non-null object\n",
      "medium_url                          2986 non-null object\n",
      "picture_url                         3585 non-null object\n",
      "xl_picture_url                      2986 non-null object\n",
      "host_id                             3585 non-null int64\n",
      "host_url                            3585 non-null object\n",
      "host_name                           3585 non-null object\n",
      "host_since                          3585 non-null object\n",
      "host_location                       3574 non-null object\n",
      "host_about                          2276 non-null object\n",
      "host_response_time                  3114 non-null object\n",
      "host_response_rate                  3114 non-null object\n",
      "host_acceptance_rate                3114 non-null object\n",
      "host_is_superhost                   3585 non-null object\n",
      "host_thumbnail_url                  3585 non-null object\n",
      "host_picture_url                    3585 non-null object\n",
      "host_neighbourhood                  3246 non-null object\n",
      "host_listings_count                 3585 non-null int64\n",
      "host_total_listings_count           3585 non-null int64\n",
      "host_verifications                  3585 non-null object\n",
      "host_has_profile_pic                3585 non-null object\n",
      "host_identity_verified              3585 non-null object\n",
      "street                              3585 non-null object\n",
      "neighbourhood                       3042 non-null object\n",
      "neighbourhood_cleansed              3585 non-null object\n",
      "neighbourhood_group_cleansed        0 non-null float64\n",
      "city                                3583 non-null object\n",
      "state                               3585 non-null object\n",
      "zipcode                             3547 non-null object\n",
      "market                              3571 non-null object\n",
      "smart_location                      3585 non-null object\n",
      "country_code                        3585 non-null object\n",
      "country                             3585 non-null object\n",
      "latitude                            3585 non-null float64\n",
      "longitude                           3585 non-null float64\n",
      "is_location_exact                   3585 non-null object\n",
      "property_type                       3582 non-null object\n",
      "room_type                           3585 non-null object\n",
      "accommodates                        3585 non-null int64\n",
      "bathrooms                           3571 non-null float64\n",
      "bedrooms                            3575 non-null float64\n",
      "beds                                3576 non-null float64\n",
      "bed_type                            3585 non-null object\n",
      "amenities                           3585 non-null object\n",
      "square_feet                         56 non-null float64\n",
      "price                               3585 non-null object\n",
      "weekly_price                        892 non-null object\n",
      "monthly_price                       888 non-null object\n",
      "security_deposit                    1342 non-null object\n",
      "cleaning_fee                        2478 non-null object\n",
      "guests_included                     3585 non-null int64\n",
      "extra_people                        3585 non-null object\n",
      "minimum_nights                      3585 non-null int64\n",
      "maximum_nights                      3585 non-null int64\n",
      "calendar_updated                    3585 non-null object\n",
      "has_availability                    0 non-null float64\n",
      "availability_30                     3585 non-null int64\n",
      "availability_60                     3585 non-null int64\n",
      "availability_90                     3585 non-null int64\n",
      "availability_365                    3585 non-null int64\n",
      "calendar_last_scraped               3585 non-null object\n",
      "number_of_reviews                   3585 non-null int64\n",
      "first_review                        2829 non-null object\n",
      "last_review                         2829 non-null object\n",
      "review_scores_rating                2772 non-null float64\n",
      "review_scores_accuracy              2762 non-null float64\n",
      "review_scores_cleanliness           2767 non-null float64\n",
      "review_scores_checkin               2765 non-null float64\n",
      "review_scores_communication         2767 non-null float64\n",
      "review_scores_location              2763 non-null float64\n",
      "review_scores_value                 2764 non-null float64\n",
      "requires_license                    3585 non-null object\n",
      "license                             0 non-null float64\n",
      "jurisdiction_names                  0 non-null float64\n",
      "instant_bookable                    3585 non-null object\n",
      "cancellation_policy                 3585 non-null object\n",
      "require_guest_profile_picture       3585 non-null object\n",
      "require_guest_phone_verification    3585 non-null object\n",
      "calculated_host_listings_count      3585 non-null int64\n",
      "reviews_per_month                   2829 non-null float64\n",
      "dtypes: float64(18), int64(15), object(62)\n",
      "memory usage: 2.6+ MB\n"
     ]
    }
   ],
   "source": [
    "#To see the full list of the listings datasets' features\n",
    "dfb_lis.info()"
   ]
  },
  {
   "cell_type": "markdown",
   "metadata": {},
   "source": [
    ">__Observation__: Several columns are fully empty in the Boston listings dataset: `neighbourhood_group_cleansed`, `has_availability`, `license`, and `jurisdtiction_names`"
   ]
  },
  {
   "cell_type": "code",
   "execution_count": 14,
   "metadata": {},
   "outputs": [
    {
     "name": "stdout",
     "output_type": "stream",
     "text": [
      "<class 'pandas.core.frame.DataFrame'>\n",
      "RangeIndex: 3818 entries, 0 to 3817\n",
      "Data columns (total 92 columns):\n",
      "id                                  3818 non-null int64\n",
      "listing_url                         3818 non-null object\n",
      "scrape_id                           3818 non-null int64\n",
      "last_scraped                        3818 non-null object\n",
      "name                                3818 non-null object\n",
      "summary                             3641 non-null object\n",
      "space                               3249 non-null object\n",
      "description                         3818 non-null object\n",
      "experiences_offered                 3818 non-null object\n",
      "neighborhood_overview               2786 non-null object\n",
      "notes                               2212 non-null object\n",
      "transit                             2884 non-null object\n",
      "thumbnail_url                       3498 non-null object\n",
      "medium_url                          3498 non-null object\n",
      "picture_url                         3818 non-null object\n",
      "xl_picture_url                      3498 non-null object\n",
      "host_id                             3818 non-null int64\n",
      "host_url                            3818 non-null object\n",
      "host_name                           3816 non-null object\n",
      "host_since                          3816 non-null object\n",
      "host_location                       3810 non-null object\n",
      "host_about                          2959 non-null object\n",
      "host_response_time                  3295 non-null object\n",
      "host_response_rate                  3295 non-null object\n",
      "host_acceptance_rate                3045 non-null object\n",
      "host_is_superhost                   3816 non-null object\n",
      "host_thumbnail_url                  3816 non-null object\n",
      "host_picture_url                    3816 non-null object\n",
      "host_neighbourhood                  3518 non-null object\n",
      "host_listings_count                 3816 non-null float64\n",
      "host_total_listings_count           3816 non-null float64\n",
      "host_verifications                  3818 non-null object\n",
      "host_has_profile_pic                3816 non-null object\n",
      "host_identity_verified              3816 non-null object\n",
      "street                              3818 non-null object\n",
      "neighbourhood                       3402 non-null object\n",
      "neighbourhood_cleansed              3818 non-null object\n",
      "neighbourhood_group_cleansed        3818 non-null object\n",
      "city                                3818 non-null object\n",
      "state                               3818 non-null object\n",
      "zipcode                             3811 non-null object\n",
      "market                              3818 non-null object\n",
      "smart_location                      3818 non-null object\n",
      "country_code                        3818 non-null object\n",
      "country                             3818 non-null object\n",
      "latitude                            3818 non-null float64\n",
      "longitude                           3818 non-null float64\n",
      "is_location_exact                   3818 non-null object\n",
      "property_type                       3817 non-null object\n",
      "room_type                           3818 non-null object\n",
      "accommodates                        3818 non-null int64\n",
      "bathrooms                           3802 non-null float64\n",
      "bedrooms                            3812 non-null float64\n",
      "beds                                3817 non-null float64\n",
      "bed_type                            3818 non-null object\n",
      "amenities                           3818 non-null object\n",
      "square_feet                         97 non-null float64\n",
      "price                               3818 non-null object\n",
      "weekly_price                        2009 non-null object\n",
      "monthly_price                       1517 non-null object\n",
      "security_deposit                    1866 non-null object\n",
      "cleaning_fee                        2788 non-null object\n",
      "guests_included                     3818 non-null int64\n",
      "extra_people                        3818 non-null object\n",
      "minimum_nights                      3818 non-null int64\n",
      "maximum_nights                      3818 non-null int64\n",
      "calendar_updated                    3818 non-null object\n",
      "has_availability                    3818 non-null object\n",
      "availability_30                     3818 non-null int64\n",
      "availability_60                     3818 non-null int64\n",
      "availability_90                     3818 non-null int64\n",
      "availability_365                    3818 non-null int64\n",
      "calendar_last_scraped               3818 non-null object\n",
      "number_of_reviews                   3818 non-null int64\n",
      "first_review                        3191 non-null object\n",
      "last_review                         3191 non-null object\n",
      "review_scores_rating                3171 non-null float64\n",
      "review_scores_accuracy              3160 non-null float64\n",
      "review_scores_cleanliness           3165 non-null float64\n",
      "review_scores_checkin               3160 non-null float64\n",
      "review_scores_communication         3167 non-null float64\n",
      "review_scores_location              3163 non-null float64\n",
      "review_scores_value                 3162 non-null float64\n",
      "requires_license                    3818 non-null object\n",
      "license                             0 non-null float64\n",
      "jurisdiction_names                  3818 non-null object\n",
      "instant_bookable                    3818 non-null object\n",
      "cancellation_policy                 3818 non-null object\n",
      "require_guest_profile_picture       3818 non-null object\n",
      "require_guest_phone_verification    3818 non-null object\n",
      "calculated_host_listings_count      3818 non-null int64\n",
      "reviews_per_month                   3191 non-null float64\n",
      "dtypes: float64(17), int64(13), object(62)\n",
      "memory usage: 2.7+ MB\n"
     ]
    }
   ],
   "source": [
    "dfs_lis.info()"
   ]
  },
  {
   "cell_type": "markdown",
   "metadata": {},
   "source": [
    ">__Observation:__ For the Seattle listings dataset, only the column `license` is fully empty."
   ]
  },
  {
   "cell_type": "code",
   "execution_count": 15,
   "metadata": {
    "scrolled": false
   },
   "outputs": [
    {
     "data": {
      "text/html": [
       "<div>\n",
       "<style scoped>\n",
       "    .dataframe tbody tr th:only-of-type {\n",
       "        vertical-align: middle;\n",
       "    }\n",
       "\n",
       "    .dataframe tbody tr th {\n",
       "        vertical-align: top;\n",
       "    }\n",
       "\n",
       "    .dataframe thead th {\n",
       "        text-align: right;\n",
       "    }\n",
       "</style>\n",
       "<table border=\"1\" class=\"dataframe\">\n",
       "  <thead>\n",
       "    <tr style=\"text-align: right;\">\n",
       "      <th></th>\n",
       "      <th>id</th>\n",
       "      <th>listing_url</th>\n",
       "      <th>scrape_id</th>\n",
       "      <th>last_scraped</th>\n",
       "      <th>name</th>\n",
       "      <th>summary</th>\n",
       "      <th>space</th>\n",
       "      <th>description</th>\n",
       "      <th>experiences_offered</th>\n",
       "      <th>neighborhood_overview</th>\n",
       "      <th>notes</th>\n",
       "      <th>transit</th>\n",
       "      <th>access</th>\n",
       "      <th>interaction</th>\n",
       "      <th>house_rules</th>\n",
       "      <th>thumbnail_url</th>\n",
       "      <th>medium_url</th>\n",
       "      <th>picture_url</th>\n",
       "      <th>xl_picture_url</th>\n",
       "      <th>host_id</th>\n",
       "      <th>host_url</th>\n",
       "      <th>host_name</th>\n",
       "      <th>host_since</th>\n",
       "      <th>host_location</th>\n",
       "      <th>host_about</th>\n",
       "      <th>host_response_time</th>\n",
       "      <th>host_response_rate</th>\n",
       "      <th>host_acceptance_rate</th>\n",
       "      <th>host_is_superhost</th>\n",
       "      <th>host_thumbnail_url</th>\n",
       "      <th>host_picture_url</th>\n",
       "      <th>host_neighbourhood</th>\n",
       "      <th>host_listings_count</th>\n",
       "      <th>host_total_listings_count</th>\n",
       "      <th>host_verifications</th>\n",
       "      <th>host_has_profile_pic</th>\n",
       "      <th>host_identity_verified</th>\n",
       "      <th>street</th>\n",
       "      <th>neighbourhood</th>\n",
       "      <th>neighbourhood_cleansed</th>\n",
       "      <th>neighbourhood_group_cleansed</th>\n",
       "      <th>city</th>\n",
       "      <th>state</th>\n",
       "      <th>zipcode</th>\n",
       "      <th>market</th>\n",
       "      <th>smart_location</th>\n",
       "      <th>country_code</th>\n",
       "      <th>country</th>\n",
       "      <th>latitude</th>\n",
       "      <th>longitude</th>\n",
       "      <th>is_location_exact</th>\n",
       "      <th>property_type</th>\n",
       "      <th>room_type</th>\n",
       "      <th>accommodates</th>\n",
       "      <th>bathrooms</th>\n",
       "      <th>bedrooms</th>\n",
       "      <th>beds</th>\n",
       "      <th>bed_type</th>\n",
       "      <th>amenities</th>\n",
       "      <th>square_feet</th>\n",
       "      <th>price</th>\n",
       "      <th>weekly_price</th>\n",
       "      <th>monthly_price</th>\n",
       "      <th>security_deposit</th>\n",
       "      <th>cleaning_fee</th>\n",
       "      <th>guests_included</th>\n",
       "      <th>extra_people</th>\n",
       "      <th>minimum_nights</th>\n",
       "      <th>maximum_nights</th>\n",
       "      <th>calendar_updated</th>\n",
       "      <th>has_availability</th>\n",
       "      <th>availability_30</th>\n",
       "      <th>availability_60</th>\n",
       "      <th>availability_90</th>\n",
       "      <th>availability_365</th>\n",
       "      <th>calendar_last_scraped</th>\n",
       "      <th>number_of_reviews</th>\n",
       "      <th>first_review</th>\n",
       "      <th>last_review</th>\n",
       "      <th>review_scores_rating</th>\n",
       "      <th>review_scores_accuracy</th>\n",
       "      <th>review_scores_cleanliness</th>\n",
       "      <th>review_scores_checkin</th>\n",
       "      <th>review_scores_communication</th>\n",
       "      <th>review_scores_location</th>\n",
       "      <th>review_scores_value</th>\n",
       "      <th>requires_license</th>\n",
       "      <th>license</th>\n",
       "      <th>jurisdiction_names</th>\n",
       "      <th>instant_bookable</th>\n",
       "      <th>cancellation_policy</th>\n",
       "      <th>require_guest_profile_picture</th>\n",
       "      <th>require_guest_phone_verification</th>\n",
       "      <th>calculated_host_listings_count</th>\n",
       "      <th>reviews_per_month</th>\n",
       "    </tr>\n",
       "  </thead>\n",
       "  <tbody>\n",
       "    <tr>\n",
       "      <th>0</th>\n",
       "      <td>12147973</td>\n",
       "      <td>https://www.airbnb.com/rooms/12147973</td>\n",
       "      <td>20160906204935</td>\n",
       "      <td>2016-09-07</td>\n",
       "      <td>Sunny Bungalow in the City</td>\n",
       "      <td>Cozy, sunny, family home.  Master bedroom high...</td>\n",
       "      <td>The house has an open and cozy feel at the sam...</td>\n",
       "      <td>Cozy, sunny, family home.  Master bedroom high...</td>\n",
       "      <td>none</td>\n",
       "      <td>Roslindale is quiet, convenient and friendly. ...</td>\n",
       "      <td>NaN</td>\n",
       "      <td>The bus stop is 2 blocks away, and frequent. B...</td>\n",
       "      <td>You will have access to 2 bedrooms, a living r...</td>\n",
       "      <td>NaN</td>\n",
       "      <td>Clean up and treat the home the way you'd like...</td>\n",
       "      <td>https://a2.muscache.com/im/pictures/c0842db1-e...</td>\n",
       "      <td>https://a2.muscache.com/im/pictures/c0842db1-e...</td>\n",
       "      <td>https://a2.muscache.com/im/pictures/c0842db1-e...</td>\n",
       "      <td>https://a2.muscache.com/im/pictures/c0842db1-e...</td>\n",
       "      <td>31303940</td>\n",
       "      <td>https://www.airbnb.com/users/show/31303940</td>\n",
       "      <td>Virginia</td>\n",
       "      <td>2015-04-15</td>\n",
       "      <td>Boston, Massachusetts, United States</td>\n",
       "      <td>We are country and city connecting in our deck...</td>\n",
       "      <td>NaN</td>\n",
       "      <td>NaN</td>\n",
       "      <td>NaN</td>\n",
       "      <td>f</td>\n",
       "      <td>https://a2.muscache.com/im/pictures/5936fef0-b...</td>\n",
       "      <td>https://a2.muscache.com/im/pictures/5936fef0-b...</td>\n",
       "      <td>Roslindale</td>\n",
       "      <td>1</td>\n",
       "      <td>1</td>\n",
       "      <td>['email', 'phone', 'facebook', 'reviews']</td>\n",
       "      <td>t</td>\n",
       "      <td>f</td>\n",
       "      <td>Birch Street, Boston, MA 02131, United States</td>\n",
       "      <td>Roslindale</td>\n",
       "      <td>Roslindale</td>\n",
       "      <td>NaN</td>\n",
       "      <td>Boston</td>\n",
       "      <td>MA</td>\n",
       "      <td>02131</td>\n",
       "      <td>Boston</td>\n",
       "      <td>Boston, MA</td>\n",
       "      <td>US</td>\n",
       "      <td>United States</td>\n",
       "      <td>42.282619</td>\n",
       "      <td>-71.133068</td>\n",
       "      <td>t</td>\n",
       "      <td>House</td>\n",
       "      <td>Entire home/apt</td>\n",
       "      <td>4</td>\n",
       "      <td>1.5</td>\n",
       "      <td>2.0</td>\n",
       "      <td>3.0</td>\n",
       "      <td>Real Bed</td>\n",
       "      <td>{TV,\"Wireless Internet\",Kitchen,\"Free Parking ...</td>\n",
       "      <td>NaN</td>\n",
       "      <td>$250.00</td>\n",
       "      <td>NaN</td>\n",
       "      <td>NaN</td>\n",
       "      <td>NaN</td>\n",
       "      <td>$35.00</td>\n",
       "      <td>1</td>\n",
       "      <td>$0.00</td>\n",
       "      <td>2</td>\n",
       "      <td>1125</td>\n",
       "      <td>2 weeks ago</td>\n",
       "      <td>NaN</td>\n",
       "      <td>0</td>\n",
       "      <td>0</td>\n",
       "      <td>0</td>\n",
       "      <td>0</td>\n",
       "      <td>2016-09-06</td>\n",
       "      <td>0</td>\n",
       "      <td>NaN</td>\n",
       "      <td>NaN</td>\n",
       "      <td>NaN</td>\n",
       "      <td>NaN</td>\n",
       "      <td>NaN</td>\n",
       "      <td>NaN</td>\n",
       "      <td>NaN</td>\n",
       "      <td>NaN</td>\n",
       "      <td>NaN</td>\n",
       "      <td>f</td>\n",
       "      <td>NaN</td>\n",
       "      <td>NaN</td>\n",
       "      <td>f</td>\n",
       "      <td>moderate</td>\n",
       "      <td>f</td>\n",
       "      <td>f</td>\n",
       "      <td>1</td>\n",
       "      <td>NaN</td>\n",
       "    </tr>\n",
       "    <tr>\n",
       "      <th>1</th>\n",
       "      <td>3075044</td>\n",
       "      <td>https://www.airbnb.com/rooms/3075044</td>\n",
       "      <td>20160906204935</td>\n",
       "      <td>2016-09-07</td>\n",
       "      <td>Charming room in pet friendly apt</td>\n",
       "      <td>Charming and quiet room in a second floor 1910...</td>\n",
       "      <td>Small but cozy and quite room with a full size...</td>\n",
       "      <td>Charming and quiet room in a second floor 1910...</td>\n",
       "      <td>none</td>\n",
       "      <td>The room is in Roslindale, a diverse and prima...</td>\n",
       "      <td>If you don't have a US cell phone, you can tex...</td>\n",
       "      <td>Plenty of safe street parking. Bus stops a few...</td>\n",
       "      <td>Apt has one more bedroom (which I use) and lar...</td>\n",
       "      <td>If I am at home, I am likely working in my hom...</td>\n",
       "      <td>Pet friendly but please confirm with me if the...</td>\n",
       "      <td>https://a1.muscache.com/im/pictures/39327812/d...</td>\n",
       "      <td>https://a1.muscache.com/im/pictures/39327812/d...</td>\n",
       "      <td>https://a1.muscache.com/im/pictures/39327812/d...</td>\n",
       "      <td>https://a1.muscache.com/im/pictures/39327812/d...</td>\n",
       "      <td>2572247</td>\n",
       "      <td>https://www.airbnb.com/users/show/2572247</td>\n",
       "      <td>Andrea</td>\n",
       "      <td>2012-06-07</td>\n",
       "      <td>Boston, Massachusetts, United States</td>\n",
       "      <td>I live in Boston and I like to travel and have...</td>\n",
       "      <td>within an hour</td>\n",
       "      <td>100%</td>\n",
       "      <td>100%</td>\n",
       "      <td>f</td>\n",
       "      <td>https://a2.muscache.com/im/users/2572247/profi...</td>\n",
       "      <td>https://a2.muscache.com/im/users/2572247/profi...</td>\n",
       "      <td>Roslindale</td>\n",
       "      <td>1</td>\n",
       "      <td>1</td>\n",
       "      <td>['email', 'phone', 'facebook', 'linkedin', 'am...</td>\n",
       "      <td>t</td>\n",
       "      <td>t</td>\n",
       "      <td>Pinehurst Street, Boston, MA 02131, United States</td>\n",
       "      <td>Roslindale</td>\n",
       "      <td>Roslindale</td>\n",
       "      <td>NaN</td>\n",
       "      <td>Boston</td>\n",
       "      <td>MA</td>\n",
       "      <td>02131</td>\n",
       "      <td>Boston</td>\n",
       "      <td>Boston, MA</td>\n",
       "      <td>US</td>\n",
       "      <td>United States</td>\n",
       "      <td>42.286241</td>\n",
       "      <td>-71.134374</td>\n",
       "      <td>t</td>\n",
       "      <td>Apartment</td>\n",
       "      <td>Private room</td>\n",
       "      <td>2</td>\n",
       "      <td>1.0</td>\n",
       "      <td>1.0</td>\n",
       "      <td>1.0</td>\n",
       "      <td>Real Bed</td>\n",
       "      <td>{TV,Internet,\"Wireless Internet\",\"Air Conditio...</td>\n",
       "      <td>NaN</td>\n",
       "      <td>$65.00</td>\n",
       "      <td>$400.00</td>\n",
       "      <td>NaN</td>\n",
       "      <td>$95.00</td>\n",
       "      <td>$10.00</td>\n",
       "      <td>0</td>\n",
       "      <td>$0.00</td>\n",
       "      <td>2</td>\n",
       "      <td>15</td>\n",
       "      <td>a week ago</td>\n",
       "      <td>NaN</td>\n",
       "      <td>26</td>\n",
       "      <td>54</td>\n",
       "      <td>84</td>\n",
       "      <td>359</td>\n",
       "      <td>2016-09-06</td>\n",
       "      <td>36</td>\n",
       "      <td>2014-06-01</td>\n",
       "      <td>2016-08-13</td>\n",
       "      <td>94.0</td>\n",
       "      <td>10.0</td>\n",
       "      <td>9.0</td>\n",
       "      <td>10.0</td>\n",
       "      <td>10.0</td>\n",
       "      <td>9.0</td>\n",
       "      <td>9.0</td>\n",
       "      <td>f</td>\n",
       "      <td>NaN</td>\n",
       "      <td>NaN</td>\n",
       "      <td>t</td>\n",
       "      <td>moderate</td>\n",
       "      <td>f</td>\n",
       "      <td>f</td>\n",
       "      <td>1</td>\n",
       "      <td>1.30</td>\n",
       "    </tr>\n",
       "    <tr>\n",
       "      <th>2</th>\n",
       "      <td>6976</td>\n",
       "      <td>https://www.airbnb.com/rooms/6976</td>\n",
       "      <td>20160906204935</td>\n",
       "      <td>2016-09-07</td>\n",
       "      <td>Mexican Folk Art Haven in Boston</td>\n",
       "      <td>Come stay with a friendly, middle-aged guy in ...</td>\n",
       "      <td>Come stay with a friendly, middle-aged guy in ...</td>\n",
       "      <td>Come stay with a friendly, middle-aged guy in ...</td>\n",
       "      <td>none</td>\n",
       "      <td>The LOCATION: Roslindale is a safe and diverse...</td>\n",
       "      <td>I am in a scenic part of Boston with a couple ...</td>\n",
       "      <td>PUBLIC TRANSPORTATION: From the house, quick p...</td>\n",
       "      <td>I am living in the apartment during your stay,...</td>\n",
       "      <td>ABOUT ME: I'm a laid-back, friendly, unmarried...</td>\n",
       "      <td>I encourage you to use my kitchen, cooking and...</td>\n",
       "      <td>https://a2.muscache.com/im/pictures/6ae8335d-9...</td>\n",
       "      <td>https://a2.muscache.com/im/pictures/6ae8335d-9...</td>\n",
       "      <td>https://a2.muscache.com/im/pictures/6ae8335d-9...</td>\n",
       "      <td>https://a2.muscache.com/im/pictures/6ae8335d-9...</td>\n",
       "      <td>16701</td>\n",
       "      <td>https://www.airbnb.com/users/show/16701</td>\n",
       "      <td>Phil</td>\n",
       "      <td>2009-05-11</td>\n",
       "      <td>Boston, Massachusetts, United States</td>\n",
       "      <td>I am a middle-aged, single male with a wide ra...</td>\n",
       "      <td>within a few hours</td>\n",
       "      <td>100%</td>\n",
       "      <td>88%</td>\n",
       "      <td>t</td>\n",
       "      <td>https://a2.muscache.com/im/users/16701/profile...</td>\n",
       "      <td>https://a2.muscache.com/im/users/16701/profile...</td>\n",
       "      <td>Roslindale</td>\n",
       "      <td>1</td>\n",
       "      <td>1</td>\n",
       "      <td>['email', 'phone', 'reviews', 'jumio']</td>\n",
       "      <td>t</td>\n",
       "      <td>t</td>\n",
       "      <td>Ardale St., Boston, MA 02131, United States</td>\n",
       "      <td>Roslindale</td>\n",
       "      <td>Roslindale</td>\n",
       "      <td>NaN</td>\n",
       "      <td>Boston</td>\n",
       "      <td>MA</td>\n",
       "      <td>02131</td>\n",
       "      <td>Boston</td>\n",
       "      <td>Boston, MA</td>\n",
       "      <td>US</td>\n",
       "      <td>United States</td>\n",
       "      <td>42.292438</td>\n",
       "      <td>-71.135765</td>\n",
       "      <td>t</td>\n",
       "      <td>Apartment</td>\n",
       "      <td>Private room</td>\n",
       "      <td>2</td>\n",
       "      <td>1.0</td>\n",
       "      <td>1.0</td>\n",
       "      <td>1.0</td>\n",
       "      <td>Real Bed</td>\n",
       "      <td>{TV,\"Cable TV\",\"Wireless Internet\",\"Air Condit...</td>\n",
       "      <td>NaN</td>\n",
       "      <td>$65.00</td>\n",
       "      <td>$395.00</td>\n",
       "      <td>$1,350.00</td>\n",
       "      <td>NaN</td>\n",
       "      <td>NaN</td>\n",
       "      <td>1</td>\n",
       "      <td>$20.00</td>\n",
       "      <td>3</td>\n",
       "      <td>45</td>\n",
       "      <td>5 days ago</td>\n",
       "      <td>NaN</td>\n",
       "      <td>19</td>\n",
       "      <td>46</td>\n",
       "      <td>61</td>\n",
       "      <td>319</td>\n",
       "      <td>2016-09-06</td>\n",
       "      <td>41</td>\n",
       "      <td>2009-07-19</td>\n",
       "      <td>2016-08-05</td>\n",
       "      <td>98.0</td>\n",
       "      <td>10.0</td>\n",
       "      <td>9.0</td>\n",
       "      <td>10.0</td>\n",
       "      <td>10.0</td>\n",
       "      <td>9.0</td>\n",
       "      <td>10.0</td>\n",
       "      <td>f</td>\n",
       "      <td>NaN</td>\n",
       "      <td>NaN</td>\n",
       "      <td>f</td>\n",
       "      <td>moderate</td>\n",
       "      <td>t</td>\n",
       "      <td>f</td>\n",
       "      <td>1</td>\n",
       "      <td>0.47</td>\n",
       "    </tr>\n",
       "  </tbody>\n",
       "</table>\n",
       "</div>"
      ],
      "text/plain": [
       "         id                            listing_url       scrape_id  \\\n",
       "0  12147973  https://www.airbnb.com/rooms/12147973  20160906204935   \n",
       "1   3075044   https://www.airbnb.com/rooms/3075044  20160906204935   \n",
       "2      6976      https://www.airbnb.com/rooms/6976  20160906204935   \n",
       "\n",
       "  last_scraped                               name  \\\n",
       "0   2016-09-07         Sunny Bungalow in the City   \n",
       "1   2016-09-07  Charming room in pet friendly apt   \n",
       "2   2016-09-07   Mexican Folk Art Haven in Boston   \n",
       "\n",
       "                                             summary  \\\n",
       "0  Cozy, sunny, family home.  Master bedroom high...   \n",
       "1  Charming and quiet room in a second floor 1910...   \n",
       "2  Come stay with a friendly, middle-aged guy in ...   \n",
       "\n",
       "                                               space  \\\n",
       "0  The house has an open and cozy feel at the sam...   \n",
       "1  Small but cozy and quite room with a full size...   \n",
       "2  Come stay with a friendly, middle-aged guy in ...   \n",
       "\n",
       "                                         description experiences_offered  \\\n",
       "0  Cozy, sunny, family home.  Master bedroom high...                none   \n",
       "1  Charming and quiet room in a second floor 1910...                none   \n",
       "2  Come stay with a friendly, middle-aged guy in ...                none   \n",
       "\n",
       "                               neighborhood_overview  \\\n",
       "0  Roslindale is quiet, convenient and friendly. ...   \n",
       "1  The room is in Roslindale, a diverse and prima...   \n",
       "2  The LOCATION: Roslindale is a safe and diverse...   \n",
       "\n",
       "                                               notes  \\\n",
       "0                                                NaN   \n",
       "1  If you don't have a US cell phone, you can tex...   \n",
       "2  I am in a scenic part of Boston with a couple ...   \n",
       "\n",
       "                                             transit  \\\n",
       "0  The bus stop is 2 blocks away, and frequent. B...   \n",
       "1  Plenty of safe street parking. Bus stops a few...   \n",
       "2  PUBLIC TRANSPORTATION: From the house, quick p...   \n",
       "\n",
       "                                              access  \\\n",
       "0  You will have access to 2 bedrooms, a living r...   \n",
       "1  Apt has one more bedroom (which I use) and lar...   \n",
       "2  I am living in the apartment during your stay,...   \n",
       "\n",
       "                                         interaction  \\\n",
       "0                                                NaN   \n",
       "1  If I am at home, I am likely working in my hom...   \n",
       "2  ABOUT ME: I'm a laid-back, friendly, unmarried...   \n",
       "\n",
       "                                         house_rules  \\\n",
       "0  Clean up and treat the home the way you'd like...   \n",
       "1  Pet friendly but please confirm with me if the...   \n",
       "2  I encourage you to use my kitchen, cooking and...   \n",
       "\n",
       "                                       thumbnail_url  \\\n",
       "0  https://a2.muscache.com/im/pictures/c0842db1-e...   \n",
       "1  https://a1.muscache.com/im/pictures/39327812/d...   \n",
       "2  https://a2.muscache.com/im/pictures/6ae8335d-9...   \n",
       "\n",
       "                                          medium_url  \\\n",
       "0  https://a2.muscache.com/im/pictures/c0842db1-e...   \n",
       "1  https://a1.muscache.com/im/pictures/39327812/d...   \n",
       "2  https://a2.muscache.com/im/pictures/6ae8335d-9...   \n",
       "\n",
       "                                         picture_url  \\\n",
       "0  https://a2.muscache.com/im/pictures/c0842db1-e...   \n",
       "1  https://a1.muscache.com/im/pictures/39327812/d...   \n",
       "2  https://a2.muscache.com/im/pictures/6ae8335d-9...   \n",
       "\n",
       "                                      xl_picture_url   host_id  \\\n",
       "0  https://a2.muscache.com/im/pictures/c0842db1-e...  31303940   \n",
       "1  https://a1.muscache.com/im/pictures/39327812/d...   2572247   \n",
       "2  https://a2.muscache.com/im/pictures/6ae8335d-9...     16701   \n",
       "\n",
       "                                     host_url host_name  host_since  \\\n",
       "0  https://www.airbnb.com/users/show/31303940  Virginia  2015-04-15   \n",
       "1   https://www.airbnb.com/users/show/2572247    Andrea  2012-06-07   \n",
       "2     https://www.airbnb.com/users/show/16701      Phil  2009-05-11   \n",
       "\n",
       "                          host_location  \\\n",
       "0  Boston, Massachusetts, United States   \n",
       "1  Boston, Massachusetts, United States   \n",
       "2  Boston, Massachusetts, United States   \n",
       "\n",
       "                                          host_about  host_response_time  \\\n",
       "0  We are country and city connecting in our deck...                 NaN   \n",
       "1  I live in Boston and I like to travel and have...      within an hour   \n",
       "2  I am a middle-aged, single male with a wide ra...  within a few hours   \n",
       "\n",
       "  host_response_rate host_acceptance_rate host_is_superhost  \\\n",
       "0                NaN                  NaN                 f   \n",
       "1               100%                 100%                 f   \n",
       "2               100%                  88%                 t   \n",
       "\n",
       "                                  host_thumbnail_url  \\\n",
       "0  https://a2.muscache.com/im/pictures/5936fef0-b...   \n",
       "1  https://a2.muscache.com/im/users/2572247/profi...   \n",
       "2  https://a2.muscache.com/im/users/16701/profile...   \n",
       "\n",
       "                                    host_picture_url host_neighbourhood  \\\n",
       "0  https://a2.muscache.com/im/pictures/5936fef0-b...         Roslindale   \n",
       "1  https://a2.muscache.com/im/users/2572247/profi...         Roslindale   \n",
       "2  https://a2.muscache.com/im/users/16701/profile...         Roslindale   \n",
       "\n",
       "   host_listings_count  host_total_listings_count  \\\n",
       "0                    1                          1   \n",
       "1                    1                          1   \n",
       "2                    1                          1   \n",
       "\n",
       "                                  host_verifications host_has_profile_pic  \\\n",
       "0          ['email', 'phone', 'facebook', 'reviews']                    t   \n",
       "1  ['email', 'phone', 'facebook', 'linkedin', 'am...                    t   \n",
       "2             ['email', 'phone', 'reviews', 'jumio']                    t   \n",
       "\n",
       "  host_identity_verified                                             street  \\\n",
       "0                      f      Birch Street, Boston, MA 02131, United States   \n",
       "1                      t  Pinehurst Street, Boston, MA 02131, United States   \n",
       "2                      t        Ardale St., Boston, MA 02131, United States   \n",
       "\n",
       "  neighbourhood neighbourhood_cleansed  neighbourhood_group_cleansed    city  \\\n",
       "0    Roslindale             Roslindale                           NaN  Boston   \n",
       "1    Roslindale             Roslindale                           NaN  Boston   \n",
       "2    Roslindale             Roslindale                           NaN  Boston   \n",
       "\n",
       "  state zipcode  market smart_location country_code        country   latitude  \\\n",
       "0    MA   02131  Boston     Boston, MA           US  United States  42.282619   \n",
       "1    MA   02131  Boston     Boston, MA           US  United States  42.286241   \n",
       "2    MA   02131  Boston     Boston, MA           US  United States  42.292438   \n",
       "\n",
       "   longitude is_location_exact property_type        room_type  accommodates  \\\n",
       "0 -71.133068                 t         House  Entire home/apt             4   \n",
       "1 -71.134374                 t     Apartment     Private room             2   \n",
       "2 -71.135765                 t     Apartment     Private room             2   \n",
       "\n",
       "   bathrooms  bedrooms  beds  bed_type  \\\n",
       "0        1.5       2.0   3.0  Real Bed   \n",
       "1        1.0       1.0   1.0  Real Bed   \n",
       "2        1.0       1.0   1.0  Real Bed   \n",
       "\n",
       "                                           amenities  square_feet    price  \\\n",
       "0  {TV,\"Wireless Internet\",Kitchen,\"Free Parking ...          NaN  $250.00   \n",
       "1  {TV,Internet,\"Wireless Internet\",\"Air Conditio...          NaN   $65.00   \n",
       "2  {TV,\"Cable TV\",\"Wireless Internet\",\"Air Condit...          NaN   $65.00   \n",
       "\n",
       "  weekly_price monthly_price security_deposit cleaning_fee  guests_included  \\\n",
       "0          NaN           NaN              NaN       $35.00                1   \n",
       "1      $400.00           NaN           $95.00       $10.00                0   \n",
       "2      $395.00     $1,350.00              NaN          NaN                1   \n",
       "\n",
       "  extra_people  minimum_nights  maximum_nights calendar_updated  \\\n",
       "0        $0.00               2            1125      2 weeks ago   \n",
       "1        $0.00               2              15       a week ago   \n",
       "2       $20.00               3              45       5 days ago   \n",
       "\n",
       "   has_availability  availability_30  availability_60  availability_90  \\\n",
       "0               NaN                0                0                0   \n",
       "1               NaN               26               54               84   \n",
       "2               NaN               19               46               61   \n",
       "\n",
       "   availability_365 calendar_last_scraped  number_of_reviews first_review  \\\n",
       "0                 0            2016-09-06                  0          NaN   \n",
       "1               359            2016-09-06                 36   2014-06-01   \n",
       "2               319            2016-09-06                 41   2009-07-19   \n",
       "\n",
       "  last_review  review_scores_rating  review_scores_accuracy  \\\n",
       "0         NaN                   NaN                     NaN   \n",
       "1  2016-08-13                  94.0                    10.0   \n",
       "2  2016-08-05                  98.0                    10.0   \n",
       "\n",
       "   review_scores_cleanliness  review_scores_checkin  \\\n",
       "0                        NaN                    NaN   \n",
       "1                        9.0                   10.0   \n",
       "2                        9.0                   10.0   \n",
       "\n",
       "   review_scores_communication  review_scores_location  review_scores_value  \\\n",
       "0                          NaN                     NaN                  NaN   \n",
       "1                         10.0                     9.0                  9.0   \n",
       "2                         10.0                     9.0                 10.0   \n",
       "\n",
       "  requires_license  license  jurisdiction_names instant_bookable  \\\n",
       "0                f      NaN                 NaN                f   \n",
       "1                f      NaN                 NaN                t   \n",
       "2                f      NaN                 NaN                f   \n",
       "\n",
       "  cancellation_policy require_guest_profile_picture  \\\n",
       "0            moderate                             f   \n",
       "1            moderate                             f   \n",
       "2            moderate                             t   \n",
       "\n",
       "  require_guest_phone_verification  calculated_host_listings_count  \\\n",
       "0                                f                               1   \n",
       "1                                f                               1   \n",
       "2                                f                               1   \n",
       "\n",
       "   reviews_per_month  \n",
       "0                NaN  \n",
       "1               1.30  \n",
       "2               0.47  "
      ]
     },
     "execution_count": 15,
     "metadata": {},
     "output_type": "execute_result"
    }
   ],
   "source": [
    "dfb_lis.head(3)"
   ]
  },
  {
   "cell_type": "code",
   "execution_count": 16,
   "metadata": {},
   "outputs": [
    {
     "data": {
      "text/html": [
       "<div>\n",
       "<style scoped>\n",
       "    .dataframe tbody tr th:only-of-type {\n",
       "        vertical-align: middle;\n",
       "    }\n",
       "\n",
       "    .dataframe tbody tr th {\n",
       "        vertical-align: top;\n",
       "    }\n",
       "\n",
       "    .dataframe thead th {\n",
       "        text-align: right;\n",
       "    }\n",
       "</style>\n",
       "<table border=\"1\" class=\"dataframe\">\n",
       "  <thead>\n",
       "    <tr style=\"text-align: right;\">\n",
       "      <th></th>\n",
       "      <th>id</th>\n",
       "      <th>listing_url</th>\n",
       "      <th>scrape_id</th>\n",
       "      <th>last_scraped</th>\n",
       "      <th>name</th>\n",
       "      <th>summary</th>\n",
       "      <th>space</th>\n",
       "      <th>description</th>\n",
       "      <th>experiences_offered</th>\n",
       "      <th>neighborhood_overview</th>\n",
       "      <th>notes</th>\n",
       "      <th>transit</th>\n",
       "      <th>thumbnail_url</th>\n",
       "      <th>medium_url</th>\n",
       "      <th>picture_url</th>\n",
       "      <th>xl_picture_url</th>\n",
       "      <th>host_id</th>\n",
       "      <th>host_url</th>\n",
       "      <th>host_name</th>\n",
       "      <th>host_since</th>\n",
       "      <th>host_location</th>\n",
       "      <th>host_about</th>\n",
       "      <th>host_response_time</th>\n",
       "      <th>host_response_rate</th>\n",
       "      <th>host_acceptance_rate</th>\n",
       "      <th>host_is_superhost</th>\n",
       "      <th>host_thumbnail_url</th>\n",
       "      <th>host_picture_url</th>\n",
       "      <th>host_neighbourhood</th>\n",
       "      <th>host_listings_count</th>\n",
       "      <th>host_total_listings_count</th>\n",
       "      <th>host_verifications</th>\n",
       "      <th>host_has_profile_pic</th>\n",
       "      <th>host_identity_verified</th>\n",
       "      <th>street</th>\n",
       "      <th>neighbourhood</th>\n",
       "      <th>neighbourhood_cleansed</th>\n",
       "      <th>neighbourhood_group_cleansed</th>\n",
       "      <th>city</th>\n",
       "      <th>state</th>\n",
       "      <th>zipcode</th>\n",
       "      <th>market</th>\n",
       "      <th>smart_location</th>\n",
       "      <th>country_code</th>\n",
       "      <th>country</th>\n",
       "      <th>latitude</th>\n",
       "      <th>longitude</th>\n",
       "      <th>is_location_exact</th>\n",
       "      <th>property_type</th>\n",
       "      <th>room_type</th>\n",
       "      <th>accommodates</th>\n",
       "      <th>bathrooms</th>\n",
       "      <th>bedrooms</th>\n",
       "      <th>beds</th>\n",
       "      <th>bed_type</th>\n",
       "      <th>amenities</th>\n",
       "      <th>square_feet</th>\n",
       "      <th>price</th>\n",
       "      <th>weekly_price</th>\n",
       "      <th>monthly_price</th>\n",
       "      <th>security_deposit</th>\n",
       "      <th>cleaning_fee</th>\n",
       "      <th>guests_included</th>\n",
       "      <th>extra_people</th>\n",
       "      <th>minimum_nights</th>\n",
       "      <th>maximum_nights</th>\n",
       "      <th>calendar_updated</th>\n",
       "      <th>has_availability</th>\n",
       "      <th>availability_30</th>\n",
       "      <th>availability_60</th>\n",
       "      <th>availability_90</th>\n",
       "      <th>availability_365</th>\n",
       "      <th>calendar_last_scraped</th>\n",
       "      <th>number_of_reviews</th>\n",
       "      <th>first_review</th>\n",
       "      <th>last_review</th>\n",
       "      <th>review_scores_rating</th>\n",
       "      <th>review_scores_accuracy</th>\n",
       "      <th>review_scores_cleanliness</th>\n",
       "      <th>review_scores_checkin</th>\n",
       "      <th>review_scores_communication</th>\n",
       "      <th>review_scores_location</th>\n",
       "      <th>review_scores_value</th>\n",
       "      <th>requires_license</th>\n",
       "      <th>license</th>\n",
       "      <th>jurisdiction_names</th>\n",
       "      <th>instant_bookable</th>\n",
       "      <th>cancellation_policy</th>\n",
       "      <th>require_guest_profile_picture</th>\n",
       "      <th>require_guest_phone_verification</th>\n",
       "      <th>calculated_host_listings_count</th>\n",
       "      <th>reviews_per_month</th>\n",
       "    </tr>\n",
       "  </thead>\n",
       "  <tbody>\n",
       "    <tr>\n",
       "      <th>0</th>\n",
       "      <td>241032</td>\n",
       "      <td>https://www.airbnb.com/rooms/241032</td>\n",
       "      <td>20160104002432</td>\n",
       "      <td>2016-01-04</td>\n",
       "      <td>Stylish Queen Anne Apartment</td>\n",
       "      <td>NaN</td>\n",
       "      <td>Make your self at home in this charming one-be...</td>\n",
       "      <td>Make your self at home in this charming one-be...</td>\n",
       "      <td>none</td>\n",
       "      <td>NaN</td>\n",
       "      <td>NaN</td>\n",
       "      <td>NaN</td>\n",
       "      <td>NaN</td>\n",
       "      <td>NaN</td>\n",
       "      <td>https://a1.muscache.com/ac/pictures/67560560/c...</td>\n",
       "      <td>NaN</td>\n",
       "      <td>956883</td>\n",
       "      <td>https://www.airbnb.com/users/show/956883</td>\n",
       "      <td>Maija</td>\n",
       "      <td>2011-08-11</td>\n",
       "      <td>Seattle, Washington, United States</td>\n",
       "      <td>I am an artist, interior designer, and run a s...</td>\n",
       "      <td>within a few hours</td>\n",
       "      <td>96%</td>\n",
       "      <td>100%</td>\n",
       "      <td>f</td>\n",
       "      <td>https://a0.muscache.com/ac/users/956883/profil...</td>\n",
       "      <td>https://a0.muscache.com/ac/users/956883/profil...</td>\n",
       "      <td>Queen Anne</td>\n",
       "      <td>3.0</td>\n",
       "      <td>3.0</td>\n",
       "      <td>['email', 'phone', 'reviews', 'kba']</td>\n",
       "      <td>t</td>\n",
       "      <td>t</td>\n",
       "      <td>Gilman Dr W, Seattle, WA 98119, United States</td>\n",
       "      <td>Queen Anne</td>\n",
       "      <td>West Queen Anne</td>\n",
       "      <td>Queen Anne</td>\n",
       "      <td>Seattle</td>\n",
       "      <td>WA</td>\n",
       "      <td>98119</td>\n",
       "      <td>Seattle</td>\n",
       "      <td>Seattle, WA</td>\n",
       "      <td>US</td>\n",
       "      <td>United States</td>\n",
       "      <td>47.636289</td>\n",
       "      <td>-122.371025</td>\n",
       "      <td>t</td>\n",
       "      <td>Apartment</td>\n",
       "      <td>Entire home/apt</td>\n",
       "      <td>4</td>\n",
       "      <td>1.0</td>\n",
       "      <td>1.0</td>\n",
       "      <td>1.0</td>\n",
       "      <td>Real Bed</td>\n",
       "      <td>{TV,\"Cable TV\",Internet,\"Wireless Internet\",\"A...</td>\n",
       "      <td>NaN</td>\n",
       "      <td>$85.00</td>\n",
       "      <td>NaN</td>\n",
       "      <td>NaN</td>\n",
       "      <td>NaN</td>\n",
       "      <td>NaN</td>\n",
       "      <td>2</td>\n",
       "      <td>$5.00</td>\n",
       "      <td>1</td>\n",
       "      <td>365</td>\n",
       "      <td>4 weeks ago</td>\n",
       "      <td>t</td>\n",
       "      <td>14</td>\n",
       "      <td>41</td>\n",
       "      <td>71</td>\n",
       "      <td>346</td>\n",
       "      <td>2016-01-04</td>\n",
       "      <td>207</td>\n",
       "      <td>2011-11-01</td>\n",
       "      <td>2016-01-02</td>\n",
       "      <td>95.0</td>\n",
       "      <td>10.0</td>\n",
       "      <td>10.0</td>\n",
       "      <td>10.0</td>\n",
       "      <td>10.0</td>\n",
       "      <td>9.0</td>\n",
       "      <td>10.0</td>\n",
       "      <td>f</td>\n",
       "      <td>NaN</td>\n",
       "      <td>WASHINGTON</td>\n",
       "      <td>f</td>\n",
       "      <td>moderate</td>\n",
       "      <td>f</td>\n",
       "      <td>f</td>\n",
       "      <td>2</td>\n",
       "      <td>4.07</td>\n",
       "    </tr>\n",
       "    <tr>\n",
       "      <th>1</th>\n",
       "      <td>953595</td>\n",
       "      <td>https://www.airbnb.com/rooms/953595</td>\n",
       "      <td>20160104002432</td>\n",
       "      <td>2016-01-04</td>\n",
       "      <td>Bright &amp; Airy Queen Anne Apartment</td>\n",
       "      <td>Chemically sensitive? We've removed the irrita...</td>\n",
       "      <td>Beautiful, hypoallergenic apartment in an extr...</td>\n",
       "      <td>Chemically sensitive? We've removed the irrita...</td>\n",
       "      <td>none</td>\n",
       "      <td>Queen Anne is a wonderful, truly functional vi...</td>\n",
       "      <td>What's up with the free pillows?  Our home was...</td>\n",
       "      <td>Convenient bus stops are just down the block, ...</td>\n",
       "      <td>https://a0.muscache.com/ac/pictures/14409893/f...</td>\n",
       "      <td>https://a0.muscache.com/im/pictures/14409893/f...</td>\n",
       "      <td>https://a0.muscache.com/ac/pictures/14409893/f...</td>\n",
       "      <td>https://a0.muscache.com/ac/pictures/14409893/f...</td>\n",
       "      <td>5177328</td>\n",
       "      <td>https://www.airbnb.com/users/show/5177328</td>\n",
       "      <td>Andrea</td>\n",
       "      <td>2013-02-21</td>\n",
       "      <td>Seattle, Washington, United States</td>\n",
       "      <td>Living east coast/left coast/overseas.  Time i...</td>\n",
       "      <td>within an hour</td>\n",
       "      <td>98%</td>\n",
       "      <td>100%</td>\n",
       "      <td>t</td>\n",
       "      <td>https://a0.muscache.com/ac/users/5177328/profi...</td>\n",
       "      <td>https://a0.muscache.com/ac/users/5177328/profi...</td>\n",
       "      <td>Queen Anne</td>\n",
       "      <td>6.0</td>\n",
       "      <td>6.0</td>\n",
       "      <td>['email', 'phone', 'facebook', 'linkedin', 're...</td>\n",
       "      <td>t</td>\n",
       "      <td>t</td>\n",
       "      <td>7th Avenue West, Seattle, WA 98119, United States</td>\n",
       "      <td>Queen Anne</td>\n",
       "      <td>West Queen Anne</td>\n",
       "      <td>Queen Anne</td>\n",
       "      <td>Seattle</td>\n",
       "      <td>WA</td>\n",
       "      <td>98119</td>\n",
       "      <td>Seattle</td>\n",
       "      <td>Seattle, WA</td>\n",
       "      <td>US</td>\n",
       "      <td>United States</td>\n",
       "      <td>47.639123</td>\n",
       "      <td>-122.365666</td>\n",
       "      <td>t</td>\n",
       "      <td>Apartment</td>\n",
       "      <td>Entire home/apt</td>\n",
       "      <td>4</td>\n",
       "      <td>1.0</td>\n",
       "      <td>1.0</td>\n",
       "      <td>1.0</td>\n",
       "      <td>Real Bed</td>\n",
       "      <td>{TV,Internet,\"Wireless Internet\",Kitchen,\"Free...</td>\n",
       "      <td>NaN</td>\n",
       "      <td>$150.00</td>\n",
       "      <td>$1,000.00</td>\n",
       "      <td>$3,000.00</td>\n",
       "      <td>$100.00</td>\n",
       "      <td>$40.00</td>\n",
       "      <td>1</td>\n",
       "      <td>$0.00</td>\n",
       "      <td>2</td>\n",
       "      <td>90</td>\n",
       "      <td>today</td>\n",
       "      <td>t</td>\n",
       "      <td>13</td>\n",
       "      <td>13</td>\n",
       "      <td>16</td>\n",
       "      <td>291</td>\n",
       "      <td>2016-01-04</td>\n",
       "      <td>43</td>\n",
       "      <td>2013-08-19</td>\n",
       "      <td>2015-12-29</td>\n",
       "      <td>96.0</td>\n",
       "      <td>10.0</td>\n",
       "      <td>10.0</td>\n",
       "      <td>10.0</td>\n",
       "      <td>10.0</td>\n",
       "      <td>10.0</td>\n",
       "      <td>10.0</td>\n",
       "      <td>f</td>\n",
       "      <td>NaN</td>\n",
       "      <td>WASHINGTON</td>\n",
       "      <td>f</td>\n",
       "      <td>strict</td>\n",
       "      <td>t</td>\n",
       "      <td>t</td>\n",
       "      <td>6</td>\n",
       "      <td>1.48</td>\n",
       "    </tr>\n",
       "    <tr>\n",
       "      <th>2</th>\n",
       "      <td>3308979</td>\n",
       "      <td>https://www.airbnb.com/rooms/3308979</td>\n",
       "      <td>20160104002432</td>\n",
       "      <td>2016-01-04</td>\n",
       "      <td>New Modern House-Amazing water view</td>\n",
       "      <td>New modern house built in 2013.  Spectacular s...</td>\n",
       "      <td>Our house is modern, light and fresh with a wa...</td>\n",
       "      <td>New modern house built in 2013.  Spectacular s...</td>\n",
       "      <td>none</td>\n",
       "      <td>Upper Queen Anne is a charming neighborhood fu...</td>\n",
       "      <td>Our house is located just 5 short blocks to To...</td>\n",
       "      <td>A bus stop is just 2 blocks away.   Easy bus a...</td>\n",
       "      <td>NaN</td>\n",
       "      <td>NaN</td>\n",
       "      <td>https://a2.muscache.com/ac/pictures/b4324e0f-a...</td>\n",
       "      <td>NaN</td>\n",
       "      <td>16708587</td>\n",
       "      <td>https://www.airbnb.com/users/show/16708587</td>\n",
       "      <td>Jill</td>\n",
       "      <td>2014-06-12</td>\n",
       "      <td>Seattle, Washington, United States</td>\n",
       "      <td>i love living in Seattle.  i grew up in the mi...</td>\n",
       "      <td>within a few hours</td>\n",
       "      <td>67%</td>\n",
       "      <td>100%</td>\n",
       "      <td>f</td>\n",
       "      <td>https://a1.muscache.com/ac/users/16708587/prof...</td>\n",
       "      <td>https://a1.muscache.com/ac/users/16708587/prof...</td>\n",
       "      <td>Queen Anne</td>\n",
       "      <td>2.0</td>\n",
       "      <td>2.0</td>\n",
       "      <td>['email', 'phone', 'google', 'reviews', 'jumio']</td>\n",
       "      <td>t</td>\n",
       "      <td>t</td>\n",
       "      <td>West Lee Street, Seattle, WA 98119, United States</td>\n",
       "      <td>Queen Anne</td>\n",
       "      <td>West Queen Anne</td>\n",
       "      <td>Queen Anne</td>\n",
       "      <td>Seattle</td>\n",
       "      <td>WA</td>\n",
       "      <td>98119</td>\n",
       "      <td>Seattle</td>\n",
       "      <td>Seattle, WA</td>\n",
       "      <td>US</td>\n",
       "      <td>United States</td>\n",
       "      <td>47.629724</td>\n",
       "      <td>-122.369483</td>\n",
       "      <td>t</td>\n",
       "      <td>House</td>\n",
       "      <td>Entire home/apt</td>\n",
       "      <td>11</td>\n",
       "      <td>4.5</td>\n",
       "      <td>5.0</td>\n",
       "      <td>7.0</td>\n",
       "      <td>Real Bed</td>\n",
       "      <td>{TV,\"Cable TV\",Internet,\"Wireless Internet\",\"A...</td>\n",
       "      <td>NaN</td>\n",
       "      <td>$975.00</td>\n",
       "      <td>NaN</td>\n",
       "      <td>NaN</td>\n",
       "      <td>$1,000.00</td>\n",
       "      <td>$300.00</td>\n",
       "      <td>10</td>\n",
       "      <td>$25.00</td>\n",
       "      <td>4</td>\n",
       "      <td>30</td>\n",
       "      <td>5 weeks ago</td>\n",
       "      <td>t</td>\n",
       "      <td>1</td>\n",
       "      <td>6</td>\n",
       "      <td>17</td>\n",
       "      <td>220</td>\n",
       "      <td>2016-01-04</td>\n",
       "      <td>20</td>\n",
       "      <td>2014-07-30</td>\n",
       "      <td>2015-09-03</td>\n",
       "      <td>97.0</td>\n",
       "      <td>10.0</td>\n",
       "      <td>10.0</td>\n",
       "      <td>10.0</td>\n",
       "      <td>10.0</td>\n",
       "      <td>10.0</td>\n",
       "      <td>10.0</td>\n",
       "      <td>f</td>\n",
       "      <td>NaN</td>\n",
       "      <td>WASHINGTON</td>\n",
       "      <td>f</td>\n",
       "      <td>strict</td>\n",
       "      <td>f</td>\n",
       "      <td>f</td>\n",
       "      <td>2</td>\n",
       "      <td>1.15</td>\n",
       "    </tr>\n",
       "  </tbody>\n",
       "</table>\n",
       "</div>"
      ],
      "text/plain": [
       "        id                           listing_url       scrape_id last_scraped  \\\n",
       "0   241032   https://www.airbnb.com/rooms/241032  20160104002432   2016-01-04   \n",
       "1   953595   https://www.airbnb.com/rooms/953595  20160104002432   2016-01-04   \n",
       "2  3308979  https://www.airbnb.com/rooms/3308979  20160104002432   2016-01-04   \n",
       "\n",
       "                                  name  \\\n",
       "0         Stylish Queen Anne Apartment   \n",
       "1   Bright & Airy Queen Anne Apartment   \n",
       "2  New Modern House-Amazing water view   \n",
       "\n",
       "                                             summary  \\\n",
       "0                                                NaN   \n",
       "1  Chemically sensitive? We've removed the irrita...   \n",
       "2  New modern house built in 2013.  Spectacular s...   \n",
       "\n",
       "                                               space  \\\n",
       "0  Make your self at home in this charming one-be...   \n",
       "1  Beautiful, hypoallergenic apartment in an extr...   \n",
       "2  Our house is modern, light and fresh with a wa...   \n",
       "\n",
       "                                         description experiences_offered  \\\n",
       "0  Make your self at home in this charming one-be...                none   \n",
       "1  Chemically sensitive? We've removed the irrita...                none   \n",
       "2  New modern house built in 2013.  Spectacular s...                none   \n",
       "\n",
       "                               neighborhood_overview  \\\n",
       "0                                                NaN   \n",
       "1  Queen Anne is a wonderful, truly functional vi...   \n",
       "2  Upper Queen Anne is a charming neighborhood fu...   \n",
       "\n",
       "                                               notes  \\\n",
       "0                                                NaN   \n",
       "1  What's up with the free pillows?  Our home was...   \n",
       "2  Our house is located just 5 short blocks to To...   \n",
       "\n",
       "                                             transit  \\\n",
       "0                                                NaN   \n",
       "1  Convenient bus stops are just down the block, ...   \n",
       "2  A bus stop is just 2 blocks away.   Easy bus a...   \n",
       "\n",
       "                                       thumbnail_url  \\\n",
       "0                                                NaN   \n",
       "1  https://a0.muscache.com/ac/pictures/14409893/f...   \n",
       "2                                                NaN   \n",
       "\n",
       "                                          medium_url  \\\n",
       "0                                                NaN   \n",
       "1  https://a0.muscache.com/im/pictures/14409893/f...   \n",
       "2                                                NaN   \n",
       "\n",
       "                                         picture_url  \\\n",
       "0  https://a1.muscache.com/ac/pictures/67560560/c...   \n",
       "1  https://a0.muscache.com/ac/pictures/14409893/f...   \n",
       "2  https://a2.muscache.com/ac/pictures/b4324e0f-a...   \n",
       "\n",
       "                                      xl_picture_url   host_id  \\\n",
       "0                                                NaN    956883   \n",
       "1  https://a0.muscache.com/ac/pictures/14409893/f...   5177328   \n",
       "2                                                NaN  16708587   \n",
       "\n",
       "                                     host_url host_name  host_since  \\\n",
       "0    https://www.airbnb.com/users/show/956883     Maija  2011-08-11   \n",
       "1   https://www.airbnb.com/users/show/5177328    Andrea  2013-02-21   \n",
       "2  https://www.airbnb.com/users/show/16708587      Jill  2014-06-12   \n",
       "\n",
       "                        host_location  \\\n",
       "0  Seattle, Washington, United States   \n",
       "1  Seattle, Washington, United States   \n",
       "2  Seattle, Washington, United States   \n",
       "\n",
       "                                          host_about  host_response_time  \\\n",
       "0  I am an artist, interior designer, and run a s...  within a few hours   \n",
       "1  Living east coast/left coast/overseas.  Time i...      within an hour   \n",
       "2  i love living in Seattle.  i grew up in the mi...  within a few hours   \n",
       "\n",
       "  host_response_rate host_acceptance_rate host_is_superhost  \\\n",
       "0                96%                 100%                 f   \n",
       "1                98%                 100%                 t   \n",
       "2                67%                 100%                 f   \n",
       "\n",
       "                                  host_thumbnail_url  \\\n",
       "0  https://a0.muscache.com/ac/users/956883/profil...   \n",
       "1  https://a0.muscache.com/ac/users/5177328/profi...   \n",
       "2  https://a1.muscache.com/ac/users/16708587/prof...   \n",
       "\n",
       "                                    host_picture_url host_neighbourhood  \\\n",
       "0  https://a0.muscache.com/ac/users/956883/profil...         Queen Anne   \n",
       "1  https://a0.muscache.com/ac/users/5177328/profi...         Queen Anne   \n",
       "2  https://a1.muscache.com/ac/users/16708587/prof...         Queen Anne   \n",
       "\n",
       "   host_listings_count  host_total_listings_count  \\\n",
       "0                  3.0                        3.0   \n",
       "1                  6.0                        6.0   \n",
       "2                  2.0                        2.0   \n",
       "\n",
       "                                  host_verifications host_has_profile_pic  \\\n",
       "0               ['email', 'phone', 'reviews', 'kba']                    t   \n",
       "1  ['email', 'phone', 'facebook', 'linkedin', 're...                    t   \n",
       "2   ['email', 'phone', 'google', 'reviews', 'jumio']                    t   \n",
       "\n",
       "  host_identity_verified                                             street  \\\n",
       "0                      t      Gilman Dr W, Seattle, WA 98119, United States   \n",
       "1                      t  7th Avenue West, Seattle, WA 98119, United States   \n",
       "2                      t  West Lee Street, Seattle, WA 98119, United States   \n",
       "\n",
       "  neighbourhood neighbourhood_cleansed neighbourhood_group_cleansed     city  \\\n",
       "0    Queen Anne        West Queen Anne                   Queen Anne  Seattle   \n",
       "1    Queen Anne        West Queen Anne                   Queen Anne  Seattle   \n",
       "2    Queen Anne        West Queen Anne                   Queen Anne  Seattle   \n",
       "\n",
       "  state zipcode   market smart_location country_code        country  \\\n",
       "0    WA   98119  Seattle    Seattle, WA           US  United States   \n",
       "1    WA   98119  Seattle    Seattle, WA           US  United States   \n",
       "2    WA   98119  Seattle    Seattle, WA           US  United States   \n",
       "\n",
       "    latitude   longitude is_location_exact property_type        room_type  \\\n",
       "0  47.636289 -122.371025                 t     Apartment  Entire home/apt   \n",
       "1  47.639123 -122.365666                 t     Apartment  Entire home/apt   \n",
       "2  47.629724 -122.369483                 t         House  Entire home/apt   \n",
       "\n",
       "   accommodates  bathrooms  bedrooms  beds  bed_type  \\\n",
       "0             4        1.0       1.0   1.0  Real Bed   \n",
       "1             4        1.0       1.0   1.0  Real Bed   \n",
       "2            11        4.5       5.0   7.0  Real Bed   \n",
       "\n",
       "                                           amenities  square_feet    price  \\\n",
       "0  {TV,\"Cable TV\",Internet,\"Wireless Internet\",\"A...          NaN   $85.00   \n",
       "1  {TV,Internet,\"Wireless Internet\",Kitchen,\"Free...          NaN  $150.00   \n",
       "2  {TV,\"Cable TV\",Internet,\"Wireless Internet\",\"A...          NaN  $975.00   \n",
       "\n",
       "  weekly_price monthly_price security_deposit cleaning_fee  guests_included  \\\n",
       "0          NaN           NaN              NaN          NaN                2   \n",
       "1    $1,000.00     $3,000.00          $100.00       $40.00                1   \n",
       "2          NaN           NaN        $1,000.00      $300.00               10   \n",
       "\n",
       "  extra_people  minimum_nights  maximum_nights calendar_updated  \\\n",
       "0        $5.00               1             365      4 weeks ago   \n",
       "1        $0.00               2              90            today   \n",
       "2       $25.00               4              30      5 weeks ago   \n",
       "\n",
       "  has_availability  availability_30  availability_60  availability_90  \\\n",
       "0                t               14               41               71   \n",
       "1                t               13               13               16   \n",
       "2                t                1                6               17   \n",
       "\n",
       "   availability_365 calendar_last_scraped  number_of_reviews first_review  \\\n",
       "0               346            2016-01-04                207   2011-11-01   \n",
       "1               291            2016-01-04                 43   2013-08-19   \n",
       "2               220            2016-01-04                 20   2014-07-30   \n",
       "\n",
       "  last_review  review_scores_rating  review_scores_accuracy  \\\n",
       "0  2016-01-02                  95.0                    10.0   \n",
       "1  2015-12-29                  96.0                    10.0   \n",
       "2  2015-09-03                  97.0                    10.0   \n",
       "\n",
       "   review_scores_cleanliness  review_scores_checkin  \\\n",
       "0                       10.0                   10.0   \n",
       "1                       10.0                   10.0   \n",
       "2                       10.0                   10.0   \n",
       "\n",
       "   review_scores_communication  review_scores_location  review_scores_value  \\\n",
       "0                         10.0                     9.0                 10.0   \n",
       "1                         10.0                    10.0                 10.0   \n",
       "2                         10.0                    10.0                 10.0   \n",
       "\n",
       "  requires_license  license jurisdiction_names instant_bookable  \\\n",
       "0                f      NaN         WASHINGTON                f   \n",
       "1                f      NaN         WASHINGTON                f   \n",
       "2                f      NaN         WASHINGTON                f   \n",
       "\n",
       "  cancellation_policy require_guest_profile_picture  \\\n",
       "0            moderate                             f   \n",
       "1              strict                             t   \n",
       "2              strict                             f   \n",
       "\n",
       "  require_guest_phone_verification  calculated_host_listings_count  \\\n",
       "0                                f                               2   \n",
       "1                                t                               6   \n",
       "2                                f                               2   \n",
       "\n",
       "   reviews_per_month  \n",
       "0               4.07  \n",
       "1               1.48  \n",
       "2               1.15  "
      ]
     },
     "execution_count": 16,
     "metadata": {},
     "output_type": "execute_result"
    }
   ],
   "source": [
    "dfs_lis.head(3)"
   ]
  },
  {
   "cell_type": "markdown",
   "metadata": {},
   "source": [
    ">__Observations:__ <br>\n",
    "\n",
    ">- `host_response_rate` and `host_acceptance_rate` are completed in percentage format.\n",
    ">- `host_is_superhost`, `host_has_profile_pic`, `host_identity_verified`, `is_location_exact`, `requires_license`, `instant_bookable`, `require_guest_profile_picture`, and `require_guest_phone_verification` are Booleans, coded as \"f\" for false and \"t\" for true, presumably.\n",
    ">- `host_verifications` is a list of strings\n",
    ">- `street` is a complete addres\n",
    ">- `amenities` is a set of strings, which are only occasionally marked by apostrophies\n",
    ">- `price`, `weekly_price`, `monthly_price`,`cleaning_fee`, and `extra_people` are written as strings, started by dollar sign\n",
    ">- `calendar_updated` is expressed as a combination of numbers and text"
   ]
  },
  {
   "cell_type": "code",
   "execution_count": 17,
   "metadata": {},
   "outputs": [
    {
     "name": "stdout",
     "output_type": "stream",
     "text": [
      "In Boston listings, the earliest 'last scraped' date is  2016-09-07  and the latest is  2016-09-07 . \n",
      " In Seattle listings, the earliest 'last scraped' date is  2016-01-04  and the latest is  2016-01-04\n"
     ]
    }
   ],
   "source": [
    "print(\"In Boston listings, the earliest 'last scraped' date is \", dfb_lis.last_scraped.min(),\" and the latest is \", dfb_lis.last_scraped.max(), '. \\n',\n",
    "     \"In Seattle listings, the earliest 'last scraped' date is \", dfs_lis.last_scraped.min(),\" and the latest is \", dfs_lis.last_scraped.max()\n",
    "     )"
   ]
  },
  {
   "cell_type": "markdown",
   "metadata": {},
   "source": [
    ">__Conclusion__: `last_scraped` can be dropped as it does not add any value to the current analysis."
   ]
  },
  {
   "cell_type": "markdown",
   "metadata": {},
   "source": [
    "-------- __On the reviews datasets__"
   ]
  },
  {
   "cell_type": "code",
   "execution_count": 18,
   "metadata": {
    "scrolled": true
   },
   "outputs": [
    {
     "data": {
      "text/html": [
       "<div>\n",
       "<style scoped>\n",
       "    .dataframe tbody tr th:only-of-type {\n",
       "        vertical-align: middle;\n",
       "    }\n",
       "\n",
       "    .dataframe tbody tr th {\n",
       "        vertical-align: top;\n",
       "    }\n",
       "\n",
       "    .dataframe thead th {\n",
       "        text-align: right;\n",
       "    }\n",
       "</style>\n",
       "<table border=\"1\" class=\"dataframe\">\n",
       "  <thead>\n",
       "    <tr style=\"text-align: right;\">\n",
       "      <th></th>\n",
       "      <th>listing_id</th>\n",
       "      <th>date</th>\n",
       "      <th>available</th>\n",
       "      <th>price</th>\n",
       "    </tr>\n",
       "  </thead>\n",
       "  <tbody>\n",
       "    <tr>\n",
       "      <th>0</th>\n",
       "      <td>241032</td>\n",
       "      <td>2016-01-04</td>\n",
       "      <td>t</td>\n",
       "      <td>$85.00</td>\n",
       "    </tr>\n",
       "    <tr>\n",
       "      <th>1</th>\n",
       "      <td>241032</td>\n",
       "      <td>2016-01-05</td>\n",
       "      <td>t</td>\n",
       "      <td>$85.00</td>\n",
       "    </tr>\n",
       "    <tr>\n",
       "      <th>2</th>\n",
       "      <td>241032</td>\n",
       "      <td>2016-01-06</td>\n",
       "      <td>f</td>\n",
       "      <td>NaN</td>\n",
       "    </tr>\n",
       "    <tr>\n",
       "      <th>3</th>\n",
       "      <td>241032</td>\n",
       "      <td>2016-01-07</td>\n",
       "      <td>f</td>\n",
       "      <td>NaN</td>\n",
       "    </tr>\n",
       "    <tr>\n",
       "      <th>4</th>\n",
       "      <td>241032</td>\n",
       "      <td>2016-01-08</td>\n",
       "      <td>f</td>\n",
       "      <td>NaN</td>\n",
       "    </tr>\n",
       "  </tbody>\n",
       "</table>\n",
       "</div>"
      ],
      "text/plain": [
       "   listing_id        date available   price\n",
       "0      241032  2016-01-04         t  $85.00\n",
       "1      241032  2016-01-05         t  $85.00\n",
       "2      241032  2016-01-06         f     NaN\n",
       "3      241032  2016-01-07         f     NaN\n",
       "4      241032  2016-01-08         f     NaN"
      ]
     },
     "execution_count": 18,
     "metadata": {},
     "output_type": "execute_result"
    }
   ],
   "source": [
    "dfs_cal.head()"
   ]
  },
  {
   "cell_type": "code",
   "execution_count": 19,
   "metadata": {
    "scrolled": false
   },
   "outputs": [
    {
     "data": {
      "text/html": [
       "<div>\n",
       "<style scoped>\n",
       "    .dataframe tbody tr th:only-of-type {\n",
       "        vertical-align: middle;\n",
       "    }\n",
       "\n",
       "    .dataframe tbody tr th {\n",
       "        vertical-align: top;\n",
       "    }\n",
       "\n",
       "    .dataframe thead th {\n",
       "        text-align: right;\n",
       "    }\n",
       "</style>\n",
       "<table border=\"1\" class=\"dataframe\">\n",
       "  <thead>\n",
       "    <tr style=\"text-align: right;\">\n",
       "      <th></th>\n",
       "      <th>listing_id</th>\n",
       "      <th>date</th>\n",
       "      <th>available</th>\n",
       "      <th>price</th>\n",
       "    </tr>\n",
       "  </thead>\n",
       "  <tbody>\n",
       "    <tr>\n",
       "      <th>0</th>\n",
       "      <td>12147973</td>\n",
       "      <td>2017-09-05</td>\n",
       "      <td>f</td>\n",
       "      <td>NaN</td>\n",
       "    </tr>\n",
       "    <tr>\n",
       "      <th>1</th>\n",
       "      <td>12147973</td>\n",
       "      <td>2017-09-04</td>\n",
       "      <td>f</td>\n",
       "      <td>NaN</td>\n",
       "    </tr>\n",
       "    <tr>\n",
       "      <th>2</th>\n",
       "      <td>12147973</td>\n",
       "      <td>2017-09-03</td>\n",
       "      <td>f</td>\n",
       "      <td>NaN</td>\n",
       "    </tr>\n",
       "    <tr>\n",
       "      <th>3</th>\n",
       "      <td>12147973</td>\n",
       "      <td>2017-09-02</td>\n",
       "      <td>f</td>\n",
       "      <td>NaN</td>\n",
       "    </tr>\n",
       "    <tr>\n",
       "      <th>4</th>\n",
       "      <td>12147973</td>\n",
       "      <td>2017-09-01</td>\n",
       "      <td>f</td>\n",
       "      <td>NaN</td>\n",
       "    </tr>\n",
       "  </tbody>\n",
       "</table>\n",
       "</div>"
      ],
      "text/plain": [
       "   listing_id        date available price\n",
       "0    12147973  2017-09-05         f   NaN\n",
       "1    12147973  2017-09-04         f   NaN\n",
       "2    12147973  2017-09-03         f   NaN\n",
       "3    12147973  2017-09-02         f   NaN\n",
       "4    12147973  2017-09-01         f   NaN"
      ]
     },
     "execution_count": 19,
     "metadata": {},
     "output_type": "execute_result"
    }
   ],
   "source": [
    "dfb_cal.head()"
   ]
  },
  {
   "cell_type": "markdown",
   "metadata": {},
   "source": [
    ">__Observation:__ Availability data is at least partially completed in the calendar datasets as `available`, expressed as a Boolean."
   ]
  },
  {
   "cell_type": "markdown",
   "metadata": {},
   "source": [
    "## 3) &nbsp; &nbsp; Data preparation"
   ]
  },
  {
   "cell_type": "markdown",
   "metadata": {},
   "source": [
    "### 3.1) &nbsp; &nbsp; Connect datasets"
   ]
  },
  {
   "cell_type": "code",
   "execution_count": 20,
   "metadata": {},
   "outputs": [],
   "source": [
    "#Drop columns from Boston listings which are missing from Seattle listings\n",
    "dfb_lis = dfb_lis.drop(columns=['interaction', 'house_rules', 'access'])"
   ]
  },
  {
   "cell_type": "code",
   "execution_count": 21,
   "metadata": {},
   "outputs": [
    {
     "data": {
      "text/plain": [
       "(3585, 92)"
      ]
     },
     "execution_count": 21,
     "metadata": {},
     "output_type": "execute_result"
    }
   ],
   "source": [
    "dfb_lis.shape"
   ]
  },
  {
   "cell_type": "code",
   "execution_count": 22,
   "metadata": {},
   "outputs": [],
   "source": [
    "#Rename some columns to enable merging\n",
    "dfs_lis = dfs_lis.rename(columns={'id':'listing_id'})\n",
    "dfb_lis = dfb_lis.rename(columns={'id':'listing_id'})"
   ]
  },
  {
   "cell_type": "code",
   "execution_count": 23,
   "metadata": {
    "scrolled": true
   },
   "outputs": [
    {
     "name": "stdout",
     "output_type": "stream",
     "text": [
      "------------ \n",
      " Time spent on task execution: \n",
      "  0 minute(s) 27.19 second(s)\n"
     ]
    }
   ],
   "source": [
    "#Merge listings and calendar datasets\n",
    "start = time.time()\n",
    "\n",
    "dfs = pd.merge(dfs_lis, dfs_cal, how = 'outer')\n",
    "dfb = pd.merge(dfb_lis, dfb_cal, how = 'outer')\n",
    "\n",
    "end = time.time()\n",
    "t = end - start\n",
    "print('------------ \\n Time spent on task execution: \\n ', int(t/60), 'minute(s)', round(t%60,2), 'second(s)')"
   ]
  },
  {
   "cell_type": "markdown",
   "metadata": {},
   "source": [
    ">__Comment:__ This merging will not be utilized finally in this script."
   ]
  },
  {
   "cell_type": "code",
   "execution_count": 24,
   "metadata": {},
   "outputs": [
    {
     "data": {
      "text/plain": [
       "1393858"
      ]
     },
     "execution_count": 24,
     "metadata": {},
     "output_type": "execute_result"
    }
   ],
   "source": [
    "dfs.shape[0]"
   ]
  },
  {
   "cell_type": "code",
   "execution_count": 25,
   "metadata": {},
   "outputs": [
    {
     "data": {
      "text/plain": [
       "1310166"
      ]
     },
     "execution_count": 25,
     "metadata": {},
     "output_type": "execute_result"
    }
   ],
   "source": [
    "dfb.shape[0]"
   ]
  },
  {
   "cell_type": "code",
   "execution_count": 26,
   "metadata": {},
   "outputs": [],
   "source": [
    "#Add a city column to differentiate records by city in the concatenated dataset\n",
    "dfs['seattle'] = 1\n",
    "dfb['seattle'] = 0"
   ]
  },
  {
   "cell_type": "code",
   "execution_count": 27,
   "metadata": {},
   "outputs": [
    {
     "name": "stdout",
     "output_type": "stream",
     "text": [
      "------------ \n",
      " Time spent on task execution: \n",
      "  0 minute(s) 9.07 second(s)\n"
     ]
    }
   ],
   "source": [
    "#Join Seattle and Boston datasets\n",
    "\n",
    "start = time.time()\n",
    "\n",
    "df = pd.concat([dfs, dfb])\n",
    "end = time.time()\n",
    "t = end - start\n",
    "print('------------ \\n Time spent on task execution: \\n ', int(t/60), 'minute(s)', round(t%60,2), 'second(s)')"
   ]
  },
  {
   "cell_type": "code",
   "execution_count": 28,
   "metadata": {},
   "outputs": [
    {
     "name": "stdout",
     "output_type": "stream",
     "text": [
      "Proportion of Seattle data in the complete dataset:\n"
     ]
    },
    {
     "data": {
      "text/plain": [
       "0.5154754543598725"
      ]
     },
     "execution_count": 28,
     "metadata": {},
     "output_type": "execute_result"
    }
   ],
   "source": [
    "print('Proportion of Seattle data in the complete dataset:')\n",
    "dfs.shape[0]/df.shape[0]"
   ]
  },
  {
   "cell_type": "code",
   "execution_count": 29,
   "metadata": {},
   "outputs": [
    {
     "name": "stdout",
     "output_type": "stream",
     "text": [
      "Proportion of Boston data in the complete dataset:\n"
     ]
    },
    {
     "data": {
      "text/plain": [
       "0.4845245456401275"
      ]
     },
     "execution_count": 29,
     "metadata": {},
     "output_type": "execute_result"
    }
   ],
   "source": [
    "print('Proportion of Boston data in the complete dataset:')\n",
    "dfb.shape[0]/df.shape[0]"
   ]
  },
  {
   "cell_type": "markdown",
   "metadata": {},
   "source": [
    ">__Conclusion:__ There is slightly more data on Seattle than Boston in the joint and concatenated data set."
   ]
  },
  {
   "cell_type": "code",
   "execution_count": 30,
   "metadata": {
    "scrolled": true
   },
   "outputs": [
    {
     "data": {
      "text/plain": [
       "Index(['accommodates', 'amenities', 'availability_30', 'availability_365',\n",
       "       'availability_60', 'availability_90', 'available', 'bathrooms',\n",
       "       'bed_type', 'bedrooms', 'beds', 'calculated_host_listings_count',\n",
       "       'calendar_last_scraped', 'calendar_updated', 'cancellation_policy',\n",
       "       'city', 'cleaning_fee', 'country', 'country_code', 'date',\n",
       "       'description', 'experiences_offered', 'extra_people', 'first_review',\n",
       "       'guests_included', 'has_availability', 'host_about',\n",
       "       'host_acceptance_rate', 'host_has_profile_pic', 'host_id',\n",
       "       'host_identity_verified', 'host_is_superhost', 'host_listings_count',\n",
       "       'host_location', 'host_name', 'host_neighbourhood', 'host_picture_url',\n",
       "       'host_response_rate', 'host_response_time', 'host_since',\n",
       "       'host_thumbnail_url', 'host_total_listings_count', 'host_url',\n",
       "       'host_verifications', 'instant_bookable', 'is_location_exact',\n",
       "       'jurisdiction_names', 'last_review', 'last_scraped', 'latitude',\n",
       "       'license', 'listing_id', 'listing_url', 'longitude', 'market',\n",
       "       'maximum_nights', 'medium_url', 'minimum_nights', 'monthly_price',\n",
       "       'name', 'neighborhood_overview', 'neighbourhood',\n",
       "       'neighbourhood_cleansed', 'neighbourhood_group_cleansed', 'notes',\n",
       "       'number_of_reviews', 'picture_url', 'price', 'property_type',\n",
       "       'require_guest_phone_verification', 'require_guest_profile_picture',\n",
       "       'requires_license', 'review_scores_accuracy', 'review_scores_checkin',\n",
       "       'review_scores_cleanliness', 'review_scores_communication',\n",
       "       'review_scores_location', 'review_scores_rating', 'review_scores_value',\n",
       "       'reviews_per_month', 'room_type', 'scrape_id', 'seattle',\n",
       "       'security_deposit', 'smart_location', 'space', 'square_feet', 'state',\n",
       "       'street', 'summary', 'thumbnail_url', 'transit', 'weekly_price',\n",
       "       'xl_picture_url', 'zipcode'],\n",
       "      dtype='object')"
      ]
     },
     "execution_count": 30,
     "metadata": {},
     "output_type": "execute_result"
    }
   ],
   "source": [
    "df.columns.sort_values()"
   ]
  },
  {
   "cell_type": "markdown",
   "metadata": {},
   "source": [
    "### 3.2) &nbsp; &nbsp; Clean price data"
   ]
  },
  {
   "cell_type": "code",
   "execution_count": 31,
   "metadata": {},
   "outputs": [],
   "source": [
    "#Create a function to clean price data\n",
    "\n",
    "def clean_price(x):\n",
    "    '''\n",
    "    Function to clean price data\n",
    "    \n",
    "    Clean price data from $ mark and thousand separator.\n",
    "    \n",
    "    Parameter:\n",
    "        x (object): $ sign and a number expressing price in USD\n",
    "\n",
    "    Returns:\n",
    "        x (object): price without $ sign or thousand separator\n",
    "    \n",
    "    '''\n",
    "    \n",
    "    if isinstance(x, str):\n",
    "        return(x.replace('$', '').replace(',', ''))    \n",
    "    return(x)"
   ]
  },
  {
   "cell_type": "code",
   "execution_count": 32,
   "metadata": {},
   "outputs": [],
   "source": [
    "#Apply function to all price features which require cleaning\n",
    "\n",
    "for i in ['price', 'weekly_price', 'monthly_price', 'cleaning_fee', 'extra_people']:\n",
    "    \n",
    "          df[i] = df[i].apply(clean_price).astype('float')"
   ]
  },
  {
   "cell_type": "markdown",
   "metadata": {},
   "source": [
    "### 3.3) &nbsp; &nbsp; Handling missing data"
   ]
  },
  {
   "cell_type": "code",
   "execution_count": 67,
   "metadata": {},
   "outputs": [
    {
     "name": "stdout",
     "output_type": "stream",
     "text": [
      "------------ \n",
      " Time spent on task execution: \n",
      "  0 minute(s) 7.38 second(s)\n"
     ]
    }
   ],
   "source": [
    "#Create a feature to count missing values\n",
    "\n",
    "#df['missing_values'] = df.apply(lambda x: x.isnull().count(),axis=1) #This approach would require excessive amount of timestart = time.time()\n",
    "\n",
    "start = time.time()\n",
    "\n",
    "df['missing_values'] = df.isnull().sum(axis=1)\n",
    "\n",
    "end = time.time()\n",
    "t = end - start\n",
    "print('------------ \\n Time spent on task execution: \\n ', int(t/60), 'minute(s)', round(t%60,2), 'second(s)')"
   ]
  },
  {
   "cell_type": "markdown",
   "metadata": {},
   "source": [
    ">__Note:__ The following drop and imputation steps were decided upon data exploration that is currently available in phase 4.1."
   ]
  },
  {
   "cell_type": "markdown",
   "metadata": {},
   "source": [
    "#### 3.3.1) &nbsp; &nbsp; Drop columns"
   ]
  },
  {
   "cell_type": "code",
   "execution_count": 33,
   "metadata": {},
   "outputs": [
    {
     "data": {
      "text/plain": [
       "33"
      ]
     },
     "execution_count": 33,
     "metadata": {},
     "output_type": "execute_result"
    }
   ],
   "source": [
    "#Identify features where minimum 60% of the values is missing\n",
    "most_missing60 = df.columns[np.sum(df.isnull())/df.shape[0] >= .6]\n",
    "len(most_missing60)"
   ]
  },
  {
   "cell_type": "code",
   "execution_count": 34,
   "metadata": {},
   "outputs": [
    {
     "data": {
      "text/plain": [
       "(2704024, 62)"
      ]
     },
     "execution_count": 34,
     "metadata": {},
     "output_type": "execute_result"
    }
   ],
   "source": [
    "#Drop the columns identified above\n",
    "df63 = df.drop(columns = most_missing60)\n",
    "df63.shape"
   ]
  },
  {
   "cell_type": "code",
   "execution_count": 35,
   "metadata": {},
   "outputs": [
    {
     "data": {
      "text/plain": [
       "Index(['accommodates', 'amenities', 'availability_30', 'availability_365',\n",
       "       'availability_60', 'availability_90', 'available', 'bathrooms',\n",
       "       'bed_type', 'bedrooms', 'beds', 'calculated_host_listings_count',\n",
       "       'calendar_last_scraped', 'calendar_updated', 'cancellation_policy',\n",
       "       'city', 'country', 'country_code', 'date', 'description',\n",
       "       'experiences_offered', 'extra_people', 'guests_included',\n",
       "       'host_has_profile_pic', 'host_id', 'host_identity_verified',\n",
       "       'host_is_superhost', 'host_listings_count', 'host_location',\n",
       "       'host_name', 'host_picture_url', 'host_since', 'host_thumbnail_url',\n",
       "       'host_total_listings_count', 'host_url', 'host_verifications',\n",
       "       'instant_bookable', 'is_location_exact', 'last_scraped', 'latitude',\n",
       "       'listing_id', 'listing_url', 'longitude', 'market', 'maximum_nights',\n",
       "       'minimum_nights', 'name', 'neighbourhood_cleansed', 'number_of_reviews',\n",
       "       'picture_url', 'price', 'property_type',\n",
       "       'require_guest_phone_verification', 'require_guest_profile_picture',\n",
       "       'requires_license', 'room_type', 'scrape_id', 'seattle',\n",
       "       'smart_location', 'state', 'street', 'zipcode'],\n",
       "      dtype='object')"
      ]
     },
     "execution_count": 35,
     "metadata": {},
     "output_type": "execute_result"
    }
   ],
   "source": [
    "#Sorted list of columns which remain in the dataframe\n",
    "df63.columns.sort_values()"
   ]
  },
  {
   "cell_type": "code",
   "execution_count": 36,
   "metadata": {},
   "outputs": [
    {
     "data": {
      "text/plain": [
       "(2704024, 55)"
      ]
     },
     "execution_count": 36,
     "metadata": {},
     "output_type": "execute_result"
    }
   ],
   "source": [
    "#Drop columns which do not add value to the current dataset but potentially contain several missing values\n",
    "df56 = df63.drop(['street', 'market', 'city', 'state', 'country', 'country_code', 'smart_location'], axis = 1)\n",
    "df56.shape"
   ]
  },
  {
   "cell_type": "markdown",
   "metadata": {},
   "source": [
    "#### 3.3.2) &nbsp; &nbsp; Drop rows"
   ]
  },
  {
   "cell_type": "code",
   "execution_count": 40,
   "metadata": {
    "scrolled": true
   },
   "outputs": [
    {
     "data": {
      "text/plain": [
       "(1093485, 56)"
      ]
     },
     "execution_count": 40,
     "metadata": {},
     "output_type": "execute_result"
    }
   ],
   "source": [
    "#Drop rows with more than 40 missing values\n",
    "\n",
    "df56r = df56[df56['missing_values']<40]\n",
    "df56r.shape"
   ]
  },
  {
   "cell_type": "markdown",
   "metadata": {},
   "source": [
    "#### 3.3.3) &nbsp; &nbsp; Impute numeric features"
   ]
  },
  {
   "cell_type": "code",
   "execution_count": 41,
   "metadata": {},
   "outputs": [
    {
     "data": {
      "text/plain": [
       "listing_id                           0\n",
       "scrape_id                            0\n",
       "host_id                              0\n",
       "host_listings_count                 71\n",
       "host_total_listings_count           71\n",
       "latitude                             0\n",
       "longitude                            0\n",
       "accommodates                         0\n",
       "bathrooms                         6517\n",
       "bedrooms                          3979\n",
       "beds                              2025\n",
       "price                                0\n",
       "guests_included                      0\n",
       "extra_people                         0\n",
       "minimum_nights                       0\n",
       "maximum_nights                       0\n",
       "availability_30                      0\n",
       "availability_60                      0\n",
       "availability_90                      0\n",
       "availability_365                     0\n",
       "number_of_reviews                    0\n",
       "calculated_host_listings_count       0\n",
       "seattle                              0\n",
       "missing_values                       0\n",
       "dtype: int64"
      ]
     },
     "execution_count": 41,
     "metadata": {},
     "output_type": "execute_result"
    }
   ],
   "source": [
    "#Assess number of missing values by numeric variable\n",
    "df56r.select_dtypes(include='number').isnull().sum()"
   ]
  },
  {
   "cell_type": "code",
   "execution_count": 42,
   "metadata": {},
   "outputs": [],
   "source": [
    "col_to_fil = [\n",
    "    'host_listings_count',\n",
    "    'host_total_listings_count',\n",
    "    'bathrooms',\n",
    "    'bedrooms',\n",
    "    'beds'\n",
    "]"
   ]
  },
  {
   "cell_type": "code",
   "execution_count": 43,
   "metadata": {},
   "outputs": [
    {
     "name": "stderr",
     "output_type": "stream",
     "text": [
      "C:\\ProgramData\\Anaconda3\\lib\\site-packages\\ipykernel_launcher.py:4: SettingWithCopyWarning: \n",
      "A value is trying to be set on a copy of a slice from a DataFrame.\n",
      "Try using .loc[row_indexer,col_indexer] = value instead\n",
      "\n",
      "See the caveats in the documentation: http://pandas.pydata.org/pandas-docs/stable/indexing.html#indexing-view-versus-copy\n",
      "  after removing the cwd from sys.path.\n"
     ]
    }
   ],
   "source": [
    "#Fill missing numeric values by mean\n",
    "\n",
    "for i in col_to_fil:\n",
    "    df56r[i] = df56r[i].fillna(df56r[i].mean())"
   ]
  },
  {
   "cell_type": "code",
   "execution_count": 44,
   "metadata": {
    "scrolled": true
   },
   "outputs": [
    {
     "data": {
      "text/plain": [
       "listing_id                        0\n",
       "scrape_id                         0\n",
       "host_id                           0\n",
       "host_listings_count               0\n",
       "host_total_listings_count         0\n",
       "latitude                          0\n",
       "longitude                         0\n",
       "accommodates                      0\n",
       "bathrooms                         0\n",
       "bedrooms                          0\n",
       "beds                              0\n",
       "price                             0\n",
       "guests_included                   0\n",
       "extra_people                      0\n",
       "minimum_nights                    0\n",
       "maximum_nights                    0\n",
       "availability_30                   0\n",
       "availability_60                   0\n",
       "availability_90                   0\n",
       "availability_365                  0\n",
       "number_of_reviews                 0\n",
       "calculated_host_listings_count    0\n",
       "seattle                           0\n",
       "missing_values                    0\n",
       "dtype: int64"
      ]
     },
     "execution_count": 44,
     "metadata": {},
     "output_type": "execute_result"
    }
   ],
   "source": [
    "#Control\n",
    "df56r.select_dtypes(include='number').isnull().sum()"
   ]
  },
  {
   "cell_type": "code",
   "execution_count": 45,
   "metadata": {
    "scrolled": true
   },
   "outputs": [
    {
     "data": {
      "text/plain": [
       "<matplotlib.legend.Legend at 0x20d801ccf98>"
      ]
     },
     "execution_count": 45,
     "metadata": {},
     "output_type": "execute_result"
    },
    {
     "data": {
      "image/png": "[encoded data removed]",
      "text/plain": [
       "<Figure size 720x360 with 1 Axes>"
      ]
     },
     "metadata": {
      "needs_background": "light"
     },
     "output_type": "display_data"
    }
   ],
   "source": [
    "#Control\n",
    "\n",
    "plt.figure(figsize=(10,5))\n",
    "plt.hist(df.isnull().sum(axis=1), range(0,25), color = 'red', alpha=.5)\n",
    "plt.hist(df56r.isnull().sum(axis=1), range(0,25), color = 'blue', alpha=.5)\n",
    "plt.title('Number of rows by number of missing attributes per row')\n",
    "plt.xlabel('Number of missing attributes in a row')\n",
    "plt.ylabel('Number of rows')\n",
    "plt.legend(['Before handling missing data', 'After handling missing data'])"
   ]
  },
  {
   "cell_type": "markdown",
   "metadata": {},
   "source": [
    "### 3.4) &nbsp; &nbsp; Changing some further data types"
   ]
  },
  {
   "cell_type": "markdown",
   "metadata": {},
   "source": [
    "I.e. beyond price features."
   ]
  },
  {
   "cell_type": "code",
   "execution_count": 46,
   "metadata": {},
   "outputs": [],
   "source": [
    "#Change IDs to object to easily exclude these from correlation matrices\n",
    "\n",
    "id_list = ['host_id', 'listing_id', 'scrape_id']\n",
    "\n",
    "for i in id_list:\n",
    "    \n",
    "          df[i] = df[i].astype('object')"
   ]
  },
  {
   "cell_type": "code",
   "execution_count": 47,
   "metadata": {},
   "outputs": [
    {
     "name": "stderr",
     "output_type": "stream",
     "text": [
      "C:\\ProgramData\\Anaconda3\\lib\\site-packages\\ipykernel_launcher.py:3: SettingWithCopyWarning: \n",
      "A value is trying to be set on a copy of a slice from a DataFrame.\n",
      "Try using .loc[row_indexer,col_indexer] = value instead\n",
      "\n",
      "See the caveats in the documentation: http://pandas.pydata.org/pandas-docs/stable/indexing.html#indexing-view-versus-copy\n",
      "  This is separate from the ipykernel package so we can avoid doing imports until\n"
     ]
    }
   ],
   "source": [
    "for i in id_list:\n",
    "    \n",
    "          df56r[i] = df56r[i].astype('object')"
   ]
  },
  {
   "cell_type": "code",
   "execution_count": 53,
   "metadata": {},
   "outputs": [
    {
     "data": {
      "text/plain": [
       "dtype('O')"
      ]
     },
     "execution_count": 53,
     "metadata": {},
     "output_type": "execute_result"
    }
   ],
   "source": [
    "#Control\n",
    "df56r['host_id'].dtype"
   ]
  },
  {
   "cell_type": "markdown",
   "metadata": {},
   "source": [
    "## 4) &nbsp; &nbsp; Data Modeling"
   ]
  },
  {
   "cell_type": "markdown",
   "metadata": {},
   "source": [
    "### 4.1) &nbsp; &nbsp; Question 1:\n",
    "To which extent is data available on listings of Boston and Seattle Aribnbs? Is there a significant difference in the availability of data for the two cities?"
   ]
  },
  {
   "cell_type": "markdown",
   "metadata": {},
   "source": [
    "#### 4.1.1) &nbsp; &nbsp; Assess missing data per feature"
   ]
  },
  {
   "cell_type": "markdown",
   "metadata": {},
   "source": [
    "##### Analyze - Assess missing data"
   ]
  },
  {
   "cell_type": "code",
   "execution_count": 54,
   "metadata": {},
   "outputs": [
    {
     "name": "stdout",
     "output_type": "stream",
     "text": [
      "------------ \n",
      " Time spent on task execution: \n",
      "  0 minute(s) 10.34 second(s)\n"
     ]
    }
   ],
   "source": [
    "#Create a dataframe of the number of missing values per column\n",
    "start = time.time()\n",
    "\n",
    "mis_df = pd.DataFrame(np.sum(df.isnull())/df.shape[0])\n",
    "mis_df.columns = [\"missing_proportion\"]\n",
    "mis_df_sort = mis_df.sort_values(by=[\"missing_proportion\"])\n",
    "\n",
    "###Create feature from the index\n",
    "mis_df_sort['feature'] = mis_df_sort.index\n",
    "\n",
    "end = time.time()\n",
    "t = end - start\n",
    "print('------------ \\n Time spent on task execution: \\n ', int(t/60), 'minute(s)', round(t%60,2), 'second(s)')"
   ]
  },
  {
   "cell_type": "markdown",
   "metadata": {},
   "source": [
    "##### Visualize - Missing data per feature"
   ]
  },
  {
   "cell_type": "code",
   "execution_count": 55,
   "metadata": {},
   "outputs": [
    {
     "name": "stderr",
     "output_type": "stream",
     "text": [
      "C:\\ProgramData\\Anaconda3\\lib\\site-packages\\matplotlib\\figure.py:98: MatplotlibDeprecationWarning: \n",
      "Adding an axes using the same arguments as a previous axes currently reuses the earlier instance.  In a future version, a new instance will always be created and returned.  Meanwhile, this warning can be suppressed, and the future behavior ensured, by passing a unique label to each axes instance.\n",
      "  \"Adding an axes using the same arguments as a previous axes \"\n"
     ]
    },
    {
     "name": "stdout",
     "output_type": "stream",
     "text": [
      "------------ \n",
      " Time spent on task execution: \n",
      "  0 minute(s) 3.52 second(s)\n"
     ]
    },
    {
     "data": {
      "image/png": "[encoded data removed]",
      "text/plain": [
       "<Figure size 1440x360 with 1 Axes>"
      ]
     },
     "metadata": {
      "needs_background": "light"
     },
     "output_type": "display_data"
    }
   ],
   "source": [
    "#Visualizing proportion of missing values per feature\n",
    "start = time.time()\n",
    "\n",
    "plt.figure(figsize=(20,5))\n",
    "\n",
    "x = range(mis_df_sort.shape[0])\n",
    "y = mis_df_sort['missing_proportion']\n",
    "\n",
    "col = []\n",
    "\n",
    "for i in y:\n",
    "    if i <= .6:\n",
    "        col.append('darkblue')\n",
    "    else:\n",
    "        col.append('lightgray')\n",
    "        plt.bar(x,y)\n",
    "\n",
    "plt.bar(x,y,color=col)\n",
    "\n",
    "ax = plt.subplot()\n",
    "ax.set_xticks(range(mis_df_sort.shape[0]))\n",
    "ax.set_xticklabels(mis_df_sort['feature'], rotation = 90)\n",
    "plt.title('Proportion of missing values by feature')\n",
    "plt.savefig(\"Proportion_missing_by_feature.png\")\n",
    "\n",
    "end = time.time()\n",
    "t = end - start\n",
    "print('------------ \\n Time spent on task execution: \\n ', int(t/60), 'minute(s)', round(t%60,2), 'second(s)')"
   ]
  },
  {
   "cell_type": "markdown",
   "metadata": {},
   "source": [
    ">__Observations__:\n",
    ">- There are 4 features for which the proportion of missing values is around zero: `listing_id`, `seattle` (added during Data preparation), `date` and `available`, of which the latter two stem from the `Calendar` datasets.\n",
    ">- `Price` is the feature which is not fully complete in the dataset but the proportion of missing values is below 50% for it.\n",
    ">- There is a large set of features for which the extent of missing values is around 60% (marked by blue).\n",
    ">- There are features for which the dataset contains hardly any data entries, e.g. `square_feet`."
   ]
  },
  {
   "cell_type": "markdown",
   "metadata": {},
   "source": [
    "#### 4.1.2) &nbsp; &nbsp; Assess missing data per feature by city"
   ]
  },
  {
   "cell_type": "markdown",
   "metadata": {},
   "source": [
    "##### Analyze - Missing data by city"
   ]
  },
  {
   "cell_type": "code",
   "execution_count": 56,
   "metadata": {},
   "outputs": [],
   "source": [
    "dfs_mis = pd.DataFrame(np.sum(dfs.isnull())/dfs.shape[0])"
   ]
  },
  {
   "cell_type": "code",
   "execution_count": 57,
   "metadata": {},
   "outputs": [
    {
     "data": {
      "text/html": [
       "<div>\n",
       "<style scoped>\n",
       "    .dataframe tbody tr th:only-of-type {\n",
       "        vertical-align: middle;\n",
       "    }\n",
       "\n",
       "    .dataframe tbody tr th {\n",
       "        vertical-align: top;\n",
       "    }\n",
       "\n",
       "    .dataframe thead th {\n",
       "        text-align: right;\n",
       "    }\n",
       "</style>\n",
       "<table border=\"1\" class=\"dataframe\">\n",
       "  <thead>\n",
       "    <tr style=\"text-align: right;\">\n",
       "      <th></th>\n",
       "      <th>0</th>\n",
       "    </tr>\n",
       "  </thead>\n",
       "  <tbody>\n",
       "    <tr>\n",
       "      <th>listing_id</th>\n",
       "      <td>0.000000</td>\n",
       "    </tr>\n",
       "    <tr>\n",
       "      <th>listing_url</th>\n",
       "      <td>0.510162</td>\n",
       "    </tr>\n",
       "    <tr>\n",
       "      <th>scrape_id</th>\n",
       "      <td>0.510162</td>\n",
       "    </tr>\n",
       "  </tbody>\n",
       "</table>\n",
       "</div>"
      ],
      "text/plain": [
       "                    0\n",
       "listing_id   0.000000\n",
       "listing_url  0.510162\n",
       "scrape_id    0.510162"
      ]
     },
     "execution_count": 57,
     "metadata": {},
     "output_type": "execute_result"
    }
   ],
   "source": [
    "dfs_mis.head(3)"
   ]
  },
  {
   "cell_type": "code",
   "execution_count": 58,
   "metadata": {},
   "outputs": [],
   "source": [
    "dfb_mis = pd.DataFrame(np.sum(dfb.isnull())/dfb.shape[0])"
   ]
  },
  {
   "cell_type": "code",
   "execution_count": 59,
   "metadata": {},
   "outputs": [
    {
     "data": {
      "text/html": [
       "<div>\n",
       "<style scoped>\n",
       "    .dataframe tbody tr th:only-of-type {\n",
       "        vertical-align: middle;\n",
       "    }\n",
       "\n",
       "    .dataframe tbody tr th {\n",
       "        vertical-align: top;\n",
       "    }\n",
       "\n",
       "    .dataframe thead th {\n",
       "        text-align: right;\n",
       "    }\n",
       "</style>\n",
       "<table border=\"1\" class=\"dataframe\">\n",
       "  <thead>\n",
       "    <tr style=\"text-align: right;\">\n",
       "      <th></th>\n",
       "      <th>0</th>\n",
       "    </tr>\n",
       "  </thead>\n",
       "  <tbody>\n",
       "    <tr>\n",
       "      <th>listing_id</th>\n",
       "      <td>0.000000</td>\n",
       "    </tr>\n",
       "    <tr>\n",
       "      <th>listing_url</th>\n",
       "      <td>0.686512</td>\n",
       "    </tr>\n",
       "    <tr>\n",
       "      <th>scrape_id</th>\n",
       "      <td>0.686512</td>\n",
       "    </tr>\n",
       "  </tbody>\n",
       "</table>\n",
       "</div>"
      ],
      "text/plain": [
       "                    0\n",
       "listing_id   0.000000\n",
       "listing_url  0.686512\n",
       "scrape_id    0.686512"
      ]
     },
     "execution_count": 59,
     "metadata": {},
     "output_type": "execute_result"
    }
   ],
   "source": [
    "dfb_mis.head(3)"
   ]
  },
  {
   "cell_type": "code",
   "execution_count": 60,
   "metadata": {},
   "outputs": [],
   "source": [
    "#Create a summary dataset of proportion of missing values per feature grouped by city\n",
    "df_mis_gro = pd.merge(dfb_mis, dfs_mis, left_index=True, right_index=True)\n",
    "df_mis_gro.columns = ['Boston', 'Seattle']\n",
    "df_mis_gro['Difference'] = dfb_mis - dfs_mis"
   ]
  },
  {
   "cell_type": "code",
   "execution_count": 61,
   "metadata": {},
   "outputs": [
    {
     "data": {
      "text/plain": [
       "(95, 3)"
      ]
     },
     "execution_count": 61,
     "metadata": {},
     "output_type": "execute_result"
    }
   ],
   "source": [
    "df_mis_gro.shape"
   ]
  },
  {
   "cell_type": "code",
   "execution_count": 62,
   "metadata": {
    "scrolled": false
   },
   "outputs": [
    {
     "data": {
      "text/html": [
       "<div>\n",
       "<style scoped>\n",
       "    .dataframe tbody tr th:only-of-type {\n",
       "        vertical-align: middle;\n",
       "    }\n",
       "\n",
       "    .dataframe tbody tr th {\n",
       "        vertical-align: top;\n",
       "    }\n",
       "\n",
       "    .dataframe thead th {\n",
       "        text-align: right;\n",
       "    }\n",
       "</style>\n",
       "<table border=\"1\" class=\"dataframe\">\n",
       "  <thead>\n",
       "    <tr style=\"text-align: right;\">\n",
       "      <th></th>\n",
       "      <th>Boston</th>\n",
       "      <th>Seattle</th>\n",
       "      <th>Difference</th>\n",
       "    </tr>\n",
       "  </thead>\n",
       "  <tbody>\n",
       "    <tr>\n",
       "      <th>listing_id</th>\n",
       "      <td>0.000000</td>\n",
       "      <td>0.000000</td>\n",
       "      <td>0.00000</td>\n",
       "    </tr>\n",
       "    <tr>\n",
       "      <th>listing_url</th>\n",
       "      <td>0.686512</td>\n",
       "      <td>0.510162</td>\n",
       "      <td>0.17635</td>\n",
       "    </tr>\n",
       "    <tr>\n",
       "      <th>scrape_id</th>\n",
       "      <td>0.686512</td>\n",
       "      <td>0.510162</td>\n",
       "      <td>0.17635</td>\n",
       "    </tr>\n",
       "  </tbody>\n",
       "</table>\n",
       "</div>"
      ],
      "text/plain": [
       "               Boston   Seattle  Difference\n",
       "listing_id   0.000000  0.000000     0.00000\n",
       "listing_url  0.686512  0.510162     0.17635\n",
       "scrape_id    0.686512  0.510162     0.17635"
      ]
     },
     "execution_count": 62,
     "metadata": {},
     "output_type": "execute_result"
    }
   ],
   "source": [
    "df_mis_gro.head(3)"
   ]
  },
  {
   "cell_type": "markdown",
   "metadata": {},
   "source": [
    "##### Visualize - Differences in missing data by city"
   ]
  },
  {
   "cell_type": "code",
   "execution_count": 71,
   "metadata": {},
   "outputs": [
    {
     "data": {
      "text/html": [
       "<style  type=\"text/css\" >\n",
       "    #T_9fb09902_fa93_11ea_aed1_98fa9b1ad20erow0_col2 {\n",
       "            width:  10em;\n",
       "             height:  80%;\n",
       "        }    #T_9fb09902_fa93_11ea_aed1_98fa9b1ad20erow1_col2 {\n",
       "            width:  10em;\n",
       "             height:  80%;\n",
       "            background:  linear-gradient(90deg,#5fba7d 18.0%, transparent 18.0%);\n",
       "        }    #T_9fb09902_fa93_11ea_aed1_98fa9b1ad20erow2_col2 {\n",
       "            width:  10em;\n",
       "             height:  80%;\n",
       "            background:  linear-gradient(90deg,#5fba7d 18.0%, transparent 18.0%);\n",
       "        }    #T_9fb09902_fa93_11ea_aed1_98fa9b1ad20erow3_col2 {\n",
       "            width:  10em;\n",
       "             height:  80%;\n",
       "            background:  linear-gradient(90deg,#5fba7d 18.0%, transparent 18.0%);\n",
       "        }    #T_9fb09902_fa93_11ea_aed1_98fa9b1ad20erow4_col2 {\n",
       "            width:  10em;\n",
       "             height:  80%;\n",
       "            background:  linear-gradient(90deg,#5fba7d 18.0%, transparent 18.0%);\n",
       "        }    #T_9fb09902_fa93_11ea_aed1_98fa9b1ad20erow5_col2 {\n",
       "            width:  10em;\n",
       "             height:  80%;\n",
       "            background:  linear-gradient(90deg,#5fba7d 17.8%, transparent 17.8%);\n",
       "        }    #T_9fb09902_fa93_11ea_aed1_98fa9b1ad20erow6_col2 {\n",
       "            width:  10em;\n",
       "             height:  80%;\n",
       "            background:  linear-gradient(90deg,#5fba7d 18.2%, transparent 18.2%);\n",
       "        }    #T_9fb09902_fa93_11ea_aed1_98fa9b1ad20erow7_col2 {\n",
       "            width:  10em;\n",
       "             height:  80%;\n",
       "            background:  linear-gradient(90deg,#5fba7d 18.0%, transparent 18.0%);\n",
       "        }    #T_9fb09902_fa93_11ea_aed1_98fa9b1ad20erow8_col2 {\n",
       "            width:  10em;\n",
       "             height:  80%;\n",
       "            background:  linear-gradient(90deg,#5fba7d 18.0%, transparent 18.0%);\n",
       "        }    #T_9fb09902_fa93_11ea_aed1_98fa9b1ad20erow9_col2 {\n",
       "            width:  10em;\n",
       "             height:  80%;\n",
       "            background:  linear-gradient(90deg,#5fba7d 16.5%, transparent 16.5%);\n",
       "        }    #T_9fb09902_fa93_11ea_aed1_98fa9b1ad20erow10_col2 {\n",
       "            width:  10em;\n",
       "             height:  80%;\n",
       "            background:  linear-gradient(90deg,#5fba7d 13.1%, transparent 13.1%);\n",
       "        }    #T_9fb09902_fa93_11ea_aed1_98fa9b1ad20erow11_col2 {\n",
       "            width:  10em;\n",
       "             height:  80%;\n",
       "            background:  linear-gradient(90deg,#5fba7d 17.3%, transparent 17.3%);\n",
       "        }    #T_9fb09902_fa93_11ea_aed1_98fa9b1ad20erow12_col2 {\n",
       "            width:  10em;\n",
       "             height:  80%;\n",
       "            background:  linear-gradient(90deg,#5fba7d 20.6%, transparent 20.6%);\n",
       "        }    #T_9fb09902_fa93_11ea_aed1_98fa9b1ad20erow13_col2 {\n",
       "            width:  10em;\n",
       "             height:  80%;\n",
       "            background:  linear-gradient(90deg,#5fba7d 20.6%, transparent 20.6%);\n",
       "        }    #T_9fb09902_fa93_11ea_aed1_98fa9b1ad20erow14_col2 {\n",
       "            width:  10em;\n",
       "             height:  80%;\n",
       "            background:  linear-gradient(90deg,#5fba7d 18.0%, transparent 18.0%);\n",
       "        }    #T_9fb09902_fa93_11ea_aed1_98fa9b1ad20erow15_col2 {\n",
       "            width:  10em;\n",
       "             height:  80%;\n",
       "            background:  linear-gradient(90deg,#5fba7d 20.6%, transparent 20.6%);\n",
       "        }    #T_9fb09902_fa93_11ea_aed1_98fa9b1ad20erow16_col2 {\n",
       "            width:  10em;\n",
       "             height:  80%;\n",
       "            background:  linear-gradient(90deg,#5fba7d 18.0%, transparent 18.0%);\n",
       "        }    #T_9fb09902_fa93_11ea_aed1_98fa9b1ad20erow17_col2 {\n",
       "            width:  10em;\n",
       "             height:  80%;\n",
       "            background:  linear-gradient(90deg,#5fba7d 18.0%, transparent 18.0%);\n",
       "        }    #T_9fb09902_fa93_11ea_aed1_98fa9b1ad20erow18_col2 {\n",
       "            width:  10em;\n",
       "             height:  80%;\n",
       "            background:  linear-gradient(90deg,#5fba7d 18.0%, transparent 18.0%);\n",
       "        }    #T_9fb09902_fa93_11ea_aed1_98fa9b1ad20erow19_col2 {\n",
       "            width:  10em;\n",
       "             height:  80%;\n",
       "            background:  linear-gradient(90deg,#5fba7d 18.0%, transparent 18.0%);\n",
       "        }    #T_9fb09902_fa93_11ea_aed1_98fa9b1ad20erow20_col2 {\n",
       "            width:  10em;\n",
       "             height:  80%;\n",
       "            background:  linear-gradient(90deg,#5fba7d 18.0%, transparent 18.0%);\n",
       "        }    #T_9fb09902_fa93_11ea_aed1_98fa9b1ad20erow21_col2 {\n",
       "            width:  10em;\n",
       "             height:  80%;\n",
       "            background:  linear-gradient(90deg,#5fba7d 16.7%, transparent 16.7%);\n",
       "        }    #T_9fb09902_fa93_11ea_aed1_98fa9b1ad20erow22_col2 {\n",
       "            width:  10em;\n",
       "             height:  80%;\n",
       "            background:  linear-gradient(90deg,#5fba7d 12.1%, transparent 12.1%);\n",
       "        }    #T_9fb09902_fa93_11ea_aed1_98fa9b1ad20erow23_col2 {\n",
       "            width:  10em;\n",
       "             height:  80%;\n",
       "            background:  linear-gradient(90deg,#5fba7d 12.1%, transparent 12.1%);\n",
       "        }    #T_9fb09902_fa93_11ea_aed1_98fa9b1ad20erow24_col2 {\n",
       "            width:  10em;\n",
       "             height:  80%;\n",
       "            background:  linear-gradient(90deg,#5fba7d 8.2%, transparent 8.2%);\n",
       "        }    #T_9fb09902_fa93_11ea_aed1_98fa9b1ad20erow25_col2 {\n",
       "            width:  10em;\n",
       "             height:  80%;\n",
       "            background:  linear-gradient(90deg,#5fba7d 18.0%, transparent 18.0%);\n",
       "        }    #T_9fb09902_fa93_11ea_aed1_98fa9b1ad20erow26_col2 {\n",
       "            width:  10em;\n",
       "             height:  80%;\n",
       "            background:  linear-gradient(90deg,#5fba7d 18.0%, transparent 18.0%);\n",
       "        }    #T_9fb09902_fa93_11ea_aed1_98fa9b1ad20erow27_col2 {\n",
       "            width:  10em;\n",
       "             height:  80%;\n",
       "            background:  linear-gradient(90deg,#5fba7d 18.0%, transparent 18.0%);\n",
       "        }    #T_9fb09902_fa93_11ea_aed1_98fa9b1ad20erow28_col2 {\n",
       "            width:  10em;\n",
       "             height:  80%;\n",
       "            background:  linear-gradient(90deg,#5fba7d 17.0%, transparent 17.0%);\n",
       "        }    #T_9fb09902_fa93_11ea_aed1_98fa9b1ad20erow29_col2 {\n",
       "            width:  10em;\n",
       "             height:  80%;\n",
       "            background:  linear-gradient(90deg,#5fba7d 18.0%, transparent 18.0%);\n",
       "        }    #T_9fb09902_fa93_11ea_aed1_98fa9b1ad20erow30_col2 {\n",
       "            width:  10em;\n",
       "             height:  80%;\n",
       "            background:  linear-gradient(90deg,#5fba7d 18.0%, transparent 18.0%);\n",
       "        }    #T_9fb09902_fa93_11ea_aed1_98fa9b1ad20erow31_col2 {\n",
       "            width:  10em;\n",
       "             height:  80%;\n",
       "            background:  linear-gradient(90deg,#5fba7d 18.0%, transparent 18.0%);\n",
       "        }    #T_9fb09902_fa93_11ea_aed1_98fa9b1ad20erow32_col2 {\n",
       "            width:  10em;\n",
       "             height:  80%;\n",
       "            background:  linear-gradient(90deg,#5fba7d 18.0%, transparent 18.0%);\n",
       "        }    #T_9fb09902_fa93_11ea_aed1_98fa9b1ad20erow33_col2 {\n",
       "            width:  10em;\n",
       "             height:  80%;\n",
       "            background:  linear-gradient(90deg,#5fba7d 18.0%, transparent 18.0%);\n",
       "        }    #T_9fb09902_fa93_11ea_aed1_98fa9b1ad20erow34_col2 {\n",
       "            width:  10em;\n",
       "             height:  80%;\n",
       "            background:  linear-gradient(90deg,#5fba7d 18.0%, transparent 18.0%);\n",
       "        }    #T_9fb09902_fa93_11ea_aed1_98fa9b1ad20erow35_col2 {\n",
       "            width:  10em;\n",
       "             height:  80%;\n",
       "            background:  linear-gradient(90deg,#5fba7d 17.9%, transparent 17.9%);\n",
       "        }    #T_9fb09902_fa93_11ea_aed1_98fa9b1ad20erow36_col2 {\n",
       "            width:  10em;\n",
       "             height:  80%;\n",
       "            background:  linear-gradient(90deg,#5fba7d 18.0%, transparent 18.0%);\n",
       "        }    #T_9fb09902_fa93_11ea_aed1_98fa9b1ad20erow37_col2 {\n",
       "            width:  10em;\n",
       "             height:  80%;\n",
       "            background:  linear-gradient(90deg,#5fba7d 50.0%, transparent 50.0%);\n",
       "        }    #T_9fb09902_fa93_11ea_aed1_98fa9b1ad20erow38_col2 {\n",
       "            width:  10em;\n",
       "             height:  80%;\n",
       "            background:  linear-gradient(90deg,#5fba7d 18.1%, transparent 18.1%);\n",
       "        }    #T_9fb09902_fa93_11ea_aed1_98fa9b1ad20erow39_col2 {\n",
       "            width:  10em;\n",
       "             height:  80%;\n",
       "            background:  linear-gradient(90deg,#5fba7d 18.0%, transparent 18.0%);\n",
       "        }    #T_9fb09902_fa93_11ea_aed1_98fa9b1ad20erow40_col2 {\n",
       "            width:  10em;\n",
       "             height:  80%;\n",
       "            background:  linear-gradient(90deg,#5fba7d 18.1%, transparent 18.1%);\n",
       "        }    #T_9fb09902_fa93_11ea_aed1_98fa9b1ad20erow41_col2 {\n",
       "            width:  10em;\n",
       "             height:  80%;\n",
       "            background:  linear-gradient(90deg,#5fba7d 18.2%, transparent 18.2%);\n",
       "        }    #T_9fb09902_fa93_11ea_aed1_98fa9b1ad20erow42_col2 {\n",
       "            width:  10em;\n",
       "             height:  80%;\n",
       "            background:  linear-gradient(90deg,#5fba7d 18.0%, transparent 18.0%);\n",
       "        }    #T_9fb09902_fa93_11ea_aed1_98fa9b1ad20erow43_col2 {\n",
       "            width:  10em;\n",
       "             height:  80%;\n",
       "            background:  linear-gradient(90deg,#5fba7d 18.0%, transparent 18.0%);\n",
       "        }    #T_9fb09902_fa93_11ea_aed1_98fa9b1ad20erow44_col2 {\n",
       "            width:  10em;\n",
       "             height:  80%;\n",
       "            background:  linear-gradient(90deg,#5fba7d 18.0%, transparent 18.0%);\n",
       "        }    #T_9fb09902_fa93_11ea_aed1_98fa9b1ad20erow45_col2 {\n",
       "            width:  10em;\n",
       "             height:  80%;\n",
       "            background:  linear-gradient(90deg,#5fba7d 18.0%, transparent 18.0%);\n",
       "        }    #T_9fb09902_fa93_11ea_aed1_98fa9b1ad20erow46_col2 {\n",
       "            width:  10em;\n",
       "             height:  80%;\n",
       "            background:  linear-gradient(90deg,#5fba7d 18.0%, transparent 18.0%);\n",
       "        }    #T_9fb09902_fa93_11ea_aed1_98fa9b1ad20erow47_col2 {\n",
       "            width:  10em;\n",
       "             height:  80%;\n",
       "            background:  linear-gradient(90deg,#5fba7d 18.0%, transparent 18.0%);\n",
       "        }    #T_9fb09902_fa93_11ea_aed1_98fa9b1ad20erow48_col2 {\n",
       "            width:  10em;\n",
       "             height:  80%;\n",
       "            background:  linear-gradient(90deg,#5fba7d 18.0%, transparent 18.0%);\n",
       "        }    #T_9fb09902_fa93_11ea_aed1_98fa9b1ad20erow49_col2 {\n",
       "            width:  10em;\n",
       "             height:  80%;\n",
       "            background:  linear-gradient(90deg,#5fba7d 18.0%, transparent 18.0%);\n",
       "        }    #T_9fb09902_fa93_11ea_aed1_98fa9b1ad20erow50_col2 {\n",
       "            width:  10em;\n",
       "             height:  80%;\n",
       "            background:  linear-gradient(90deg,#5fba7d 18.0%, transparent 18.0%);\n",
       "        }    #T_9fb09902_fa93_11ea_aed1_98fa9b1ad20erow51_col2 {\n",
       "            width:  10em;\n",
       "             height:  80%;\n",
       "            background:  linear-gradient(90deg,#5fba7d 18.0%, transparent 18.0%);\n",
       "        }    #T_9fb09902_fa93_11ea_aed1_98fa9b1ad20erow52_col2 {\n",
       "            width:  10em;\n",
       "             height:  80%;\n",
       "            background:  linear-gradient(90deg,#5fba7d 18.1%, transparent 18.1%);\n",
       "        }    #T_9fb09902_fa93_11ea_aed1_98fa9b1ad20erow53_col2 {\n",
       "            width:  10em;\n",
       "             height:  80%;\n",
       "            background:  linear-gradient(90deg,#5fba7d 18.1%, transparent 18.1%);\n",
       "        }    #T_9fb09902_fa93_11ea_aed1_98fa9b1ad20erow54_col2 {\n",
       "            width:  10em;\n",
       "             height:  80%;\n",
       "            background:  linear-gradient(90deg,#5fba7d 18.0%, transparent 18.0%);\n",
       "        }    #T_9fb09902_fa93_11ea_aed1_98fa9b1ad20erow55_col2 {\n",
       "            width:  10em;\n",
       "             height:  80%;\n",
       "            background:  linear-gradient(90deg,#5fba7d 18.0%, transparent 18.0%);\n",
       "        }    #T_9fb09902_fa93_11ea_aed1_98fa9b1ad20erow56_col2 {\n",
       "            width:  10em;\n",
       "             height:  80%;\n",
       "            background:  linear-gradient(90deg,#5fba7d 0.5%, transparent 0.5%);\n",
       "        }    #T_9fb09902_fa93_11ea_aed1_98fa9b1ad20erow57_col2 {\n",
       "            width:  10em;\n",
       "             height:  80%;\n",
       "            background:  linear-gradient(90deg,#5fba7d 18.3%, transparent 18.3%);\n",
       "        }    #T_9fb09902_fa93_11ea_aed1_98fa9b1ad20erow58_col2 {\n",
       "            width:  10em;\n",
       "             height:  80%;\n",
       "            background:  linear-gradient(90deg,#5fba7d 17.9%, transparent 17.9%);\n",
       "        }    #T_9fb09902_fa93_11ea_aed1_98fa9b1ad20erow59_col2 {\n",
       "            width:  10em;\n",
       "             height:  80%;\n",
       "            background:  linear-gradient(90deg,#5fba7d 11.2%, transparent 11.2%);\n",
       "        }    #T_9fb09902_fa93_11ea_aed1_98fa9b1ad20erow60_col2 {\n",
       "            width:  10em;\n",
       "             height:  80%;\n",
       "            background:  linear-gradient(90deg,#5fba7d 11.7%, transparent 11.7%);\n",
       "        }    #T_9fb09902_fa93_11ea_aed1_98fa9b1ad20erow61_col2 {\n",
       "            width:  10em;\n",
       "             height:  80%;\n",
       "            background:  linear-gradient(90deg,#5fba7d 12.8%, transparent 12.8%);\n",
       "        }    #T_9fb09902_fa93_11ea_aed1_98fa9b1ad20erow62_col2 {\n",
       "            width:  10em;\n",
       "             height:  80%;\n",
       "            background:  linear-gradient(90deg,#5fba7d 18.0%, transparent 18.0%);\n",
       "        }    #T_9fb09902_fa93_11ea_aed1_98fa9b1ad20erow63_col2 {\n",
       "            width:  10em;\n",
       "             height:  80%;\n",
       "            background:  linear-gradient(90deg,#5fba7d 18.0%, transparent 18.0%);\n",
       "        }    #T_9fb09902_fa93_11ea_aed1_98fa9b1ad20erow64_col2 {\n",
       "            width:  10em;\n",
       "             height:  80%;\n",
       "            background:  linear-gradient(90deg,#5fba7d 18.0%, transparent 18.0%);\n",
       "        }    #T_9fb09902_fa93_11ea_aed1_98fa9b1ad20erow65_col2 {\n",
       "            width:  10em;\n",
       "             height:  80%;\n",
       "            background:  linear-gradient(90deg,#5fba7d 18.0%, transparent 18.0%);\n",
       "        }    #T_9fb09902_fa93_11ea_aed1_98fa9b1ad20erow66_col2 {\n",
       "            width:  10em;\n",
       "             height:  80%;\n",
       "            background:  linear-gradient(90deg,#5fba7d 18.0%, transparent 18.0%);\n",
       "        }    #T_9fb09902_fa93_11ea_aed1_98fa9b1ad20erow67_col2 {\n",
       "            width:  10em;\n",
       "             height:  80%;\n",
       "            background:  linear-gradient(90deg,#5fba7d 50.0%, transparent 50.0%);\n",
       "        }    #T_9fb09902_fa93_11ea_aed1_98fa9b1ad20erow68_col2 {\n",
       "            width:  10em;\n",
       "             height:  80%;\n",
       "            background:  linear-gradient(90deg,#5fba7d 18.0%, transparent 18.0%);\n",
       "        }    #T_9fb09902_fa93_11ea_aed1_98fa9b1ad20erow69_col2 {\n",
       "            width:  10em;\n",
       "             height:  80%;\n",
       "            background:  linear-gradient(90deg,#5fba7d 18.0%, transparent 18.0%);\n",
       "        }    #T_9fb09902_fa93_11ea_aed1_98fa9b1ad20erow70_col2 {\n",
       "            width:  10em;\n",
       "             height:  80%;\n",
       "            background:  linear-gradient(90deg,#5fba7d 18.0%, transparent 18.0%);\n",
       "        }    #T_9fb09902_fa93_11ea_aed1_98fa9b1ad20erow71_col2 {\n",
       "            width:  10em;\n",
       "             height:  80%;\n",
       "            background:  linear-gradient(90deg,#5fba7d 18.0%, transparent 18.0%);\n",
       "        }    #T_9fb09902_fa93_11ea_aed1_98fa9b1ad20erow72_col2 {\n",
       "            width:  10em;\n",
       "             height:  80%;\n",
       "            background:  linear-gradient(90deg,#5fba7d 18.0%, transparent 18.0%);\n",
       "        }    #T_9fb09902_fa93_11ea_aed1_98fa9b1ad20erow73_col2 {\n",
       "            width:  10em;\n",
       "             height:  80%;\n",
       "            background:  linear-gradient(90deg,#5fba7d 18.0%, transparent 18.0%);\n",
       "        }    #T_9fb09902_fa93_11ea_aed1_98fa9b1ad20erow74_col2 {\n",
       "            width:  10em;\n",
       "             height:  80%;\n",
       "            background:  linear-gradient(90deg,#5fba7d 14.9%, transparent 14.9%);\n",
       "        }    #T_9fb09902_fa93_11ea_aed1_98fa9b1ad20erow75_col2 {\n",
       "            width:  10em;\n",
       "             height:  80%;\n",
       "            background:  linear-gradient(90deg,#5fba7d 14.9%, transparent 14.9%);\n",
       "        }    #T_9fb09902_fa93_11ea_aed1_98fa9b1ad20erow76_col2 {\n",
       "            width:  10em;\n",
       "             height:  80%;\n",
       "            background:  linear-gradient(90deg,#5fba7d 15.0%, transparent 15.0%);\n",
       "        }    #T_9fb09902_fa93_11ea_aed1_98fa9b1ad20erow77_col2 {\n",
       "            width:  10em;\n",
       "             height:  80%;\n",
       "            background:  linear-gradient(90deg,#5fba7d 15.0%, transparent 15.0%);\n",
       "        }    #T_9fb09902_fa93_11ea_aed1_98fa9b1ad20erow78_col2 {\n",
       "            width:  10em;\n",
       "             height:  80%;\n",
       "            background:  linear-gradient(90deg,#5fba7d 15.0%, transparent 15.0%);\n",
       "        }    #T_9fb09902_fa93_11ea_aed1_98fa9b1ad20erow79_col2 {\n",
       "            width:  10em;\n",
       "             height:  80%;\n",
       "            background:  linear-gradient(90deg,#5fba7d 15.0%, transparent 15.0%);\n",
       "        }    #T_9fb09902_fa93_11ea_aed1_98fa9b1ad20erow80_col2 {\n",
       "            width:  10em;\n",
       "             height:  80%;\n",
       "            background:  linear-gradient(90deg,#5fba7d 15.1%, transparent 15.1%);\n",
       "        }    #T_9fb09902_fa93_11ea_aed1_98fa9b1ad20erow81_col2 {\n",
       "            width:  10em;\n",
       "             height:  80%;\n",
       "            background:  linear-gradient(90deg,#5fba7d 15.0%, transparent 15.0%);\n",
       "        }    #T_9fb09902_fa93_11ea_aed1_98fa9b1ad20erow82_col2 {\n",
       "            width:  10em;\n",
       "             height:  80%;\n",
       "            background:  linear-gradient(90deg,#5fba7d 15.0%, transparent 15.0%);\n",
       "        }    #T_9fb09902_fa93_11ea_aed1_98fa9b1ad20erow83_col2 {\n",
       "            width:  10em;\n",
       "             height:  80%;\n",
       "            background:  linear-gradient(90deg,#5fba7d 18.0%, transparent 18.0%);\n",
       "        }    #T_9fb09902_fa93_11ea_aed1_98fa9b1ad20erow84_col2 {\n",
       "            width:  10em;\n",
       "             height:  80%;\n",
       "        }    #T_9fb09902_fa93_11ea_aed1_98fa9b1ad20erow85_col2 {\n",
       "            width:  10em;\n",
       "             height:  80%;\n",
       "            background:  linear-gradient(90deg,#5fba7d 50.0%, transparent 50.0%);\n",
       "        }    #T_9fb09902_fa93_11ea_aed1_98fa9b1ad20erow86_col2 {\n",
       "            width:  10em;\n",
       "             height:  80%;\n",
       "            background:  linear-gradient(90deg,#5fba7d 18.0%, transparent 18.0%);\n",
       "        }    #T_9fb09902_fa93_11ea_aed1_98fa9b1ad20erow87_col2 {\n",
       "            width:  10em;\n",
       "             height:  80%;\n",
       "            background:  linear-gradient(90deg,#5fba7d 18.0%, transparent 18.0%);\n",
       "        }    #T_9fb09902_fa93_11ea_aed1_98fa9b1ad20erow88_col2 {\n",
       "            width:  10em;\n",
       "             height:  80%;\n",
       "            background:  linear-gradient(90deg,#5fba7d 18.0%, transparent 18.0%);\n",
       "        }    #T_9fb09902_fa93_11ea_aed1_98fa9b1ad20erow89_col2 {\n",
       "            width:  10em;\n",
       "             height:  80%;\n",
       "            background:  linear-gradient(90deg,#5fba7d 18.0%, transparent 18.0%);\n",
       "        }    #T_9fb09902_fa93_11ea_aed1_98fa9b1ad20erow90_col2 {\n",
       "            width:  10em;\n",
       "             height:  80%;\n",
       "            background:  linear-gradient(90deg,#5fba7d 18.0%, transparent 18.0%);\n",
       "        }    #T_9fb09902_fa93_11ea_aed1_98fa9b1ad20erow91_col2 {\n",
       "            width:  10em;\n",
       "             height:  80%;\n",
       "            background:  linear-gradient(90deg,#5fba7d 14.9%, transparent 14.9%);\n",
       "        }    #T_9fb09902_fa93_11ea_aed1_98fa9b1ad20erow92_col2 {\n",
       "            width:  10em;\n",
       "             height:  80%;\n",
       "            background:  linear-gradient(90deg,#5fba7d 0.1%, transparent 0.1%);\n",
       "        }    #T_9fb09902_fa93_11ea_aed1_98fa9b1ad20erow93_col2 {\n",
       "            width:  10em;\n",
       "             height:  80%;\n",
       "            background:  linear-gradient(90deg,#5fba7d 0.1%, transparent 0.1%);\n",
       "        }    #T_9fb09902_fa93_11ea_aed1_98fa9b1ad20erow94_col2 {\n",
       "            width:  10em;\n",
       "             height:  80%;\n",
       "        }</style><table id=\"T_9fb09902_fa93_11ea_aed1_98fa9b1ad20e\" ><thead>    <tr>        <th class=\"blank level0\" ></th>        <th class=\"col_heading level0 col0\" >Boston</th>        <th class=\"col_heading level0 col1\" >Seattle</th>        <th class=\"col_heading level0 col2\" >Difference</th>    </tr></thead><tbody>\n",
       "                <tr>\n",
       "                        <th id=\"T_9fb09902_fa93_11ea_aed1_98fa9b1ad20elevel0_row0\" class=\"row_heading level0 row0\" >listing_id</th>\n",
       "                        <td id=\"T_9fb09902_fa93_11ea_aed1_98fa9b1ad20erow0_col0\" class=\"data row0 col0\" >0</td>\n",
       "                        <td id=\"T_9fb09902_fa93_11ea_aed1_98fa9b1ad20erow0_col1\" class=\"data row0 col1\" >0</td>\n",
       "                        <td id=\"T_9fb09902_fa93_11ea_aed1_98fa9b1ad20erow0_col2\" class=\"data row0 col2\" >0</td>\n",
       "            </tr>\n",
       "            <tr>\n",
       "                        <th id=\"T_9fb09902_fa93_11ea_aed1_98fa9b1ad20elevel0_row1\" class=\"row_heading level0 row1\" >listing_url</th>\n",
       "                        <td id=\"T_9fb09902_fa93_11ea_aed1_98fa9b1ad20erow1_col0\" class=\"data row1 col0\" >0.686512</td>\n",
       "                        <td id=\"T_9fb09902_fa93_11ea_aed1_98fa9b1ad20erow1_col1\" class=\"data row1 col1\" >0.510162</td>\n",
       "                        <td id=\"T_9fb09902_fa93_11ea_aed1_98fa9b1ad20erow1_col2\" class=\"data row1 col2\" >0.17635</td>\n",
       "            </tr>\n",
       "            <tr>\n",
       "                        <th id=\"T_9fb09902_fa93_11ea_aed1_98fa9b1ad20elevel0_row2\" class=\"row_heading level0 row2\" >scrape_id</th>\n",
       "                        <td id=\"T_9fb09902_fa93_11ea_aed1_98fa9b1ad20erow2_col0\" class=\"data row2 col0\" >0.686512</td>\n",
       "                        <td id=\"T_9fb09902_fa93_11ea_aed1_98fa9b1ad20erow2_col1\" class=\"data row2 col1\" >0.510162</td>\n",
       "                        <td id=\"T_9fb09902_fa93_11ea_aed1_98fa9b1ad20erow2_col2\" class=\"data row2 col2\" >0.17635</td>\n",
       "            </tr>\n",
       "            <tr>\n",
       "                        <th id=\"T_9fb09902_fa93_11ea_aed1_98fa9b1ad20elevel0_row3\" class=\"row_heading level0 row3\" >last_scraped</th>\n",
       "                        <td id=\"T_9fb09902_fa93_11ea_aed1_98fa9b1ad20erow3_col0\" class=\"data row3 col0\" >0.686512</td>\n",
       "                        <td id=\"T_9fb09902_fa93_11ea_aed1_98fa9b1ad20erow3_col1\" class=\"data row3 col1\" >0.510162</td>\n",
       "                        <td id=\"T_9fb09902_fa93_11ea_aed1_98fa9b1ad20erow3_col2\" class=\"data row3 col2\" >0.17635</td>\n",
       "            </tr>\n",
       "            <tr>\n",
       "                        <th id=\"T_9fb09902_fa93_11ea_aed1_98fa9b1ad20elevel0_row4\" class=\"row_heading level0 row4\" >name</th>\n",
       "                        <td id=\"T_9fb09902_fa93_11ea_aed1_98fa9b1ad20erow4_col0\" class=\"data row4 col0\" >0.686512</td>\n",
       "                        <td id=\"T_9fb09902_fa93_11ea_aed1_98fa9b1ad20erow4_col1\" class=\"data row4 col1\" >0.510162</td>\n",
       "                        <td id=\"T_9fb09902_fa93_11ea_aed1_98fa9b1ad20erow4_col2\" class=\"data row4 col2\" >0.17635</td>\n",
       "            </tr>\n",
       "            <tr>\n",
       "                        <th id=\"T_9fb09902_fa93_11ea_aed1_98fa9b1ad20elevel0_row5\" class=\"row_heading level0 row5\" >summary</th>\n",
       "                        <td id=\"T_9fb09902_fa93_11ea_aed1_98fa9b1ad20erow5_col0\" class=\"data row5 col0\" >0.711819</td>\n",
       "                        <td id=\"T_9fb09902_fa93_11ea_aed1_98fa9b1ad20erow5_col1\" class=\"data row5 col1\" >0.537917</td>\n",
       "                        <td id=\"T_9fb09902_fa93_11ea_aed1_98fa9b1ad20erow5_col2\" class=\"data row5 col2\" >0.173902</td>\n",
       "            </tr>\n",
       "            <tr>\n",
       "                        <th id=\"T_9fb09902_fa93_11ea_aed1_98fa9b1ad20elevel0_row6\" class=\"row_heading level0 row6\" >space</th>\n",
       "                        <td id=\"T_9fb09902_fa93_11ea_aed1_98fa9b1ad20erow6_col0\" class=\"data row6 col0\" >0.767433</td>\n",
       "                        <td id=\"T_9fb09902_fa93_11ea_aed1_98fa9b1ad20erow6_col1\" class=\"data row6 col1\" >0.588916</td>\n",
       "                        <td id=\"T_9fb09902_fa93_11ea_aed1_98fa9b1ad20erow6_col2\" class=\"data row6 col2\" >0.178517</td>\n",
       "            </tr>\n",
       "            <tr>\n",
       "                        <th id=\"T_9fb09902_fa93_11ea_aed1_98fa9b1ad20elevel0_row7\" class=\"row_heading level0 row7\" >description</th>\n",
       "                        <td id=\"T_9fb09902_fa93_11ea_aed1_98fa9b1ad20erow7_col0\" class=\"data row7 col0\" >0.686512</td>\n",
       "                        <td id=\"T_9fb09902_fa93_11ea_aed1_98fa9b1ad20erow7_col1\" class=\"data row7 col1\" >0.510162</td>\n",
       "                        <td id=\"T_9fb09902_fa93_11ea_aed1_98fa9b1ad20erow7_col2\" class=\"data row7 col2\" >0.17635</td>\n",
       "            </tr>\n",
       "            <tr>\n",
       "                        <th id=\"T_9fb09902_fa93_11ea_aed1_98fa9b1ad20elevel0_row8\" class=\"row_heading level0 row8\" >experiences_offered</th>\n",
       "                        <td id=\"T_9fb09902_fa93_11ea_aed1_98fa9b1ad20erow8_col0\" class=\"data row8 col0\" >0.686512</td>\n",
       "                        <td id=\"T_9fb09902_fa93_11ea_aed1_98fa9b1ad20erow8_col1\" class=\"data row8 col1\" >0.510162</td>\n",
       "                        <td id=\"T_9fb09902_fa93_11ea_aed1_98fa9b1ad20erow8_col2\" class=\"data row8 col2\" >0.17635</td>\n",
       "            </tr>\n",
       "            <tr>\n",
       "                        <th id=\"T_9fb09902_fa93_11ea_aed1_98fa9b1ad20elevel0_row9\" class=\"row_heading level0 row9\" >neighborhood_overview</th>\n",
       "                        <td id=\"T_9fb09902_fa93_11ea_aed1_98fa9b1ad20erow9_col0\" class=\"data row9 col0\" >0.812112</td>\n",
       "                        <td id=\"T_9fb09902_fa93_11ea_aed1_98fa9b1ad20erow9_col1\" class=\"data row9 col1\" >0.650281</td>\n",
       "                        <td id=\"T_9fb09902_fa93_11ea_aed1_98fa9b1ad20erow9_col2\" class=\"data row9 col2\" >0.161831</td>\n",
       "            </tr>\n",
       "            <tr>\n",
       "                        <th id=\"T_9fb09902_fa93_11ea_aed1_98fa9b1ad20elevel0_row10\" class=\"row_heading level0 row10\" >notes</th>\n",
       "                        <td id=\"T_9fb09902_fa93_11ea_aed1_98fa9b1ad20erow10_col0\" class=\"data row10 col0\" >0.855147</td>\n",
       "                        <td id=\"T_9fb09902_fa93_11ea_aed1_98fa9b1ad20erow10_col1\" class=\"data row10 col1\" >0.72669</td>\n",
       "                        <td id=\"T_9fb09902_fa93_11ea_aed1_98fa9b1ad20erow10_col2\" class=\"data row10 col2\" >0.128456</td>\n",
       "            </tr>\n",
       "            <tr>\n",
       "                        <th id=\"T_9fb09902_fa93_11ea_aed1_98fa9b1ad20elevel0_row11\" class=\"row_heading level0 row11\" >transit</th>\n",
       "                        <td id=\"T_9fb09902_fa93_11ea_aed1_98fa9b1ad20erow11_col0\" class=\"data row11 col0\" >0.802876</td>\n",
       "                        <td id=\"T_9fb09902_fa93_11ea_aed1_98fa9b1ad20erow11_col1\" class=\"data row11 col1\" >0.633758</td>\n",
       "                        <td id=\"T_9fb09902_fa93_11ea_aed1_98fa9b1ad20erow11_col2\" class=\"data row11 col2\" >0.169119</td>\n",
       "            </tr>\n",
       "            <tr>\n",
       "                        <th id=\"T_9fb09902_fa93_11ea_aed1_98fa9b1ad20elevel0_row12\" class=\"row_heading level0 row12\" >thumbnail_url</th>\n",
       "                        <td id=\"T_9fb09902_fa93_11ea_aed1_98fa9b1ad20erow12_col0\" class=\"data row12 col0\" >0.751097</td>\n",
       "                        <td id=\"T_9fb09902_fa93_11ea_aed1_98fa9b1ad20erow12_col1\" class=\"data row12 col1\" >0.549366</td>\n",
       "                        <td id=\"T_9fb09902_fa93_11ea_aed1_98fa9b1ad20erow12_col2\" class=\"data row12 col2\" >0.201731</td>\n",
       "            </tr>\n",
       "            <tr>\n",
       "                        <th id=\"T_9fb09902_fa93_11ea_aed1_98fa9b1ad20elevel0_row13\" class=\"row_heading level0 row13\" >medium_url</th>\n",
       "                        <td id=\"T_9fb09902_fa93_11ea_aed1_98fa9b1ad20erow13_col0\" class=\"data row13 col0\" >0.751097</td>\n",
       "                        <td id=\"T_9fb09902_fa93_11ea_aed1_98fa9b1ad20erow13_col1\" class=\"data row13 col1\" >0.549366</td>\n",
       "                        <td id=\"T_9fb09902_fa93_11ea_aed1_98fa9b1ad20erow13_col2\" class=\"data row13 col2\" >0.201731</td>\n",
       "            </tr>\n",
       "            <tr>\n",
       "                        <th id=\"T_9fb09902_fa93_11ea_aed1_98fa9b1ad20elevel0_row14\" class=\"row_heading level0 row14\" >picture_url</th>\n",
       "                        <td id=\"T_9fb09902_fa93_11ea_aed1_98fa9b1ad20erow14_col0\" class=\"data row14 col0\" >0.686512</td>\n",
       "                        <td id=\"T_9fb09902_fa93_11ea_aed1_98fa9b1ad20erow14_col1\" class=\"data row14 col1\" >0.510162</td>\n",
       "                        <td id=\"T_9fb09902_fa93_11ea_aed1_98fa9b1ad20erow14_col2\" class=\"data row14 col2\" >0.17635</td>\n",
       "            </tr>\n",
       "            <tr>\n",
       "                        <th id=\"T_9fb09902_fa93_11ea_aed1_98fa9b1ad20elevel0_row15\" class=\"row_heading level0 row15\" >xl_picture_url</th>\n",
       "                        <td id=\"T_9fb09902_fa93_11ea_aed1_98fa9b1ad20erow15_col0\" class=\"data row15 col0\" >0.751097</td>\n",
       "                        <td id=\"T_9fb09902_fa93_11ea_aed1_98fa9b1ad20erow15_col1\" class=\"data row15 col1\" >0.549366</td>\n",
       "                        <td id=\"T_9fb09902_fa93_11ea_aed1_98fa9b1ad20erow15_col2\" class=\"data row15 col2\" >0.201731</td>\n",
       "            </tr>\n",
       "            <tr>\n",
       "                        <th id=\"T_9fb09902_fa93_11ea_aed1_98fa9b1ad20elevel0_row16\" class=\"row_heading level0 row16\" >host_id</th>\n",
       "                        <td id=\"T_9fb09902_fa93_11ea_aed1_98fa9b1ad20erow16_col0\" class=\"data row16 col0\" >0.686512</td>\n",
       "                        <td id=\"T_9fb09902_fa93_11ea_aed1_98fa9b1ad20erow16_col1\" class=\"data row16 col1\" >0.510162</td>\n",
       "                        <td id=\"T_9fb09902_fa93_11ea_aed1_98fa9b1ad20erow16_col2\" class=\"data row16 col2\" >0.17635</td>\n",
       "            </tr>\n",
       "            <tr>\n",
       "                        <th id=\"T_9fb09902_fa93_11ea_aed1_98fa9b1ad20elevel0_row17\" class=\"row_heading level0 row17\" >host_url</th>\n",
       "                        <td id=\"T_9fb09902_fa93_11ea_aed1_98fa9b1ad20erow17_col0\" class=\"data row17 col0\" >0.686512</td>\n",
       "                        <td id=\"T_9fb09902_fa93_11ea_aed1_98fa9b1ad20erow17_col1\" class=\"data row17 col1\" >0.510162</td>\n",
       "                        <td id=\"T_9fb09902_fa93_11ea_aed1_98fa9b1ad20erow17_col2\" class=\"data row17 col2\" >0.17635</td>\n",
       "            </tr>\n",
       "            <tr>\n",
       "                        <th id=\"T_9fb09902_fa93_11ea_aed1_98fa9b1ad20elevel0_row18\" class=\"row_heading level0 row18\" >host_name</th>\n",
       "                        <td id=\"T_9fb09902_fa93_11ea_aed1_98fa9b1ad20erow18_col0\" class=\"data row18 col0\" >0.686512</td>\n",
       "                        <td id=\"T_9fb09902_fa93_11ea_aed1_98fa9b1ad20erow18_col1\" class=\"data row18 col1\" >0.510213</td>\n",
       "                        <td id=\"T_9fb09902_fa93_11ea_aed1_98fa9b1ad20erow18_col2\" class=\"data row18 col2\" >0.176299</td>\n",
       "            </tr>\n",
       "            <tr>\n",
       "                        <th id=\"T_9fb09902_fa93_11ea_aed1_98fa9b1ad20elevel0_row19\" class=\"row_heading level0 row19\" >host_since</th>\n",
       "                        <td id=\"T_9fb09902_fa93_11ea_aed1_98fa9b1ad20erow19_col0\" class=\"data row19 col0\" >0.686512</td>\n",
       "                        <td id=\"T_9fb09902_fa93_11ea_aed1_98fa9b1ad20erow19_col1\" class=\"data row19 col1\" >0.510213</td>\n",
       "                        <td id=\"T_9fb09902_fa93_11ea_aed1_98fa9b1ad20erow19_col2\" class=\"data row19 col2\" >0.176299</td>\n",
       "            </tr>\n",
       "            <tr>\n",
       "                        <th id=\"T_9fb09902_fa93_11ea_aed1_98fa9b1ad20elevel0_row20\" class=\"row_heading level0 row20\" >host_location</th>\n",
       "                        <td id=\"T_9fb09902_fa93_11ea_aed1_98fa9b1ad20erow20_col0\" class=\"data row20 col0\" >0.687424</td>\n",
       "                        <td id=\"T_9fb09902_fa93_11ea_aed1_98fa9b1ad20erow20_col1\" class=\"data row20 col1\" >0.511104</td>\n",
       "                        <td id=\"T_9fb09902_fa93_11ea_aed1_98fa9b1ad20erow20_col2\" class=\"data row20 col2\" >0.176319</td>\n",
       "            </tr>\n",
       "            <tr>\n",
       "                        <th id=\"T_9fb09902_fa93_11ea_aed1_98fa9b1ad20elevel0_row21\" class=\"row_heading level0 row21\" >host_about</th>\n",
       "                        <td id=\"T_9fb09902_fa93_11ea_aed1_98fa9b1ad20erow21_col0\" class=\"data row21 col0\" >0.78981</td>\n",
       "                        <td id=\"T_9fb09902_fa93_11ea_aed1_98fa9b1ad20erow21_col1\" class=\"data row21 col1\" >0.625993</td>\n",
       "                        <td id=\"T_9fb09902_fa93_11ea_aed1_98fa9b1ad20erow21_col2\" class=\"data row21 col2\" >0.163816</td>\n",
       "            </tr>\n",
       "            <tr>\n",
       "                        <th id=\"T_9fb09902_fa93_11ea_aed1_98fa9b1ad20elevel0_row22\" class=\"row_heading level0 row22\" >host_response_time</th>\n",
       "                        <td id=\"T_9fb09902_fa93_11ea_aed1_98fa9b1ad20erow22_col0\" class=\"data row22 col0\" >0.701046</td>\n",
       "                        <td id=\"T_9fb09902_fa93_11ea_aed1_98fa9b1ad20erow22_col1\" class=\"data row22 col1\" >0.582442</td>\n",
       "                        <td id=\"T_9fb09902_fa93_11ea_aed1_98fa9b1ad20erow22_col2\" class=\"data row22 col2\" >0.118604</td>\n",
       "            </tr>\n",
       "            <tr>\n",
       "                        <th id=\"T_9fb09902_fa93_11ea_aed1_98fa9b1ad20elevel0_row23\" class=\"row_heading level0 row23\" >host_response_rate</th>\n",
       "                        <td id=\"T_9fb09902_fa93_11ea_aed1_98fa9b1ad20erow23_col0\" class=\"data row23 col0\" >0.701046</td>\n",
       "                        <td id=\"T_9fb09902_fa93_11ea_aed1_98fa9b1ad20erow23_col1\" class=\"data row23 col1\" >0.582442</td>\n",
       "                        <td id=\"T_9fb09902_fa93_11ea_aed1_98fa9b1ad20erow23_col2\" class=\"data row23 col2\" >0.118604</td>\n",
       "            </tr>\n",
       "            <tr>\n",
       "                        <th id=\"T_9fb09902_fa93_11ea_aed1_98fa9b1ad20elevel0_row24\" class=\"row_heading level0 row24\" >host_acceptance_rate</th>\n",
       "                        <td id=\"T_9fb09902_fa93_11ea_aed1_98fa9b1ad20erow24_col0\" class=\"data row24 col0\" >0.701046</td>\n",
       "                        <td id=\"T_9fb09902_fa93_11ea_aed1_98fa9b1ad20erow24_col1\" class=\"data row24 col1\" >0.62056</td>\n",
       "                        <td id=\"T_9fb09902_fa93_11ea_aed1_98fa9b1ad20erow24_col2\" class=\"data row24 col2\" >0.0804859</td>\n",
       "            </tr>\n",
       "            <tr>\n",
       "                        <th id=\"T_9fb09902_fa93_11ea_aed1_98fa9b1ad20elevel0_row25\" class=\"row_heading level0 row25\" >host_is_superhost</th>\n",
       "                        <td id=\"T_9fb09902_fa93_11ea_aed1_98fa9b1ad20erow25_col0\" class=\"data row25 col0\" >0.686512</td>\n",
       "                        <td id=\"T_9fb09902_fa93_11ea_aed1_98fa9b1ad20erow25_col1\" class=\"data row25 col1\" >0.510213</td>\n",
       "                        <td id=\"T_9fb09902_fa93_11ea_aed1_98fa9b1ad20erow25_col2\" class=\"data row25 col2\" >0.176299</td>\n",
       "            </tr>\n",
       "            <tr>\n",
       "                        <th id=\"T_9fb09902_fa93_11ea_aed1_98fa9b1ad20elevel0_row26\" class=\"row_heading level0 row26\" >host_thumbnail_url</th>\n",
       "                        <td id=\"T_9fb09902_fa93_11ea_aed1_98fa9b1ad20erow26_col0\" class=\"data row26 col0\" >0.686512</td>\n",
       "                        <td id=\"T_9fb09902_fa93_11ea_aed1_98fa9b1ad20erow26_col1\" class=\"data row26 col1\" >0.510213</td>\n",
       "                        <td id=\"T_9fb09902_fa93_11ea_aed1_98fa9b1ad20erow26_col2\" class=\"data row26 col2\" >0.176299</td>\n",
       "            </tr>\n",
       "            <tr>\n",
       "                        <th id=\"T_9fb09902_fa93_11ea_aed1_98fa9b1ad20elevel0_row27\" class=\"row_heading level0 row27\" >host_picture_url</th>\n",
       "                        <td id=\"T_9fb09902_fa93_11ea_aed1_98fa9b1ad20erow27_col0\" class=\"data row27 col0\" >0.686512</td>\n",
       "                        <td id=\"T_9fb09902_fa93_11ea_aed1_98fa9b1ad20erow27_col1\" class=\"data row27 col1\" >0.510213</td>\n",
       "                        <td id=\"T_9fb09902_fa93_11ea_aed1_98fa9b1ad20erow27_col2\" class=\"data row27 col2\" >0.176299</td>\n",
       "            </tr>\n",
       "            <tr>\n",
       "                        <th id=\"T_9fb09902_fa93_11ea_aed1_98fa9b1ad20elevel0_row28\" class=\"row_heading level0 row28\" >host_neighbourhood</th>\n",
       "                        <td id=\"T_9fb09902_fa93_11ea_aed1_98fa9b1ad20erow28_col0\" class=\"data row28 col0\" >0.723139</td>\n",
       "                        <td id=\"T_9fb09902_fa93_11ea_aed1_98fa9b1ad20erow28_col1\" class=\"data row28 col1\" >0.556836</td>\n",
       "                        <td id=\"T_9fb09902_fa93_11ea_aed1_98fa9b1ad20erow28_col2\" class=\"data row28 col2\" >0.166303</td>\n",
       "            </tr>\n",
       "            <tr>\n",
       "                        <th id=\"T_9fb09902_fa93_11ea_aed1_98fa9b1ad20elevel0_row29\" class=\"row_heading level0 row29\" >host_listings_count</th>\n",
       "                        <td id=\"T_9fb09902_fa93_11ea_aed1_98fa9b1ad20erow29_col0\" class=\"data row29 col0\" >0.686512</td>\n",
       "                        <td id=\"T_9fb09902_fa93_11ea_aed1_98fa9b1ad20erow29_col1\" class=\"data row29 col1\" >0.510213</td>\n",
       "                        <td id=\"T_9fb09902_fa93_11ea_aed1_98fa9b1ad20erow29_col2\" class=\"data row29 col2\" >0.176299</td>\n",
       "            </tr>\n",
       "            <tr>\n",
       "                        <th id=\"T_9fb09902_fa93_11ea_aed1_98fa9b1ad20elevel0_row30\" class=\"row_heading level0 row30\" >host_total_listings_count</th>\n",
       "                        <td id=\"T_9fb09902_fa93_11ea_aed1_98fa9b1ad20erow30_col0\" class=\"data row30 col0\" >0.686512</td>\n",
       "                        <td id=\"T_9fb09902_fa93_11ea_aed1_98fa9b1ad20erow30_col1\" class=\"data row30 col1\" >0.510213</td>\n",
       "                        <td id=\"T_9fb09902_fa93_11ea_aed1_98fa9b1ad20erow30_col2\" class=\"data row30 col2\" >0.176299</td>\n",
       "            </tr>\n",
       "            <tr>\n",
       "                        <th id=\"T_9fb09902_fa93_11ea_aed1_98fa9b1ad20elevel0_row31\" class=\"row_heading level0 row31\" >host_verifications</th>\n",
       "                        <td id=\"T_9fb09902_fa93_11ea_aed1_98fa9b1ad20erow31_col0\" class=\"data row31 col0\" >0.686512</td>\n",
       "                        <td id=\"T_9fb09902_fa93_11ea_aed1_98fa9b1ad20erow31_col1\" class=\"data row31 col1\" >0.510162</td>\n",
       "                        <td id=\"T_9fb09902_fa93_11ea_aed1_98fa9b1ad20erow31_col2\" class=\"data row31 col2\" >0.17635</td>\n",
       "            </tr>\n",
       "            <tr>\n",
       "                        <th id=\"T_9fb09902_fa93_11ea_aed1_98fa9b1ad20elevel0_row32\" class=\"row_heading level0 row32\" >host_has_profile_pic</th>\n",
       "                        <td id=\"T_9fb09902_fa93_11ea_aed1_98fa9b1ad20erow32_col0\" class=\"data row32 col0\" >0.686512</td>\n",
       "                        <td id=\"T_9fb09902_fa93_11ea_aed1_98fa9b1ad20erow32_col1\" class=\"data row32 col1\" >0.510213</td>\n",
       "                        <td id=\"T_9fb09902_fa93_11ea_aed1_98fa9b1ad20erow32_col2\" class=\"data row32 col2\" >0.176299</td>\n",
       "            </tr>\n",
       "            <tr>\n",
       "                        <th id=\"T_9fb09902_fa93_11ea_aed1_98fa9b1ad20elevel0_row33\" class=\"row_heading level0 row33\" >host_identity_verified</th>\n",
       "                        <td id=\"T_9fb09902_fa93_11ea_aed1_98fa9b1ad20erow33_col0\" class=\"data row33 col0\" >0.686512</td>\n",
       "                        <td id=\"T_9fb09902_fa93_11ea_aed1_98fa9b1ad20erow33_col1\" class=\"data row33 col1\" >0.510213</td>\n",
       "                        <td id=\"T_9fb09902_fa93_11ea_aed1_98fa9b1ad20erow33_col2\" class=\"data row33 col2\" >0.176299</td>\n",
       "            </tr>\n",
       "            <tr>\n",
       "                        <th id=\"T_9fb09902_fa93_11ea_aed1_98fa9b1ad20elevel0_row34\" class=\"row_heading level0 row34\" >street</th>\n",
       "                        <td id=\"T_9fb09902_fa93_11ea_aed1_98fa9b1ad20erow34_col0\" class=\"data row34 col0\" >0.686512</td>\n",
       "                        <td id=\"T_9fb09902_fa93_11ea_aed1_98fa9b1ad20erow34_col1\" class=\"data row34 col1\" >0.510162</td>\n",
       "                        <td id=\"T_9fb09902_fa93_11ea_aed1_98fa9b1ad20erow34_col2\" class=\"data row34 col2\" >0.17635</td>\n",
       "            </tr>\n",
       "            <tr>\n",
       "                        <th id=\"T_9fb09902_fa93_11ea_aed1_98fa9b1ad20elevel0_row35\" class=\"row_heading level0 row35\" >neighbourhood</th>\n",
       "                        <td id=\"T_9fb09902_fa93_11ea_aed1_98fa9b1ad20erow35_col0\" class=\"data row35 col0\" >0.745251</td>\n",
       "                        <td id=\"T_9fb09902_fa93_11ea_aed1_98fa9b1ad20erow35_col1\" class=\"data row35 col1\" >0.570194</td>\n",
       "                        <td id=\"T_9fb09902_fa93_11ea_aed1_98fa9b1ad20erow35_col2\" class=\"data row35 col2\" >0.175057</td>\n",
       "            </tr>\n",
       "            <tr>\n",
       "                        <th id=\"T_9fb09902_fa93_11ea_aed1_98fa9b1ad20elevel0_row36\" class=\"row_heading level0 row36\" >neighbourhood_cleansed</th>\n",
       "                        <td id=\"T_9fb09902_fa93_11ea_aed1_98fa9b1ad20erow36_col0\" class=\"data row36 col0\" >0.686512</td>\n",
       "                        <td id=\"T_9fb09902_fa93_11ea_aed1_98fa9b1ad20erow36_col1\" class=\"data row36 col1\" >0.510162</td>\n",
       "                        <td id=\"T_9fb09902_fa93_11ea_aed1_98fa9b1ad20erow36_col2\" class=\"data row36 col2\" >0.17635</td>\n",
       "            </tr>\n",
       "            <tr>\n",
       "                        <th id=\"T_9fb09902_fa93_11ea_aed1_98fa9b1ad20elevel0_row37\" class=\"row_heading level0 row37\" >neighbourhood_group_cleansed</th>\n",
       "                        <td id=\"T_9fb09902_fa93_11ea_aed1_98fa9b1ad20erow37_col0\" class=\"data row37 col0\" >1</td>\n",
       "                        <td id=\"T_9fb09902_fa93_11ea_aed1_98fa9b1ad20erow37_col1\" class=\"data row37 col1\" >0.510162</td>\n",
       "                        <td id=\"T_9fb09902_fa93_11ea_aed1_98fa9b1ad20erow37_col2\" class=\"data row37 col2\" >0.489838</td>\n",
       "            </tr>\n",
       "            <tr>\n",
       "                        <th id=\"T_9fb09902_fa93_11ea_aed1_98fa9b1ad20elevel0_row38\" class=\"row_heading level0 row38\" >city</th>\n",
       "                        <td id=\"T_9fb09902_fa93_11ea_aed1_98fa9b1ad20erow38_col0\" class=\"data row38 col0\" >0.687067</td>\n",
       "                        <td id=\"T_9fb09902_fa93_11ea_aed1_98fa9b1ad20erow38_col1\" class=\"data row38 col1\" >0.510162</td>\n",
       "                        <td id=\"T_9fb09902_fa93_11ea_aed1_98fa9b1ad20erow38_col2\" class=\"data row38 col2\" >0.176905</td>\n",
       "            </tr>\n",
       "            <tr>\n",
       "                        <th id=\"T_9fb09902_fa93_11ea_aed1_98fa9b1ad20elevel0_row39\" class=\"row_heading level0 row39\" >state</th>\n",
       "                        <td id=\"T_9fb09902_fa93_11ea_aed1_98fa9b1ad20erow39_col0\" class=\"data row39 col0\" >0.686512</td>\n",
       "                        <td id=\"T_9fb09902_fa93_11ea_aed1_98fa9b1ad20erow39_col1\" class=\"data row39 col1\" >0.510162</td>\n",
       "                        <td id=\"T_9fb09902_fa93_11ea_aed1_98fa9b1ad20erow39_col2\" class=\"data row39 col2\" >0.17635</td>\n",
       "            </tr>\n",
       "            <tr>\n",
       "                        <th id=\"T_9fb09902_fa93_11ea_aed1_98fa9b1ad20elevel0_row40\" class=\"row_heading level0 row40\" >zipcode</th>\n",
       "                        <td id=\"T_9fb09902_fa93_11ea_aed1_98fa9b1ad20erow40_col0\" class=\"data row40 col0\" >0.688572</td>\n",
       "                        <td id=\"T_9fb09902_fa93_11ea_aed1_98fa9b1ad20erow40_col1\" class=\"data row40 col1\" >0.510842</td>\n",
       "                        <td id=\"T_9fb09902_fa93_11ea_aed1_98fa9b1ad20erow40_col2\" class=\"data row40 col2\" >0.17773</td>\n",
       "            </tr>\n",
       "            <tr>\n",
       "                        <th id=\"T_9fb09902_fa93_11ea_aed1_98fa9b1ad20elevel0_row41\" class=\"row_heading level0 row41\" >market</th>\n",
       "                        <td id=\"T_9fb09902_fa93_11ea_aed1_98fa9b1ad20erow41_col0\" class=\"data row41 col0\" >0.688072</td>\n",
       "                        <td id=\"T_9fb09902_fa93_11ea_aed1_98fa9b1ad20erow41_col1\" class=\"data row41 col1\" >0.510162</td>\n",
       "                        <td id=\"T_9fb09902_fa93_11ea_aed1_98fa9b1ad20erow41_col2\" class=\"data row41 col2\" >0.177909</td>\n",
       "            </tr>\n",
       "            <tr>\n",
       "                        <th id=\"T_9fb09902_fa93_11ea_aed1_98fa9b1ad20elevel0_row42\" class=\"row_heading level0 row42\" >smart_location</th>\n",
       "                        <td id=\"T_9fb09902_fa93_11ea_aed1_98fa9b1ad20erow42_col0\" class=\"data row42 col0\" >0.686512</td>\n",
       "                        <td id=\"T_9fb09902_fa93_11ea_aed1_98fa9b1ad20erow42_col1\" class=\"data row42 col1\" >0.510162</td>\n",
       "                        <td id=\"T_9fb09902_fa93_11ea_aed1_98fa9b1ad20erow42_col2\" class=\"data row42 col2\" >0.17635</td>\n",
       "            </tr>\n",
       "            <tr>\n",
       "                        <th id=\"T_9fb09902_fa93_11ea_aed1_98fa9b1ad20elevel0_row43\" class=\"row_heading level0 row43\" >country_code</th>\n",
       "                        <td id=\"T_9fb09902_fa93_11ea_aed1_98fa9b1ad20erow43_col0\" class=\"data row43 col0\" >0.686512</td>\n",
       "                        <td id=\"T_9fb09902_fa93_11ea_aed1_98fa9b1ad20erow43_col1\" class=\"data row43 col1\" >0.510162</td>\n",
       "                        <td id=\"T_9fb09902_fa93_11ea_aed1_98fa9b1ad20erow43_col2\" class=\"data row43 col2\" >0.17635</td>\n",
       "            </tr>\n",
       "            <tr>\n",
       "                        <th id=\"T_9fb09902_fa93_11ea_aed1_98fa9b1ad20elevel0_row44\" class=\"row_heading level0 row44\" >country</th>\n",
       "                        <td id=\"T_9fb09902_fa93_11ea_aed1_98fa9b1ad20erow44_col0\" class=\"data row44 col0\" >0.686512</td>\n",
       "                        <td id=\"T_9fb09902_fa93_11ea_aed1_98fa9b1ad20erow44_col1\" class=\"data row44 col1\" >0.510162</td>\n",
       "                        <td id=\"T_9fb09902_fa93_11ea_aed1_98fa9b1ad20erow44_col2\" class=\"data row44 col2\" >0.17635</td>\n",
       "            </tr>\n",
       "            <tr>\n",
       "                        <th id=\"T_9fb09902_fa93_11ea_aed1_98fa9b1ad20elevel0_row45\" class=\"row_heading level0 row45\" >latitude</th>\n",
       "                        <td id=\"T_9fb09902_fa93_11ea_aed1_98fa9b1ad20erow45_col0\" class=\"data row45 col0\" >0.686512</td>\n",
       "                        <td id=\"T_9fb09902_fa93_11ea_aed1_98fa9b1ad20erow45_col1\" class=\"data row45 col1\" >0.510162</td>\n",
       "                        <td id=\"T_9fb09902_fa93_11ea_aed1_98fa9b1ad20erow45_col2\" class=\"data row45 col2\" >0.17635</td>\n",
       "            </tr>\n",
       "            <tr>\n",
       "                        <th id=\"T_9fb09902_fa93_11ea_aed1_98fa9b1ad20elevel0_row46\" class=\"row_heading level0 row46\" >longitude</th>\n",
       "                        <td id=\"T_9fb09902_fa93_11ea_aed1_98fa9b1ad20erow46_col0\" class=\"data row46 col0\" >0.686512</td>\n",
       "                        <td id=\"T_9fb09902_fa93_11ea_aed1_98fa9b1ad20erow46_col1\" class=\"data row46 col1\" >0.510162</td>\n",
       "                        <td id=\"T_9fb09902_fa93_11ea_aed1_98fa9b1ad20erow46_col2\" class=\"data row46 col2\" >0.17635</td>\n",
       "            </tr>\n",
       "            <tr>\n",
       "                        <th id=\"T_9fb09902_fa93_11ea_aed1_98fa9b1ad20elevel0_row47\" class=\"row_heading level0 row47\" >is_location_exact</th>\n",
       "                        <td id=\"T_9fb09902_fa93_11ea_aed1_98fa9b1ad20erow47_col0\" class=\"data row47 col0\" >0.686512</td>\n",
       "                        <td id=\"T_9fb09902_fa93_11ea_aed1_98fa9b1ad20erow47_col1\" class=\"data row47 col1\" >0.510162</td>\n",
       "                        <td id=\"T_9fb09902_fa93_11ea_aed1_98fa9b1ad20erow47_col2\" class=\"data row47 col2\" >0.17635</td>\n",
       "            </tr>\n",
       "            <tr>\n",
       "                        <th id=\"T_9fb09902_fa93_11ea_aed1_98fa9b1ad20elevel0_row48\" class=\"row_heading level0 row48\" >property_type</th>\n",
       "                        <td id=\"T_9fb09902_fa93_11ea_aed1_98fa9b1ad20erow48_col0\" class=\"data row48 col0\" >0.686546</td>\n",
       "                        <td id=\"T_9fb09902_fa93_11ea_aed1_98fa9b1ad20erow48_col1\" class=\"data row48 col1\" >0.510384</td>\n",
       "                        <td id=\"T_9fb09902_fa93_11ea_aed1_98fa9b1ad20erow48_col2\" class=\"data row48 col2\" >0.176162</td>\n",
       "            </tr>\n",
       "            <tr>\n",
       "                        <th id=\"T_9fb09902_fa93_11ea_aed1_98fa9b1ad20elevel0_row49\" class=\"row_heading level0 row49\" >room_type</th>\n",
       "                        <td id=\"T_9fb09902_fa93_11ea_aed1_98fa9b1ad20erow49_col0\" class=\"data row49 col0\" >0.686512</td>\n",
       "                        <td id=\"T_9fb09902_fa93_11ea_aed1_98fa9b1ad20erow49_col1\" class=\"data row49 col1\" >0.510162</td>\n",
       "                        <td id=\"T_9fb09902_fa93_11ea_aed1_98fa9b1ad20erow49_col2\" class=\"data row49 col2\" >0.17635</td>\n",
       "            </tr>\n",
       "            <tr>\n",
       "                        <th id=\"T_9fb09902_fa93_11ea_aed1_98fa9b1ad20elevel0_row50\" class=\"row_heading level0 row50\" >accommodates</th>\n",
       "                        <td id=\"T_9fb09902_fa93_11ea_aed1_98fa9b1ad20erow50_col0\" class=\"data row50 col0\" >0.686512</td>\n",
       "                        <td id=\"T_9fb09902_fa93_11ea_aed1_98fa9b1ad20erow50_col1\" class=\"data row50 col1\" >0.510162</td>\n",
       "                        <td id=\"T_9fb09902_fa93_11ea_aed1_98fa9b1ad20erow50_col2\" class=\"data row50 col2\" >0.17635</td>\n",
       "            </tr>\n",
       "            <tr>\n",
       "                        <th id=\"T_9fb09902_fa93_11ea_aed1_98fa9b1ad20elevel0_row51\" class=\"row_heading level0 row51\" >bathrooms</th>\n",
       "                        <td id=\"T_9fb09902_fa93_11ea_aed1_98fa9b1ad20erow51_col0\" class=\"data row51 col0\" >0.688865</td>\n",
       "                        <td id=\"T_9fb09902_fa93_11ea_aed1_98fa9b1ad20erow51_col1\" class=\"data row51 col1\" >0.512626</td>\n",
       "                        <td id=\"T_9fb09902_fa93_11ea_aed1_98fa9b1ad20erow51_col2\" class=\"data row51 col2\" >0.176239</td>\n",
       "            </tr>\n",
       "            <tr>\n",
       "                        <th id=\"T_9fb09902_fa93_11ea_aed1_98fa9b1ad20elevel0_row52\" class=\"row_heading level0 row52\" >bedrooms</th>\n",
       "                        <td id=\"T_9fb09902_fa93_11ea_aed1_98fa9b1ad20erow52_col0\" class=\"data row52 col0\" >0.688499</td>\n",
       "                        <td id=\"T_9fb09902_fa93_11ea_aed1_98fa9b1ad20erow52_col1\" class=\"data row52 col1\" >0.51115</td>\n",
       "                        <td id=\"T_9fb09902_fa93_11ea_aed1_98fa9b1ad20erow52_col2\" class=\"data row52 col2\" >0.177349</td>\n",
       "            </tr>\n",
       "            <tr>\n",
       "                        <th id=\"T_9fb09902_fa93_11ea_aed1_98fa9b1ad20elevel0_row53\" class=\"row_heading level0 row53\" >beds</th>\n",
       "                        <td id=\"T_9fb09902_fa93_11ea_aed1_98fa9b1ad20erow53_col0\" class=\"data row53 col0\" >0.687779</td>\n",
       "                        <td id=\"T_9fb09902_fa93_11ea_aed1_98fa9b1ad20erow53_col1\" class=\"data row53 col1\" >0.510424</td>\n",
       "                        <td id=\"T_9fb09902_fa93_11ea_aed1_98fa9b1ad20erow53_col2\" class=\"data row53 col2\" >0.177355</td>\n",
       "            </tr>\n",
       "            <tr>\n",
       "                        <th id=\"T_9fb09902_fa93_11ea_aed1_98fa9b1ad20elevel0_row54\" class=\"row_heading level0 row54\" >bed_type</th>\n",
       "                        <td id=\"T_9fb09902_fa93_11ea_aed1_98fa9b1ad20erow54_col0\" class=\"data row54 col0\" >0.686512</td>\n",
       "                        <td id=\"T_9fb09902_fa93_11ea_aed1_98fa9b1ad20erow54_col1\" class=\"data row54 col1\" >0.510162</td>\n",
       "                        <td id=\"T_9fb09902_fa93_11ea_aed1_98fa9b1ad20erow54_col2\" class=\"data row54 col2\" >0.17635</td>\n",
       "            </tr>\n",
       "            <tr>\n",
       "                        <th id=\"T_9fb09902_fa93_11ea_aed1_98fa9b1ad20elevel0_row55\" class=\"row_heading level0 row55\" >amenities</th>\n",
       "                        <td id=\"T_9fb09902_fa93_11ea_aed1_98fa9b1ad20erow55_col0\" class=\"data row55 col0\" >0.686512</td>\n",
       "                        <td id=\"T_9fb09902_fa93_11ea_aed1_98fa9b1ad20erow55_col1\" class=\"data row55 col1\" >0.510162</td>\n",
       "                        <td id=\"T_9fb09902_fa93_11ea_aed1_98fa9b1ad20erow55_col2\" class=\"data row55 col2\" >0.17635</td>\n",
       "            </tr>\n",
       "            <tr>\n",
       "                        <th id=\"T_9fb09902_fa93_11ea_aed1_98fa9b1ad20elevel0_row56\" class=\"row_heading level0 row56\" >square_feet</th>\n",
       "                        <td id=\"T_9fb09902_fa93_11ea_aed1_98fa9b1ad20erow56_col0\" class=\"data row56 col0\" >0.992173</td>\n",
       "                        <td id=\"T_9fb09902_fa93_11ea_aed1_98fa9b1ad20erow56_col1\" class=\"data row56 col1\" >0.987486</td>\n",
       "                        <td id=\"T_9fb09902_fa93_11ea_aed1_98fa9b1ad20erow56_col2\" class=\"data row56 col2\" >0.00468693</td>\n",
       "            </tr>\n",
       "            <tr>\n",
       "                        <th id=\"T_9fb09902_fa93_11ea_aed1_98fa9b1ad20elevel0_row57\" class=\"row_heading level0 row57\" >price</th>\n",
       "                        <td id=\"T_9fb09902_fa93_11ea_aed1_98fa9b1ad20erow57_col0\" class=\"data row57 col0\" >0.50822</td>\n",
       "                        <td id=\"T_9fb09902_fa93_11ea_aed1_98fa9b1ad20erow57_col1\" class=\"data row57 col1\" >0.329322</td>\n",
       "                        <td id=\"T_9fb09902_fa93_11ea_aed1_98fa9b1ad20erow57_col2\" class=\"data row57 col2\" >0.178898</td>\n",
       "            </tr>\n",
       "            <tr>\n",
       "                        <th id=\"T_9fb09902_fa93_11ea_aed1_98fa9b1ad20elevel0_row58\" class=\"row_heading level0 row58\" >weekly_price</th>\n",
       "                        <td id=\"T_9fb09902_fa93_11ea_aed1_98fa9b1ad20erow58_col0\" class=\"data row58 col0\" >0.904743</td>\n",
       "                        <td id=\"T_9fb09902_fa93_11ea_aed1_98fa9b1ad20erow58_col1\" class=\"data row58 col1\" >0.729003</td>\n",
       "                        <td id=\"T_9fb09902_fa93_11ea_aed1_98fa9b1ad20erow58_col2\" class=\"data row58 col2\" >0.17574</td>\n",
       "            </tr>\n",
       "            <tr>\n",
       "                        <th id=\"T_9fb09902_fa93_11ea_aed1_98fa9b1ad20elevel0_row59\" class=\"row_heading level0 row59\" >monthly_price</th>\n",
       "                        <td id=\"T_9fb09902_fa93_11ea_aed1_98fa9b1ad20erow59_col0\" class=\"data row59 col0\" >0.90188</td>\n",
       "                        <td id=\"T_9fb09902_fa93_11ea_aed1_98fa9b1ad20erow59_col1\" class=\"data row59 col1\" >0.791811</td>\n",
       "                        <td id=\"T_9fb09902_fa93_11ea_aed1_98fa9b1ad20erow59_col2\" class=\"data row59 col2\" >0.110069</td>\n",
       "            </tr>\n",
       "            <tr>\n",
       "                        <th id=\"T_9fb09902_fa93_11ea_aed1_98fa9b1ad20elevel0_row60\" class=\"row_heading level0 row60\" >security_deposit</th>\n",
       "                        <td id=\"T_9fb09902_fa93_11ea_aed1_98fa9b1ad20erow60_col0\" class=\"data row60 col0\" >0.887265</td>\n",
       "                        <td id=\"T_9fb09902_fa93_11ea_aed1_98fa9b1ad20erow60_col1\" class=\"data row60 col1\" >0.772696</td>\n",
       "                        <td id=\"T_9fb09902_fa93_11ea_aed1_98fa9b1ad20erow60_col2\" class=\"data row60 col2\" >0.114569</td>\n",
       "            </tr>\n",
       "            <tr>\n",
       "                        <th id=\"T_9fb09902_fa93_11ea_aed1_98fa9b1ad20elevel0_row61\" class=\"row_heading level0 row61\" >cleaning_fee</th>\n",
       "                        <td id=\"T_9fb09902_fa93_11ea_aed1_98fa9b1ad20erow61_col0\" class=\"data row61 col0\" >0.789739</td>\n",
       "                        <td id=\"T_9fb09902_fa93_11ea_aed1_98fa9b1ad20erow61_col1\" class=\"data row61 col1\" >0.663976</td>\n",
       "                        <td id=\"T_9fb09902_fa93_11ea_aed1_98fa9b1ad20erow61_col2\" class=\"data row61 col2\" >0.125763</td>\n",
       "            </tr>\n",
       "            <tr>\n",
       "                        <th id=\"T_9fb09902_fa93_11ea_aed1_98fa9b1ad20elevel0_row62\" class=\"row_heading level0 row62\" >guests_included</th>\n",
       "                        <td id=\"T_9fb09902_fa93_11ea_aed1_98fa9b1ad20erow62_col0\" class=\"data row62 col0\" >0.686512</td>\n",
       "                        <td id=\"T_9fb09902_fa93_11ea_aed1_98fa9b1ad20erow62_col1\" class=\"data row62 col1\" >0.510162</td>\n",
       "                        <td id=\"T_9fb09902_fa93_11ea_aed1_98fa9b1ad20erow62_col2\" class=\"data row62 col2\" >0.17635</td>\n",
       "            </tr>\n",
       "            <tr>\n",
       "                        <th id=\"T_9fb09902_fa93_11ea_aed1_98fa9b1ad20elevel0_row63\" class=\"row_heading level0 row63\" >extra_people</th>\n",
       "                        <td id=\"T_9fb09902_fa93_11ea_aed1_98fa9b1ad20erow63_col0\" class=\"data row63 col0\" >0.686512</td>\n",
       "                        <td id=\"T_9fb09902_fa93_11ea_aed1_98fa9b1ad20erow63_col1\" class=\"data row63 col1\" >0.510162</td>\n",
       "                        <td id=\"T_9fb09902_fa93_11ea_aed1_98fa9b1ad20erow63_col2\" class=\"data row63 col2\" >0.17635</td>\n",
       "            </tr>\n",
       "            <tr>\n",
       "                        <th id=\"T_9fb09902_fa93_11ea_aed1_98fa9b1ad20elevel0_row64\" class=\"row_heading level0 row64\" >minimum_nights</th>\n",
       "                        <td id=\"T_9fb09902_fa93_11ea_aed1_98fa9b1ad20erow64_col0\" class=\"data row64 col0\" >0.686512</td>\n",
       "                        <td id=\"T_9fb09902_fa93_11ea_aed1_98fa9b1ad20erow64_col1\" class=\"data row64 col1\" >0.510162</td>\n",
       "                        <td id=\"T_9fb09902_fa93_11ea_aed1_98fa9b1ad20erow64_col2\" class=\"data row64 col2\" >0.17635</td>\n",
       "            </tr>\n",
       "            <tr>\n",
       "                        <th id=\"T_9fb09902_fa93_11ea_aed1_98fa9b1ad20elevel0_row65\" class=\"row_heading level0 row65\" >maximum_nights</th>\n",
       "                        <td id=\"T_9fb09902_fa93_11ea_aed1_98fa9b1ad20erow65_col0\" class=\"data row65 col0\" >0.686512</td>\n",
       "                        <td id=\"T_9fb09902_fa93_11ea_aed1_98fa9b1ad20erow65_col1\" class=\"data row65 col1\" >0.510162</td>\n",
       "                        <td id=\"T_9fb09902_fa93_11ea_aed1_98fa9b1ad20erow65_col2\" class=\"data row65 col2\" >0.17635</td>\n",
       "            </tr>\n",
       "            <tr>\n",
       "                        <th id=\"T_9fb09902_fa93_11ea_aed1_98fa9b1ad20elevel0_row66\" class=\"row_heading level0 row66\" >calendar_updated</th>\n",
       "                        <td id=\"T_9fb09902_fa93_11ea_aed1_98fa9b1ad20erow66_col0\" class=\"data row66 col0\" >0.686512</td>\n",
       "                        <td id=\"T_9fb09902_fa93_11ea_aed1_98fa9b1ad20erow66_col1\" class=\"data row66 col1\" >0.510162</td>\n",
       "                        <td id=\"T_9fb09902_fa93_11ea_aed1_98fa9b1ad20erow66_col2\" class=\"data row66 col2\" >0.17635</td>\n",
       "            </tr>\n",
       "            <tr>\n",
       "                        <th id=\"T_9fb09902_fa93_11ea_aed1_98fa9b1ad20elevel0_row67\" class=\"row_heading level0 row67\" >has_availability</th>\n",
       "                        <td id=\"T_9fb09902_fa93_11ea_aed1_98fa9b1ad20erow67_col0\" class=\"data row67 col0\" >1</td>\n",
       "                        <td id=\"T_9fb09902_fa93_11ea_aed1_98fa9b1ad20erow67_col1\" class=\"data row67 col1\" >0.510162</td>\n",
       "                        <td id=\"T_9fb09902_fa93_11ea_aed1_98fa9b1ad20erow67_col2\" class=\"data row67 col2\" >0.489838</td>\n",
       "            </tr>\n",
       "            <tr>\n",
       "                        <th id=\"T_9fb09902_fa93_11ea_aed1_98fa9b1ad20elevel0_row68\" class=\"row_heading level0 row68\" >availability_30</th>\n",
       "                        <td id=\"T_9fb09902_fa93_11ea_aed1_98fa9b1ad20erow68_col0\" class=\"data row68 col0\" >0.686512</td>\n",
       "                        <td id=\"T_9fb09902_fa93_11ea_aed1_98fa9b1ad20erow68_col1\" class=\"data row68 col1\" >0.510162</td>\n",
       "                        <td id=\"T_9fb09902_fa93_11ea_aed1_98fa9b1ad20erow68_col2\" class=\"data row68 col2\" >0.17635</td>\n",
       "            </tr>\n",
       "            <tr>\n",
       "                        <th id=\"T_9fb09902_fa93_11ea_aed1_98fa9b1ad20elevel0_row69\" class=\"row_heading level0 row69\" >availability_60</th>\n",
       "                        <td id=\"T_9fb09902_fa93_11ea_aed1_98fa9b1ad20erow69_col0\" class=\"data row69 col0\" >0.686512</td>\n",
       "                        <td id=\"T_9fb09902_fa93_11ea_aed1_98fa9b1ad20erow69_col1\" class=\"data row69 col1\" >0.510162</td>\n",
       "                        <td id=\"T_9fb09902_fa93_11ea_aed1_98fa9b1ad20erow69_col2\" class=\"data row69 col2\" >0.17635</td>\n",
       "            </tr>\n",
       "            <tr>\n",
       "                        <th id=\"T_9fb09902_fa93_11ea_aed1_98fa9b1ad20elevel0_row70\" class=\"row_heading level0 row70\" >availability_90</th>\n",
       "                        <td id=\"T_9fb09902_fa93_11ea_aed1_98fa9b1ad20erow70_col0\" class=\"data row70 col0\" >0.686512</td>\n",
       "                        <td id=\"T_9fb09902_fa93_11ea_aed1_98fa9b1ad20erow70_col1\" class=\"data row70 col1\" >0.510162</td>\n",
       "                        <td id=\"T_9fb09902_fa93_11ea_aed1_98fa9b1ad20erow70_col2\" class=\"data row70 col2\" >0.17635</td>\n",
       "            </tr>\n",
       "            <tr>\n",
       "                        <th id=\"T_9fb09902_fa93_11ea_aed1_98fa9b1ad20elevel0_row71\" class=\"row_heading level0 row71\" >availability_365</th>\n",
       "                        <td id=\"T_9fb09902_fa93_11ea_aed1_98fa9b1ad20erow71_col0\" class=\"data row71 col0\" >0.686512</td>\n",
       "                        <td id=\"T_9fb09902_fa93_11ea_aed1_98fa9b1ad20erow71_col1\" class=\"data row71 col1\" >0.510162</td>\n",
       "                        <td id=\"T_9fb09902_fa93_11ea_aed1_98fa9b1ad20erow71_col2\" class=\"data row71 col2\" >0.17635</td>\n",
       "            </tr>\n",
       "            <tr>\n",
       "                        <th id=\"T_9fb09902_fa93_11ea_aed1_98fa9b1ad20elevel0_row72\" class=\"row_heading level0 row72\" >calendar_last_scraped</th>\n",
       "                        <td id=\"T_9fb09902_fa93_11ea_aed1_98fa9b1ad20erow72_col0\" class=\"data row72 col0\" >0.686512</td>\n",
       "                        <td id=\"T_9fb09902_fa93_11ea_aed1_98fa9b1ad20erow72_col1\" class=\"data row72 col1\" >0.510162</td>\n",
       "                        <td id=\"T_9fb09902_fa93_11ea_aed1_98fa9b1ad20erow72_col2\" class=\"data row72 col2\" >0.17635</td>\n",
       "            </tr>\n",
       "            <tr>\n",
       "                        <th id=\"T_9fb09902_fa93_11ea_aed1_98fa9b1ad20elevel0_row73\" class=\"row_heading level0 row73\" >number_of_reviews</th>\n",
       "                        <td id=\"T_9fb09902_fa93_11ea_aed1_98fa9b1ad20erow73_col0\" class=\"data row73 col0\" >0.686512</td>\n",
       "                        <td id=\"T_9fb09902_fa93_11ea_aed1_98fa9b1ad20erow73_col1\" class=\"data row73 col1\" >0.510162</td>\n",
       "                        <td id=\"T_9fb09902_fa93_11ea_aed1_98fa9b1ad20erow73_col2\" class=\"data row73 col2\" >0.17635</td>\n",
       "            </tr>\n",
       "            <tr>\n",
       "                        <th id=\"T_9fb09902_fa93_11ea_aed1_98fa9b1ad20elevel0_row74\" class=\"row_heading level0 row74\" >first_review</th>\n",
       "                        <td id=\"T_9fb09902_fa93_11ea_aed1_98fa9b1ad20erow74_col0\" class=\"data row74 col0\" >0.742335</td>\n",
       "                        <td id=\"T_9fb09902_fa93_11ea_aed1_98fa9b1ad20erow74_col1\" class=\"data row74 col1\" >0.596485</td>\n",
       "                        <td id=\"T_9fb09902_fa93_11ea_aed1_98fa9b1ad20erow74_col2\" class=\"data row74 col2\" >0.14585</td>\n",
       "            </tr>\n",
       "            <tr>\n",
       "                        <th id=\"T_9fb09902_fa93_11ea_aed1_98fa9b1ad20elevel0_row75\" class=\"row_heading level0 row75\" >last_review</th>\n",
       "                        <td id=\"T_9fb09902_fa93_11ea_aed1_98fa9b1ad20erow75_col0\" class=\"data row75 col0\" >0.742335</td>\n",
       "                        <td id=\"T_9fb09902_fa93_11ea_aed1_98fa9b1ad20erow75_col1\" class=\"data row75 col1\" >0.596485</td>\n",
       "                        <td id=\"T_9fb09902_fa93_11ea_aed1_98fa9b1ad20erow75_col2\" class=\"data row75 col2\" >0.14585</td>\n",
       "            </tr>\n",
       "            <tr>\n",
       "                        <th id=\"T_9fb09902_fa93_11ea_aed1_98fa9b1ad20elevel0_row76\" class=\"row_heading level0 row76\" >review_scores_rating</th>\n",
       "                        <td id=\"T_9fb09902_fa93_11ea_aed1_98fa9b1ad20erow76_col0\" class=\"data row76 col0\" >0.747063</td>\n",
       "                        <td id=\"T_9fb09902_fa93_11ea_aed1_98fa9b1ad20erow76_col1\" class=\"data row76 col1\" >0.599642</td>\n",
       "                        <td id=\"T_9fb09902_fa93_11ea_aed1_98fa9b1ad20erow76_col2\" class=\"data row76 col2\" >0.147421</td>\n",
       "            </tr>\n",
       "            <tr>\n",
       "                        <th id=\"T_9fb09902_fa93_11ea_aed1_98fa9b1ad20elevel0_row77\" class=\"row_heading level0 row77\" >review_scores_accuracy</th>\n",
       "                        <td id=\"T_9fb09902_fa93_11ea_aed1_98fa9b1ad20erow77_col0\" class=\"data row77 col0\" >0.748177</td>\n",
       "                        <td id=\"T_9fb09902_fa93_11ea_aed1_98fa9b1ad20erow77_col1\" class=\"data row77 col1\" >0.600973</td>\n",
       "                        <td id=\"T_9fb09902_fa93_11ea_aed1_98fa9b1ad20erow77_col2\" class=\"data row77 col2\" >0.147204</td>\n",
       "            </tr>\n",
       "            <tr>\n",
       "                        <th id=\"T_9fb09902_fa93_11ea_aed1_98fa9b1ad20elevel0_row78\" class=\"row_heading level0 row78\" >review_scores_cleanliness</th>\n",
       "                        <td id=\"T_9fb09902_fa93_11ea_aed1_98fa9b1ad20erow78_col0\" class=\"data row78 col0\" >0.747889</td>\n",
       "                        <td id=\"T_9fb09902_fa93_11ea_aed1_98fa9b1ad20erow78_col1\" class=\"data row78 col1\" >0.600641</td>\n",
       "                        <td id=\"T_9fb09902_fa93_11ea_aed1_98fa9b1ad20erow78_col2\" class=\"data row78 col2\" >0.147248</td>\n",
       "            </tr>\n",
       "            <tr>\n",
       "                        <th id=\"T_9fb09902_fa93_11ea_aed1_98fa9b1ad20elevel0_row79\" class=\"row_heading level0 row79\" >review_scores_checkin</th>\n",
       "                        <td id=\"T_9fb09902_fa93_11ea_aed1_98fa9b1ad20erow79_col0\" class=\"data row79 col0\" >0.747891</td>\n",
       "                        <td id=\"T_9fb09902_fa93_11ea_aed1_98fa9b1ad20erow79_col1\" class=\"data row79 col1\" >0.601079</td>\n",
       "                        <td id=\"T_9fb09902_fa93_11ea_aed1_98fa9b1ad20erow79_col2\" class=\"data row79 col2\" >0.146812</td>\n",
       "            </tr>\n",
       "            <tr>\n",
       "                        <th id=\"T_9fb09902_fa93_11ea_aed1_98fa9b1ad20elevel0_row80\" class=\"row_heading level0 row80\" >review_scores_communication</th>\n",
       "                        <td id=\"T_9fb09902_fa93_11ea_aed1_98fa9b1ad20erow80_col0\" class=\"data row80 col0\" >0.747955</td>\n",
       "                        <td id=\"T_9fb09902_fa93_11ea_aed1_98fa9b1ad20erow80_col1\" class=\"data row80 col1\" >0.600327</td>\n",
       "                        <td id=\"T_9fb09902_fa93_11ea_aed1_98fa9b1ad20erow80_col2\" class=\"data row80 col2\" >0.147628</td>\n",
       "            </tr>\n",
       "            <tr>\n",
       "                        <th id=\"T_9fb09902_fa93_11ea_aed1_98fa9b1ad20elevel0_row81\" class=\"row_heading level0 row81\" >review_scores_location</th>\n",
       "                        <td id=\"T_9fb09902_fa93_11ea_aed1_98fa9b1ad20erow81_col0\" class=\"data row81 col0\" >0.747921</td>\n",
       "                        <td id=\"T_9fb09902_fa93_11ea_aed1_98fa9b1ad20erow81_col1\" class=\"data row81 col1\" >0.600596</td>\n",
       "                        <td id=\"T_9fb09902_fa93_11ea_aed1_98fa9b1ad20erow81_col2\" class=\"data row81 col2\" >0.147326</td>\n",
       "            </tr>\n",
       "            <tr>\n",
       "                        <th id=\"T_9fb09902_fa93_11ea_aed1_98fa9b1ad20elevel0_row82\" class=\"row_heading level0 row82\" >review_scores_value</th>\n",
       "                        <td id=\"T_9fb09902_fa93_11ea_aed1_98fa9b1ad20erow82_col0\" class=\"data row82 col0\" >0.747895</td>\n",
       "                        <td id=\"T_9fb09902_fa93_11ea_aed1_98fa9b1ad20erow82_col1\" class=\"data row82 col1\" >0.600666</td>\n",
       "                        <td id=\"T_9fb09902_fa93_11ea_aed1_98fa9b1ad20erow82_col2\" class=\"data row82 col2\" >0.147229</td>\n",
       "            </tr>\n",
       "            <tr>\n",
       "                        <th id=\"T_9fb09902_fa93_11ea_aed1_98fa9b1ad20elevel0_row83\" class=\"row_heading level0 row83\" >requires_license</th>\n",
       "                        <td id=\"T_9fb09902_fa93_11ea_aed1_98fa9b1ad20erow83_col0\" class=\"data row83 col0\" >0.686512</td>\n",
       "                        <td id=\"T_9fb09902_fa93_11ea_aed1_98fa9b1ad20erow83_col1\" class=\"data row83 col1\" >0.510162</td>\n",
       "                        <td id=\"T_9fb09902_fa93_11ea_aed1_98fa9b1ad20erow83_col2\" class=\"data row83 col2\" >0.17635</td>\n",
       "            </tr>\n",
       "            <tr>\n",
       "                        <th id=\"T_9fb09902_fa93_11ea_aed1_98fa9b1ad20elevel0_row84\" class=\"row_heading level0 row84\" >license</th>\n",
       "                        <td id=\"T_9fb09902_fa93_11ea_aed1_98fa9b1ad20erow84_col0\" class=\"data row84 col0\" >1</td>\n",
       "                        <td id=\"T_9fb09902_fa93_11ea_aed1_98fa9b1ad20erow84_col1\" class=\"data row84 col1\" >1</td>\n",
       "                        <td id=\"T_9fb09902_fa93_11ea_aed1_98fa9b1ad20erow84_col2\" class=\"data row84 col2\" >0</td>\n",
       "            </tr>\n",
       "            <tr>\n",
       "                        <th id=\"T_9fb09902_fa93_11ea_aed1_98fa9b1ad20elevel0_row85\" class=\"row_heading level0 row85\" >jurisdiction_names</th>\n",
       "                        <td id=\"T_9fb09902_fa93_11ea_aed1_98fa9b1ad20erow85_col0\" class=\"data row85 col0\" >1</td>\n",
       "                        <td id=\"T_9fb09902_fa93_11ea_aed1_98fa9b1ad20erow85_col1\" class=\"data row85 col1\" >0.510162</td>\n",
       "                        <td id=\"T_9fb09902_fa93_11ea_aed1_98fa9b1ad20erow85_col2\" class=\"data row85 col2\" >0.489838</td>\n",
       "            </tr>\n",
       "            <tr>\n",
       "                        <th id=\"T_9fb09902_fa93_11ea_aed1_98fa9b1ad20elevel0_row86\" class=\"row_heading level0 row86\" >instant_bookable</th>\n",
       "                        <td id=\"T_9fb09902_fa93_11ea_aed1_98fa9b1ad20erow86_col0\" class=\"data row86 col0\" >0.686512</td>\n",
       "                        <td id=\"T_9fb09902_fa93_11ea_aed1_98fa9b1ad20erow86_col1\" class=\"data row86 col1\" >0.510162</td>\n",
       "                        <td id=\"T_9fb09902_fa93_11ea_aed1_98fa9b1ad20erow86_col2\" class=\"data row86 col2\" >0.17635</td>\n",
       "            </tr>\n",
       "            <tr>\n",
       "                        <th id=\"T_9fb09902_fa93_11ea_aed1_98fa9b1ad20elevel0_row87\" class=\"row_heading level0 row87\" >cancellation_policy</th>\n",
       "                        <td id=\"T_9fb09902_fa93_11ea_aed1_98fa9b1ad20erow87_col0\" class=\"data row87 col0\" >0.686512</td>\n",
       "                        <td id=\"T_9fb09902_fa93_11ea_aed1_98fa9b1ad20erow87_col1\" class=\"data row87 col1\" >0.510162</td>\n",
       "                        <td id=\"T_9fb09902_fa93_11ea_aed1_98fa9b1ad20erow87_col2\" class=\"data row87 col2\" >0.17635</td>\n",
       "            </tr>\n",
       "            <tr>\n",
       "                        <th id=\"T_9fb09902_fa93_11ea_aed1_98fa9b1ad20elevel0_row88\" class=\"row_heading level0 row88\" >require_guest_profile_picture</th>\n",
       "                        <td id=\"T_9fb09902_fa93_11ea_aed1_98fa9b1ad20erow88_col0\" class=\"data row88 col0\" >0.686512</td>\n",
       "                        <td id=\"T_9fb09902_fa93_11ea_aed1_98fa9b1ad20erow88_col1\" class=\"data row88 col1\" >0.510162</td>\n",
       "                        <td id=\"T_9fb09902_fa93_11ea_aed1_98fa9b1ad20erow88_col2\" class=\"data row88 col2\" >0.17635</td>\n",
       "            </tr>\n",
       "            <tr>\n",
       "                        <th id=\"T_9fb09902_fa93_11ea_aed1_98fa9b1ad20elevel0_row89\" class=\"row_heading level0 row89\" >require_guest_phone_verification</th>\n",
       "                        <td id=\"T_9fb09902_fa93_11ea_aed1_98fa9b1ad20erow89_col0\" class=\"data row89 col0\" >0.686512</td>\n",
       "                        <td id=\"T_9fb09902_fa93_11ea_aed1_98fa9b1ad20erow89_col1\" class=\"data row89 col1\" >0.510162</td>\n",
       "                        <td id=\"T_9fb09902_fa93_11ea_aed1_98fa9b1ad20erow89_col2\" class=\"data row89 col2\" >0.17635</td>\n",
       "            </tr>\n",
       "            <tr>\n",
       "                        <th id=\"T_9fb09902_fa93_11ea_aed1_98fa9b1ad20elevel0_row90\" class=\"row_heading level0 row90\" >calculated_host_listings_count</th>\n",
       "                        <td id=\"T_9fb09902_fa93_11ea_aed1_98fa9b1ad20erow90_col0\" class=\"data row90 col0\" >0.686512</td>\n",
       "                        <td id=\"T_9fb09902_fa93_11ea_aed1_98fa9b1ad20erow90_col1\" class=\"data row90 col1\" >0.510162</td>\n",
       "                        <td id=\"T_9fb09902_fa93_11ea_aed1_98fa9b1ad20erow90_col2\" class=\"data row90 col2\" >0.17635</td>\n",
       "            </tr>\n",
       "            <tr>\n",
       "                        <th id=\"T_9fb09902_fa93_11ea_aed1_98fa9b1ad20elevel0_row91\" class=\"row_heading level0 row91\" >reviews_per_month</th>\n",
       "                        <td id=\"T_9fb09902_fa93_11ea_aed1_98fa9b1ad20erow91_col0\" class=\"data row91 col0\" >0.742335</td>\n",
       "                        <td id=\"T_9fb09902_fa93_11ea_aed1_98fa9b1ad20erow91_col1\" class=\"data row91 col1\" >0.596485</td>\n",
       "                        <td id=\"T_9fb09902_fa93_11ea_aed1_98fa9b1ad20erow91_col2\" class=\"data row91 col2\" >0.14585</td>\n",
       "            </tr>\n",
       "            <tr>\n",
       "                        <th id=\"T_9fb09902_fa93_11ea_aed1_98fa9b1ad20elevel0_row92\" class=\"row_heading level0 row92\" >date</th>\n",
       "                        <td id=\"T_9fb09902_fa93_11ea_aed1_98fa9b1ad20erow92_col0\" class=\"data row92 col0\" >0.000973922</td>\n",
       "                        <td id=\"T_9fb09902_fa93_11ea_aed1_98fa9b1ad20erow92_col1\" class=\"data row92 col1\" >0.000206621</td>\n",
       "                        <td id=\"T_9fb09902_fa93_11ea_aed1_98fa9b1ad20erow92_col2\" class=\"data row92 col2\" >0.000767302</td>\n",
       "            </tr>\n",
       "            <tr>\n",
       "                        <th id=\"T_9fb09902_fa93_11ea_aed1_98fa9b1ad20elevel0_row93\" class=\"row_heading level0 row93\" >available</th>\n",
       "                        <td id=\"T_9fb09902_fa93_11ea_aed1_98fa9b1ad20erow93_col0\" class=\"data row93 col0\" >0.000973922</td>\n",
       "                        <td id=\"T_9fb09902_fa93_11ea_aed1_98fa9b1ad20erow93_col1\" class=\"data row93 col1\" >0.000206621</td>\n",
       "                        <td id=\"T_9fb09902_fa93_11ea_aed1_98fa9b1ad20erow93_col2\" class=\"data row93 col2\" >0.000767302</td>\n",
       "            </tr>\n",
       "            <tr>\n",
       "                        <th id=\"T_9fb09902_fa93_11ea_aed1_98fa9b1ad20elevel0_row94\" class=\"row_heading level0 row94\" >seattle</th>\n",
       "                        <td id=\"T_9fb09902_fa93_11ea_aed1_98fa9b1ad20erow94_col0\" class=\"data row94 col0\" >0</td>\n",
       "                        <td id=\"T_9fb09902_fa93_11ea_aed1_98fa9b1ad20erow94_col1\" class=\"data row94 col1\" >0</td>\n",
       "                        <td id=\"T_9fb09902_fa93_11ea_aed1_98fa9b1ad20erow94_col2\" class=\"data row94 col2\" >0</td>\n",
       "            </tr>\n",
       "    </tbody></table>"
      ],
      "text/plain": [
       "<pandas.io.formats.style.Styler at 0x1f30666cc50>"
      ]
     },
     "execution_count": 71,
     "metadata": {},
     "output_type": "execute_result"
    }
   ],
   "source": [
    "#Compare difference in the proportion of missing values per feature by city\n",
    "\n",
    "df_mis_gro.style.bar(subset=['Difference'], width=50, align='mid', color=['#d65f5f', '#5fba7d'])\n",
    "#fig1=plt.gcf()\n",
    "#plt.savefig('difference-in-missing.png')"
   ]
  },
  {
   "cell_type": "markdown",
   "metadata": {},
   "source": [
    "> __Comment:__<br>\n",
    "    >- There are only 2 features in the joint and merged dataset of which no values are missing: `listing_id` and `seattle`.\n",
    "    >- As also observed earlier, there are no data entries for the feature `license`.\n",
    "    >- The extent of missing values is significantly different for the two cities in case of the following features:\n",
    "    >    - `neighbourhood_group_cleansed`\n",
    "    >    - `has_availability`\n",
    "    >    - `jurisdiction_names`, <br>\n",
    "    >as for Boston, there are no data entries for these fields."
   ]
  },
  {
   "cell_type": "markdown",
   "metadata": {},
   "source": [
    "#### 4.1.3) &nbsp; &nbsp; Missing value threshold vs. number of features"
   ]
  },
  {
   "cell_type": "markdown",
   "metadata": {},
   "source": [
    "##### Analyze - No. of features by missing value threshold"
   ]
  },
  {
   "cell_type": "code",
   "execution_count": 63,
   "metadata": {},
   "outputs": [],
   "source": [
    "#Calculate the number of remaining features if dropping features by proportion of missing values"
   ]
  },
  {
   "cell_type": "code",
   "execution_count": 64,
   "metadata": {},
   "outputs": [
    {
     "name": "stdout",
     "output_type": "stream",
     "text": [
      "------------ \n",
      " Time spent on task execution: \n",
      "  1 minute(s) 28.22 second(s)\n"
     ]
    }
   ],
   "source": [
    "start = time.time()\n",
    "\n",
    "#Maximum % missing\n",
    "threashold = list(range(40,100,5))\n",
    "remaining_features = []\n",
    "\n",
    "for i in threashold:\n",
    "    remaining_features.append(len(df.columns[np.sum(df.isnull())/df.shape[0] < i/100]))\n",
    "    \n",
    "threashold_divided = [i/100 for i in threashold]\n",
    "\n",
    "#Creating dataframe for visualization\n",
    "df_thr_fea = pd.DataFrame({\"threashold\":threashold_divided, \"number_of_features\": remaining_features})\n",
    "\n",
    "end = time.time()\n",
    "t = end - start\n",
    "print('------------ \\n Time spent on task execution: \\n ', int(t/60), 'minute(s)', round(t%60,2), 'second(s)')"
   ]
  },
  {
   "cell_type": "code",
   "execution_count": 65,
   "metadata": {},
   "outputs": [
    {
     "data": {
      "text/html": [
       "<div>\n",
       "<style scoped>\n",
       "    .dataframe tbody tr th:only-of-type {\n",
       "        vertical-align: middle;\n",
       "    }\n",
       "\n",
       "    .dataframe tbody tr th {\n",
       "        vertical-align: top;\n",
       "    }\n",
       "\n",
       "    .dataframe thead th {\n",
       "        text-align: right;\n",
       "    }\n",
       "</style>\n",
       "<table border=\"1\" class=\"dataframe\">\n",
       "  <thead>\n",
       "    <tr style=\"text-align: right;\">\n",
       "      <th></th>\n",
       "      <th>threashold</th>\n",
       "      <th>number_of_features</th>\n",
       "    </tr>\n",
       "  </thead>\n",
       "  <tbody>\n",
       "    <tr>\n",
       "      <th>0</th>\n",
       "      <td>0.40</td>\n",
       "      <td>4</td>\n",
       "    </tr>\n",
       "    <tr>\n",
       "      <th>1</th>\n",
       "      <td>0.45</td>\n",
       "      <td>5</td>\n",
       "    </tr>\n",
       "    <tr>\n",
       "      <th>2</th>\n",
       "      <td>0.50</td>\n",
       "      <td>5</td>\n",
       "    </tr>\n",
       "    <tr>\n",
       "      <th>3</th>\n",
       "      <td>0.55</td>\n",
       "      <td>5</td>\n",
       "    </tr>\n",
       "    <tr>\n",
       "      <th>4</th>\n",
       "      <td>0.60</td>\n",
       "      <td>62</td>\n",
       "    </tr>\n",
       "    <tr>\n",
       "      <th>5</th>\n",
       "      <td>0.65</td>\n",
       "      <td>69</td>\n",
       "    </tr>\n",
       "    <tr>\n",
       "      <th>6</th>\n",
       "      <td>0.70</td>\n",
       "      <td>82</td>\n",
       "    </tr>\n",
       "    <tr>\n",
       "      <th>7</th>\n",
       "      <td>0.75</td>\n",
       "      <td>89</td>\n",
       "    </tr>\n",
       "    <tr>\n",
       "      <th>8</th>\n",
       "      <td>0.80</td>\n",
       "      <td>90</td>\n",
       "    </tr>\n",
       "    <tr>\n",
       "      <th>9</th>\n",
       "      <td>0.85</td>\n",
       "      <td>93</td>\n",
       "    </tr>\n",
       "    <tr>\n",
       "      <th>10</th>\n",
       "      <td>0.90</td>\n",
       "      <td>93</td>\n",
       "    </tr>\n",
       "    <tr>\n",
       "      <th>11</th>\n",
       "      <td>0.95</td>\n",
       "      <td>93</td>\n",
       "    </tr>\n",
       "  </tbody>\n",
       "</table>\n",
       "</div>"
      ],
      "text/plain": [
       "    threashold  number_of_features\n",
       "0         0.40                   4\n",
       "1         0.45                   5\n",
       "2         0.50                   5\n",
       "3         0.55                   5\n",
       "4         0.60                  62\n",
       "5         0.65                  69\n",
       "6         0.70                  82\n",
       "7         0.75                  89\n",
       "8         0.80                  90\n",
       "9         0.85                  93\n",
       "10        0.90                  93\n",
       "11        0.95                  93"
      ]
     },
     "execution_count": 65,
     "metadata": {},
     "output_type": "execute_result"
    }
   ],
   "source": [
    "df_thr_fea"
   ]
  },
  {
   "cell_type": "markdown",
   "metadata": {},
   "source": [
    "##### Visualize - No. of features by missing value threshold"
   ]
  },
  {
   "cell_type": "code",
   "execution_count": 66,
   "metadata": {},
   "outputs": [
    {
     "data": {
      "image/png": "[encoded data removed]",
      "text/plain": [
       "<Figure size 720x360 with 1 Axes>"
      ]
     },
     "metadata": {
      "needs_background": "light"
     },
     "output_type": "display_data"
    }
   ],
   "source": [
    "plt.figure(figsize=(10,5))\n",
    "plt.plot(df_thr_fea['threashold'], df_thr_fea['number_of_features'])\n",
    "plt.xlabel(\"Maximum proportion of missing values\")\n",
    "plt.title(\"Number of remaining features by proportion of missing values tolerated per feature\")\n",
    "plt.ylabel('No. of remaining features')\n",
    "\n",
    "plt.savefig(\"threashold_features.png\")\n",
    "plt.show()"
   ]
  },
  {
   "cell_type": "markdown",
   "metadata": {},
   "source": [
    ">__Conclusion:__<br>\n",
    "Keeping the proportion of missing values in features below 60% would result in a vary narrow set of features available. Thus there is need for making a compromise in the proportion of missing values tolerated to keep a set of features wide enough to make some reasonable analyses on it."
   ]
  },
  {
   "cell_type": "markdown",
   "metadata": {},
   "source": [
    "#### 4.1.4) &nbsp; &nbsp; Missing values per record"
   ]
  },
  {
   "cell_type": "markdown",
   "metadata": {},
   "source": [
    "##### Analyze - missing values per record"
   ]
  },
  {
   "cell_type": "code",
   "execution_count": 68,
   "metadata": {},
   "outputs": [
    {
     "data": {
      "text/plain": [
       "count    28166.916667\n",
       "mean         0.603480\n",
       "std          0.416105\n",
       "min          0.010417\n",
       "25%          0.104167\n",
       "50%          0.937500\n",
       "75%          0.947917\n",
       "max          0.947917\n",
       "Name: missing_values, dtype: float64"
      ]
     },
     "execution_count": 68,
     "metadata": {},
     "output_type": "execute_result"
    }
   ],
   "source": [
    "#See the distribution of the proportion of missing values per row\n",
    "df['missing_values'].describe()/df.shape[1]"
   ]
  },
  {
   "cell_type": "markdown",
   "metadata": {},
   "source": [
    ">__Comment__: There is a very limited number of rows where the proportion of missing values is below 90%. It reaches somewhere between 25 and 50% of the rows."
   ]
  },
  {
   "cell_type": "markdown",
   "metadata": {},
   "source": [
    "##### Visualize - Missing values per record"
   ]
  },
  {
   "cell_type": "code",
   "execution_count": 69,
   "metadata": {
    "scrolled": false
   },
   "outputs": [
    {
     "data": {
      "image/png": "[encoded data removed]",
      "text/plain": [
       "<Figure size 1440x360 with 1 Axes>"
      ]
     },
     "metadata": {
      "needs_background": "light"
     },
     "output_type": "display_data"
    }
   ],
   "source": [
    "#Distribution of missing values per record\n",
    "\n",
    "plt.figure(figsize=(20,5))\n",
    "plt.hist(df['missing_values'], bins=25)\n",
    "plt.xlabel('Number of missing values in a record')\n",
    "plt.ylabel('Number of records')\n",
    "plt.title('Distribution of missing values per row')\n",
    "plt.savefig(\"missing_values_per_row_histogram.png\")"
   ]
  },
  {
   "cell_type": "markdown",
   "metadata": {},
   "source": [
    ">__Obbservation:__\n",
    "- There are 200,000 records at most for which almost all features contain data (missing 1-4 features / record at most)\n",
    "- There are more than 1.4 million rows in the dataset for which more than 80 out of 96 features have missing values.\n",
    "- For the remaining records, around 5 - 30 features are missing."
   ]
  },
  {
   "cell_type": "code",
   "execution_count": 70,
   "metadata": {
    "scrolled": true
   },
   "outputs": [
    {
     "data": {
      "image/png": "[encoded data removed]",
      "text/plain": [
       "<Figure size 2160x720 with 1 Axes>"
      ]
     },
     "metadata": {
      "needs_background": "light"
     },
     "output_type": "display_data"
    }
   ],
   "source": [
    "#Distribution of missing values per record by city\n",
    "\n",
    "plt.figure(figsize=(30,10))\n",
    "plt.hist(df['missing_values'][df.seattle == 0], bins=25, alpha = .5, label='Boston', color = 'darkorange')\n",
    "plt.hist(df['missing_values'][df.seattle == 1], bins=25, alpha = .6, label='Seattle', color = 'skyblue')\n",
    "plt.xlabel('Number of missing values in a record')\n",
    "plt.ylabel('Number of records')\n",
    "plt.legend(loc='upper left')\n",
    "plt.title('Distribution of missing values per row - grouped by city')\n",
    "plt.savefig(\"missing_per_record_by_city.png\")"
   ]
  },
  {
   "cell_type": "markdown",
   "metadata": {},
   "source": [
    ">__Observations:__\n",
    "- There are significant differences in the distribution of missing features per record between Boston and Seattle.\n",
    "- There are far more records, around 200,000 for Seattle which contain almost all features (vs. around 0 for Boston)\n",
    "- There are far more records, around 500,000 for Seattle which contain at least ~80 features  out of 96 (vs. less than 100,000 for Boston)\n",
    "- There are significantly more records for Boston where almost all features are missing, cca. 900,000 (vs. cca. 700,000 for Seattle)."
   ]
  },
  {
   "cell_type": "markdown",
   "metadata": {},
   "source": [
    "### 4.2) &nbsp; &nbsp; Question 2:\n",
    "Does more information provision correlate with more favorable outcomes for a host? E.g. better prices, more reviews or better review score values."
   ]
  },
  {
   "cell_type": "markdown",
   "metadata": {},
   "source": [
    ">__Assumption:__ <br> more information available makes an accommodation more attractive --> higher prices or better reviews"
   ]
  },
  {
   "cell_type": "markdown",
   "metadata": {},
   "source": [
    "#### 4.2.1) Price by number of missing values per record\n",
    "##### Analysis by visualization"
   ]
  },
  {
   "cell_type": "code",
   "execution_count": 71,
   "metadata": {
    "scrolled": true
   },
   "outputs": [
    {
     "data": {
      "image/png": "[encoded data removed]",
      "text/plain": [
       "<Figure size 432x288 with 1 Axes>"
      ]
     },
     "metadata": {
      "needs_background": "light"
     },
     "output_type": "display_data"
    }
   ],
   "source": [
    "df.plot(x = 'missing_values', y = 'price', kind = 'scatter')\n",
    "plt.title('Price by number of missing values in a record')\n",
    "plt.xlabel('Missing values per record')\n",
    "plt.ylabel('Price')\n",
    "plt.savefig(\"price_by_missing_values_per_record.png\")"
   ]
  },
  {
   "cell_type": "markdown",
   "metadata": {},
   "source": [
    ">__Comment:__<br>\n",
    "    Based on a simple visual approach, and disregarding seemingly outlier values, there is no clear correlation between the number of missing values of a record and the corresponding price level. However, there might be more relatively expensive accommodations among the ones with the most missing values."
   ]
  },
  {
   "cell_type": "markdown",
   "metadata": {},
   "source": [
    "#### 4.2.2) Number of reviews by number of missing values per record\n",
    "##### Analysis by visualization"
   ]
  },
  {
   "cell_type": "code",
   "execution_count": 72,
   "metadata": {},
   "outputs": [
    {
     "data": {
      "image/png": "[encoded data removed]",
      "text/plain": [
       "<Figure size 432x288 with 1 Axes>"
      ]
     },
     "metadata": {
      "needs_background": "light"
     },
     "output_type": "display_data"
    }
   ],
   "source": [
    "df.plot(x = 'missing_values', y = 'number_of_reviews', kind = 'scatter', color = 'mediumvioletred')\n",
    "plt.title('Number of reviews by number of missing values in a record')\n",
    "plt.xlabel('Missing values per record')\n",
    "plt.ylabel('No. of reviews')\n",
    "plt.savefig(\"no_of_reviews_by_missing_values_per_record.png\")"
   ]
  },
  {
   "cell_type": "markdown",
   "metadata": {},
   "source": [
    ">__Comment:__<br>\n",
    "    It might occur that accommodations for which less information is available online are less popular, assuming that number of reviews is a valid proxy for popularity."
   ]
  },
  {
   "cell_type": "markdown",
   "metadata": {},
   "source": [
    "#### 4.2.3) Number of reviews per month by number of missing values per record\n",
    "##### Analysis by visualization"
   ]
  },
  {
   "cell_type": "code",
   "execution_count": 73,
   "metadata": {},
   "outputs": [
    {
     "data": {
      "image/png": "[encoded data removed]",
      "text/plain": [
       "<Figure size 432x288 with 1 Axes>"
      ]
     },
     "metadata": {
      "needs_background": "light"
     },
     "output_type": "display_data"
    }
   ],
   "source": [
    "df.plot(x = 'missing_values', y = 'reviews_per_month', kind = 'scatter', color = 'green')\n",
    "plt.title('Reviews per month by number of missing values in a record')\n",
    "plt.xlabel('Missing values per record')\n",
    "plt.ylabel('No. of reviews per month')\n",
    "plt.savefig(\"no_of_reviews_per_month_by_missing_values_per_record.png\")"
   ]
  },
  {
   "cell_type": "markdown",
   "metadata": {},
   "source": [
    ">__Comment:__\n",
    "- There is seemingly no data available on reviews per month for records (accommodations) in which more than cca. 30 values are missing.\n",
    "- Interestingly, not those records receive the most review per month which have the least missing values."
   ]
  },
  {
   "cell_type": "markdown",
   "metadata": {},
   "source": [
    "#### 4.2.4) Average review score by number of missing values per record\n",
    "##### Analysis by visualization"
   ]
  },
  {
   "cell_type": "code",
   "execution_count": 74,
   "metadata": {},
   "outputs": [
    {
     "data": {
      "image/png": "[encoded data removed]",
      "text/plain": [
       "<Figure size 432x288 with 1 Axes>"
      ]
     },
     "metadata": {
      "needs_background": "light"
     },
     "output_type": "display_data"
    }
   ],
   "source": [
    "df.plot(x = 'missing_values', y = 'review_scores_value', kind = 'scatter', color = 'grey')\n",
    "plt.title('Review scores value by number of missing values in a record')\n",
    "plt.xlabel('Missing values per record')\n",
    "plt.ylabel('Review scores value')\n",
    "plt.savefig(\"review_scores_value_by_missing_values_per_record.png\")"
   ]
  },
  {
   "cell_type": "markdown",
   "metadata": {},
   "source": [
    ">__Comment:__<br>\n",
    "    There are seemingly no review scores values available in the dataset for records where are more than cca. 25 missing values in a record."
   ]
  },
  {
   "cell_type": "markdown",
   "metadata": {},
   "source": [
    "### 4.3) &nbsp; &nbsp; Question 3:\n",
    "Are there significant differences between the two cities’ apartment offers?"
   ]
  },
  {
   "cell_type": "markdown",
   "metadata": {},
   "source": [
    "#### 4.3.1) &nbsp; &nbsp; No. of unique hosts or listings\n",
    "##### Analysis without visualization"
   ]
  },
  {
   "cell_type": "code",
   "execution_count": 75,
   "metadata": {},
   "outputs": [
    {
     "name": "stdout",
     "output_type": "stream",
     "text": [
      "----------------- \n",
      " Number of unique hosts by city:\n"
     ]
    },
    {
     "data": {
      "text/plain": [
       "seattle\n",
       "0    2181\n",
       "1    2751\n",
       "Name: host_id, dtype: int64"
      ]
     },
     "execution_count": 75,
     "metadata": {},
     "output_type": "execute_result"
    }
   ],
   "source": [
    "#Number of unique hosts by city\n",
    "print ('----------------- \\n Number of unique hosts by city:')\n",
    "df.groupby('seattle')['host_id'].nunique()"
   ]
  },
  {
   "cell_type": "code",
   "execution_count": 76,
   "metadata": {},
   "outputs": [
    {
     "name": "stdout",
     "output_type": "stream",
     "text": [
      "----------------- \n",
      " Number of unique listings by city:\n"
     ]
    },
    {
     "data": {
      "text/plain": [
       "seattle\n",
       "0    3585\n",
       "1    3818\n",
       "Name: listing_id, dtype: int64"
      ]
     },
     "execution_count": 76,
     "metadata": {},
     "output_type": "execute_result"
    }
   ],
   "source": [
    "#Number of unique locations by city\n",
    "print ('----------------- \\n Number of unique listings by city:')\n",
    "df.groupby('seattle')['listing_id'].nunique()"
   ]
  },
  {
   "cell_type": "markdown",
   "metadata": {},
   "source": [
    "#### 4.3.2) &nbsp; &nbsp; Room types by city\n",
    "##### Analysis by visualization"
   ]
  },
  {
   "cell_type": "code",
   "execution_count": 77,
   "metadata": {},
   "outputs": [
    {
     "data": {
      "image/png": "[encoded data removed]",
      "text/plain": [
       "<Figure size 432x288 with 1 Axes>"
      ]
     },
     "metadata": {
      "needs_background": "light"
     },
     "output_type": "display_data"
    }
   ],
   "source": [
    "#Analysis on the dataset including large volume of missing data\n",
    "room_type_val_b = df[df.seattle == 0].room_type.value_counts()\n",
    "room_type_val_s = df[df.seattle == 1].room_type.value_counts()\n",
    "\n",
    "\n",
    "(room_type_val_b/df[df.seattle == 0].shape[0]).plot(kind=\"bar\", color='darkorange', alpha = .8);\n",
    "(room_type_val_s/df[df.seattle == 1].shape[0]).plot(kind=\"bar\", color='mediumblue', alpha = .5);\n",
    "plt.legend(['Boston', 'Seattle'])\n",
    "plt.title(\"Rooms per type by city - full dataset\");"
   ]
  },
  {
   "cell_type": "code",
   "execution_count": 78,
   "metadata": {},
   "outputs": [
    {
     "data": {
      "image/png": "[encoded data removed]",
      "text/plain": [
       "<Figure size 432x288 with 1 Axes>"
      ]
     },
     "metadata": {
      "needs_background": "light"
     },
     "output_type": "display_data"
    }
   ],
   "source": [
    "#Analysis on the dataset for which missing data was handled\n",
    "room_type_val_b = df56r[df56r.seattle == 0].room_type.value_counts()\n",
    "room_type_val_s = df56r[df56r.seattle == 1].room_type.value_counts()\n",
    "\n",
    "\n",
    "(room_type_val_b/df56r[df56r.seattle == 0].shape[0]).plot(kind=\"bar\", color='darkorange', alpha = .8);\n",
    "(room_type_val_s/df56r[df56r.seattle == 1].shape[0]).plot(kind=\"bar\", color='mediumblue', alpha = .5);\n",
    "plt.legend(['Boston', 'Seattle'])\n",
    "plt.title(\"Rooms per type by city - narrower dataset\");\n",
    "plt.savefig('rooms_per_type_by_city.png')"
   ]
  },
  {
   "cell_type": "markdown",
   "metadata": {},
   "source": [
    ">__Comment:__ In Boston, the proportion of private rooms is almost 10 percentage point larger than in Seattle. While in Seattle, the proportion of entire home/appartment and that of shared room is slightly larger than in Boston."
   ]
  },
  {
   "cell_type": "markdown",
   "metadata": {},
   "source": [
    "#### 4.3.3) &nbsp; &nbsp; Distribution of cancellation policies by city\n",
    "##### Analysis by visualization"
   ]
  },
  {
   "cell_type": "code",
   "execution_count": 79,
   "metadata": {
    "scrolled": true
   },
   "outputs": [
    {
     "data": {
      "image/png": "[encoded data removed]",
      "text/plain": [
       "<Figure size 432x288 with 1 Axes>"
      ]
     },
     "metadata": {
      "needs_background": "light"
     },
     "output_type": "display_data"
    }
   ],
   "source": [
    "#Analysis on the dataset including large volume of missing data\n",
    "cancellation_pol_b = df[df.seattle == 0].cancellation_policy.value_counts()\n",
    "cancellation_pol_s = df[df.seattle == 1].cancellation_policy.value_counts()\n",
    "\n",
    "(cancellation_pol_b/df[df.seattle == 0].shape[0]).plot(kind=\"bar\", color='darkorange', alpha = .8);\n",
    "(cancellation_pol_s/df[df.seattle == 1].shape[0]).plot(kind=\"bar\", color='mediumblue', alpha = .5);\n",
    "plt.legend(['Boston', 'Seattle'])\n",
    "plt.title(\"Cancellation policy prevalence by city - full dataset\");"
   ]
  },
  {
   "cell_type": "code",
   "execution_count": 80,
   "metadata": {},
   "outputs": [
    {
     "data": {
      "image/png": "[encoded data removed]",
      "text/plain": [
       "<Figure size 432x288 with 1 Axes>"
      ]
     },
     "metadata": {
      "needs_background": "light"
     },
     "output_type": "display_data"
    }
   ],
   "source": [
    "#Analysis on the dataset for which missing data was handled\n",
    "cancellation_pol_b = df56r[df56r.seattle == 0].cancellation_policy.value_counts()\n",
    "cancellation_pol_s = df[df.seattle == 1].cancellation_policy.value_counts()\n",
    "\n",
    "(cancellation_pol_b/df56r[df56r.seattle == 0].shape[0]).plot(kind=\"bar\", color='darkorange', alpha = .8);\n",
    "(cancellation_pol_s/df56r[df56r.seattle == 1].shape[0]).plot(kind=\"bar\", color='mediumblue', alpha = .5);\n",
    "plt.legend(['Boston', 'Seattle'])\n",
    "plt.title(\"Cancellation policy prevalence by city - narrower dataset\");\n",
    "plt.savefig('rooms_per_cancellation_policy_by_city.png')"
   ]
  },
  {
   "cell_type": "markdown",
   "metadata": {},
   "source": [
    ">__Comment:__ The proportion of flexible policy applied on cancellations is almost 10 percentage point larger in Boston than in Seattle. Both the proportion of moderate and strict policies is larger in Seattle Airbnbs than in Boston."
   ]
  },
  {
   "cell_type": "markdown",
   "metadata": {},
   "source": [
    "#### 4.3.4) &nbsp; &nbsp; Distribution of number of beds by city\n",
    "##### Analysis by visualization"
   ]
  },
  {
   "cell_type": "code",
   "execution_count": 81,
   "metadata": {},
   "outputs": [
    {
     "name": "stderr",
     "output_type": "stream",
     "text": [
      "C:\\ProgramData\\Anaconda3\\lib\\site-packages\\numpy\\lib\\histograms.py:824: RuntimeWarning: invalid value encountered in greater_equal\n",
      "  keep = (tmp_a >= first_edge)\n",
      "C:\\ProgramData\\Anaconda3\\lib\\site-packages\\numpy\\lib\\histograms.py:825: RuntimeWarning: invalid value encountered in less_equal\n",
      "  keep &= (tmp_a <= last_edge)\n"
     ]
    },
    {
     "data": {
      "image/png": "[encoded data removed]",
      "text/plain": [
       "<Figure size 720x360 with 1 Axes>"
      ]
     },
     "metadata": {
      "needs_background": "light"
     },
     "output_type": "display_data"
    }
   ],
   "source": [
    "#Distribution of appartments by number of beds - full dataset\n",
    "plt.figure(figsize=(10,5))\n",
    "plt.hist(df['beds'][df['seattle'] == 0], color='darkorange', alpha = .8, bins = 50)\n",
    "plt.hist(df['beds'][df['seattle'] == 1], color='mediumblue', alpha = .5, bins = 50)\n",
    "plt.legend(['Boston', 'Seattle'])\n",
    "plt.title(\"Distribution of appartments by number of beds and by city - full dataset\");\n",
    "plt.xlabel('Number of beds')\n",
    "plt.ylabel('Number of appartments by bed number')\n",
    "plt.savefig('no_of_beds_by_city.png')"
   ]
  },
  {
   "cell_type": "code",
   "execution_count": 82,
   "metadata": {},
   "outputs": [
    {
     "data": {
      "image/png": "[encoded data removed]",
      "text/plain": [
       "<Figure size 720x360 with 1 Axes>"
      ]
     },
     "metadata": {
      "needs_background": "light"
     },
     "output_type": "display_data"
    }
   ],
   "source": [
    "#Distribution of appartments by number of beds - narrower dataset\n",
    "plt.figure(figsize=(10,5))\n",
    "plt.hist(df56r['beds'][df56r['seattle'] == 0], color='darkorange', alpha = .8, bins = 50)\n",
    "plt.hist(df56r['beds'][df56r['seattle'] == 1], color='mediumblue', alpha = .5, bins = 50)\n",
    "plt.legend(['Boston', 'Seattle'])\n",
    "plt.title(\"Distribution of appartments by number of beds and by city - full dataset\");\n",
    "plt.xlabel('Number of beds')\n",
    "plt.ylabel('Number of appartments by bed number')\n",
    "plt.savefig('no_of_beds_by_city2.png')"
   ]
  },
  {
   "cell_type": "markdown",
   "metadata": {},
   "source": [
    ">__Comment:__ The distribution of appartments by number of beds is similar for Boston and Seattle."
   ]
  },
  {
   "cell_type": "markdown",
   "metadata": {},
   "source": [
    "#### 4.3.5) &nbsp; &nbsp; Distribution of number of reviews per listing by city\n",
    "##### Analysis by visualization"
   ]
  },
  {
   "cell_type": "code",
   "execution_count": 83,
   "metadata": {},
   "outputs": [
    {
     "data": {
      "image/png": "[encoded data removed]",
      "text/plain": [
       "<Figure size 1440x720 with 1 Axes>"
      ]
     },
     "metadata": {
      "needs_background": "light"
     },
     "output_type": "display_data"
    }
   ],
   "source": [
    "#Distribution of number of reviews received - full dataset\n",
    "plt.figure(figsize=(20,10))\n",
    "plt.hist(df['number_of_reviews'][df['seattle'] == 0], color='darkorange', alpha = .8, bins = 50)\n",
    "plt.hist(df['number_of_reviews'][df['seattle'] == 1], color='mediumblue', alpha = .5, bins = 50)\n",
    "plt.legend(['Boston', 'Seattle'])\n",
    "plt.title(\"Distribution of number of reviews per listing by city - full dataset\");\n",
    "plt.xlabel('Number of reviews recieved')\n",
    "plt.ylabel('Number of listings')\n",
    "plt.savefig('no_of_reviews_by_city.png')"
   ]
  },
  {
   "cell_type": "code",
   "execution_count": 84,
   "metadata": {},
   "outputs": [
    {
     "data": {
      "image/png": "[encoded data removed]",
      "text/plain": [
       "<Figure size 1440x720 with 1 Axes>"
      ]
     },
     "metadata": {
      "needs_background": "light"
     },
     "output_type": "display_data"
    }
   ],
   "source": [
    "#Distribution of number of reviews received - full dataset\n",
    "plt.figure(figsize=(20,10))\n",
    "plt.hist(df56r['number_of_reviews'][df56r['seattle'] == 0], color='darkorange', alpha = .8, bins = 50)\n",
    "plt.hist(df56r['number_of_reviews'][df56r['seattle'] == 1], color='mediumblue', alpha = .5, bins = 50)\n",
    "plt.legend(['Boston', 'Seattle'])\n",
    "plt.title(\"Distribution of number of reviews per listing by city - narrower dataset\");\n",
    "plt.xlabel('Number of reviews recieved')\n",
    "plt.ylabel('Number of listings')\n",
    "plt.savefig('no_of_reviews_by_city2.png')"
   ]
  },
  {
   "cell_type": "markdown",
   "metadata": {},
   "source": [
    ">__Comment:__ The distribution of appartments by number of reviews received is similar for Boston and Seattle."
   ]
  },
  {
   "cell_type": "markdown",
   "metadata": {},
   "source": [
    "#### 4.3.6) &nbsp; &nbsp; Correlation matrix heatmap\n",
    "##### Analysis by visualization"
   ]
  },
  {
   "cell_type": "code",
   "execution_count": 85,
   "metadata": {},
   "outputs": [
    {
     "data": {
      "image/png": "[encoded data removed]",
      "text/plain": [
       "<Figure size 1440x360 with 2 Axes>"
      ]
     },
     "metadata": {
      "needs_background": "light"
     },
     "output_type": "display_data"
    }
   ],
   "source": [
    "plt.figure(figsize=(20,5))\n",
    "ax = sns.heatmap(round(df56r.corr(),2), annot = True, cmap='PiYG')\n",
    "plt.title('Correlation matrix heatmap - on full dataset')\n",
    "ax.set_xticklabels(\n",
    "    ax.get_xticklabels(),\n",
    "    rotation=45,\n",
    "    horizontalalignment='right'\n",
    ");\n",
    "plt.savefig(\"heatmap_mis.png\")"
   ]
  },
  {
   "cell_type": "markdown",
   "metadata": {},
   "source": [
    ">__Comments:__<br>\n",
    "The row or column `seattle` marks the differences in correaltions by the two investigated cities. The strongest relations with the listing being from Seattle (vs. Boston) are:\n",
    "- number of missing values (as `missing_values`): listings in Seatte tend to have less missing values\n",
    "- number of available days in 30 days (as `availability_30`): listings in Seattle are more likely to be available (similar but weaker correlation stands for `availability_60`)\n",
    "- number of listings by the host (as `host_listings_count`, `host_total_listings_count`, and `calculated_host_listings_count`): for listings in Seattle, the number is typically lower."
   ]
  },
  {
   "cell_type": "markdown",
   "metadata": {},
   "source": [
    "## 5) &nbsp; &nbsp; Evaluation"
   ]
  },
  {
   "cell_type": "markdown",
   "metadata": {},
   "source": [
    "__Answers to the questions:__\n",
    "1. To which extent is data available on listings of Boston and Seattle Aribnbs? Is there a significant difference in the availability of data for the two cities?\n",
    ">- In the complete dataset the proportion of Boston and that of Seattle data are similar, around 50-50%.\n",
    ">- There are around 94 features available for both cities' datasets.\n",
    ">- The extent of missing data is very high for both cities. Beyond `listing_id`, price is the most widely available feature for the listing records although it only yields cca. 40% of all records.\n",
    ">- There are several features which are fully missing from the Boston dataset but are at least partially available for Seattle.\n",
    "2. Does more information provision correlate with more favorable outcomes for a host? E.g. better prices, more reviews or better review score values\n",
    ">- There is no clear relation between the extent of missing values and prices.\n",
    ">- The availability of data does, however, correlate with the number of reviews and the monthly number of reviews. The listings for which a large proportion (cca. > 30-50%) of the features were missing did hardly not receive any reviews. Interestingly, the largest number of reviews were achieved by listings which had a few missing data entries while the most complete records did not beat the competition.\n",
    ">- In terms of average review scores, no clear pattern could be identified.\n",
    "\n",
    "3. Are there significant differences between the two cities’ apartment offers?\n",
    ">There are some significant differences in the listings available in Boston vs. in Seattle. Among the listings offered in Boston...\n",
    ">- there is a larger proportion of private rooms\n",
    ">- cancellation policy is flexible in a larger proportion.\n",
    ">The distribution of number of beds per listing and that of the number of reviews is similar for the two cities."
   ]
  },
  {
   "cell_type": "code",
   "execution_count": 86,
   "metadata": {},
   "outputs": [
    {
     "name": "stdout",
     "output_type": "stream",
     "text": [
      "------------ \n",
      " Time spent on running the full script: \n",
      "  24 minutes 42.95 seconds\n"
     ]
    }
   ],
   "source": [
    "end_full = time.time()\n",
    "\n",
    "t = end_full - start_full\n",
    "\n",
    "print('------------ \\n Time spent on running the full script: \\n ', int(t/60), 'minutes', round(t%60,2), 'seconds')"
   ]
  }
 ],
 "metadata": {
  "kernelspec": {
   "display_name": "Python 3",
   "language": "python",
   "name": "python3"
  },
  "language_info": {
   "codemirror_mode": {
    "name": "ipython",
    "version": 3
   },
   "file_extension": ".py",
   "mimetype": "text/x-python",
   "name": "python",
   "nbconvert_exporter": "python",
   "pygments_lexer": "ipython3",
   "version": "3.7.3"
  }
 },
 "nbformat": 4,
 "nbformat_minor": 2
}
